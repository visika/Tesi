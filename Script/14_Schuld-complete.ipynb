{
 "cells": [
  {
   "cell_type": "markdown",
   "metadata": {},
   "source": [
    "## From the article"
   ]
  },
  {
   "cell_type": "markdown",
   "metadata": {},
   "source": [
    "# Implementing a distance-based classifier with a quantum interference circuit"
   ]
  },
  {
   "cell_type": "markdown",
   "metadata": {},
   "source": [
    "###  M. Schuld et al 2017 EPL 119 60002"
   ]
  },
  {
   "cell_type": "markdown",
   "metadata": {},
   "source": [
    "## Let's get the most we can from this"
   ]
  },
  {
   "cell_type": "markdown",
   "metadata": {},
   "source": [
    "# Preparing the data"
   ]
  },
  {
   "cell_type": "code",
   "execution_count": 1,
   "metadata": {},
   "outputs": [],
   "source": [
    "import numpy as np\n",
    "import pandas as pd"
   ]
  },
  {
   "cell_type": "code",
   "execution_count": 2,
   "metadata": {
    "scrolled": true
   },
   "outputs": [],
   "source": [
    "iris = pd.read_csv(\"Iris/iris.data\",header=None,names=[\"f0\",\"f1\",\"f2\",\"f3\",\"class\"])"
   ]
  },
  {
   "cell_type": "code",
   "execution_count": 3,
   "metadata": {},
   "outputs": [],
   "source": [
    "setosa = iris[iris[\"class\"] == \"Iris-setosa\"]\n",
    "versicolor = iris[iris[\"class\"] == \"Iris-versicolor\"]\n",
    "virginica = iris[iris[\"class\"] == \"Iris-virginica\"]"
   ]
  },
  {
   "cell_type": "code",
   "execution_count": 4,
   "metadata": {},
   "outputs": [],
   "source": [
    "data = pd.concat([setosa,versicolor,virginica])"
   ]
  },
  {
   "cell_type": "code",
   "execution_count": 5,
   "metadata": {},
   "outputs": [],
   "source": [
    "import matplotlib.pyplot as plt\n",
    "\n",
    "lw = 1\n",
    "\n",
    "def prePlotIris(data,x,y):\n",
    "    X = data[data[\"class\"] == \"Iris-setosa\"]\n",
    "    plt.scatter(X[x],X[y],color=\"red\",marker=\"o\",edgecolor='black', linewidth=lw,label=\"setosa\")\n",
    "    X = data[data[\"class\"] == \"Iris-versicolor\"]\n",
    "    plt.scatter(X[x],X[y],color=\"blue\",marker=\"o\",edgecolor='black', linewidth=lw,label=\"versicolor\")\n",
    "    X = data[data[\"class\"] == \"Iris-virginica\"]\n",
    "    plt.scatter(X[x],X[y],color=\"yellow\",marker=\"o\",edgecolor='black', linewidth=lw,label=\"virginica\")\n",
    "    \n",
    "    plt.xlabel('sepal length in cm')\n",
    "    plt.ylabel('sepal width in cm')\n",
    "    plt.legend(loc='upper left')\n",
    "    \n",
    "#     plt.xlim([0,8])\n",
    "#     plt.ylim([0,4.5])\n",
    "    \n",
    "def plotIris(data,x,y):\n",
    "    prePlotIris(data,x,y)\n",
    "    plt.show()\n",
    "\n",
    "def saveIris(data,x,y,saveName):\n",
    "    prePlotIris(data,x,y)\n",
    "    plt.savefig('images/'+saveName, dpi=300)"
   ]
  },
  {
   "cell_type": "code",
   "execution_count": 6,
   "metadata": {},
   "outputs": [
    {
     "data": {
      "image/png": "[encoded data removed]",
      "text/plain": [
       "<Figure size 432x288 with 1 Axes>"
      ]
     },
     "metadata": {
      "needs_background": "light"
     },
     "output_type": "display_data"
    }
   ],
   "source": [
    "plotIris(data,\"f0\",\"f1\")"
   ]
  },
  {
   "cell_type": "code",
   "execution_count": 7,
   "metadata": {},
   "outputs": [],
   "source": [
    "# saveIris(data,\"f0\",\"f1\",\"iris4features.png\")"
   ]
  },
  {
   "cell_type": "code",
   "execution_count": 8,
   "metadata": {},
   "outputs": [
    {
     "data": {
      "text/html": [
       "<div>\n",
       "<style scoped>\n",
       "    .dataframe tbody tr th:only-of-type {\n",
       "        vertical-align: middle;\n",
       "    }\n",
       "\n",
       "    .dataframe tbody tr th {\n",
       "        vertical-align: top;\n",
       "    }\n",
       "\n",
       "    .dataframe thead th {\n",
       "        text-align: right;\n",
       "    }\n",
       "</style>\n",
       "<table border=\"1\" class=\"dataframe\">\n",
       "  <thead>\n",
       "    <tr style=\"text-align: right;\">\n",
       "      <th></th>\n",
       "      <th>f0</th>\n",
       "      <th>f1</th>\n",
       "      <th>f2</th>\n",
       "      <th>f3</th>\n",
       "    </tr>\n",
       "  </thead>\n",
       "  <tbody>\n",
       "    <tr>\n",
       "      <td>count</td>\n",
       "      <td>150.000000</td>\n",
       "      <td>150.000000</td>\n",
       "      <td>150.000000</td>\n",
       "      <td>150.000000</td>\n",
       "    </tr>\n",
       "    <tr>\n",
       "      <td>mean</td>\n",
       "      <td>5.843333</td>\n",
       "      <td>3.054000</td>\n",
       "      <td>3.758667</td>\n",
       "      <td>1.198667</td>\n",
       "    </tr>\n",
       "    <tr>\n",
       "      <td>std</td>\n",
       "      <td>0.828066</td>\n",
       "      <td>0.433594</td>\n",
       "      <td>1.764420</td>\n",
       "      <td>0.763161</td>\n",
       "    </tr>\n",
       "    <tr>\n",
       "      <td>min</td>\n",
       "      <td>4.300000</td>\n",
       "      <td>2.000000</td>\n",
       "      <td>1.000000</td>\n",
       "      <td>0.100000</td>\n",
       "    </tr>\n",
       "    <tr>\n",
       "      <td>25%</td>\n",
       "      <td>5.100000</td>\n",
       "      <td>2.800000</td>\n",
       "      <td>1.600000</td>\n",
       "      <td>0.300000</td>\n",
       "    </tr>\n",
       "    <tr>\n",
       "      <td>50%</td>\n",
       "      <td>5.800000</td>\n",
       "      <td>3.000000</td>\n",
       "      <td>4.350000</td>\n",
       "      <td>1.300000</td>\n",
       "    </tr>\n",
       "    <tr>\n",
       "      <td>75%</td>\n",
       "      <td>6.400000</td>\n",
       "      <td>3.300000</td>\n",
       "      <td>5.100000</td>\n",
       "      <td>1.800000</td>\n",
       "    </tr>\n",
       "    <tr>\n",
       "      <td>max</td>\n",
       "      <td>7.900000</td>\n",
       "      <td>4.400000</td>\n",
       "      <td>6.900000</td>\n",
       "      <td>2.500000</td>\n",
       "    </tr>\n",
       "  </tbody>\n",
       "</table>\n",
       "</div>"
      ],
      "text/plain": [
       "               f0          f1          f2          f3\n",
       "count  150.000000  150.000000  150.000000  150.000000\n",
       "mean     5.843333    3.054000    3.758667    1.198667\n",
       "std      0.828066    0.433594    1.764420    0.763161\n",
       "min      4.300000    2.000000    1.000000    0.100000\n",
       "25%      5.100000    2.800000    1.600000    0.300000\n",
       "50%      5.800000    3.000000    4.350000    1.300000\n",
       "75%      6.400000    3.300000    5.100000    1.800000\n",
       "max      7.900000    4.400000    6.900000    2.500000"
      ]
     },
     "execution_count": 8,
     "metadata": {},
     "output_type": "execute_result"
    }
   ],
   "source": [
    "data.loc[:,[\"f0\",\"f1\",\"f2\",\"f3\"]].describe()"
   ]
  },
  {
   "cell_type": "code",
   "execution_count": 9,
   "metadata": {},
   "outputs": [],
   "source": [
    "from sklearn.preprocessing import StandardScaler\n",
    "scaler = StandardScaler()\n",
    "data.loc[:,[\"f0\",\"f1\",\"f2\",\"f3\"]] = scaler.fit_transform(data.loc[:,[\"f0\",\"f1\",\"f2\",\"f3\"]])"
   ]
  },
  {
   "cell_type": "code",
   "execution_count": 10,
   "metadata": {},
   "outputs": [
    {
     "data": {
      "text/html": [
       "<div>\n",
       "<style scoped>\n",
       "    .dataframe tbody tr th:only-of-type {\n",
       "        vertical-align: middle;\n",
       "    }\n",
       "\n",
       "    .dataframe tbody tr th {\n",
       "        vertical-align: top;\n",
       "    }\n",
       "\n",
       "    .dataframe thead th {\n",
       "        text-align: right;\n",
       "    }\n",
       "</style>\n",
       "<table border=\"1\" class=\"dataframe\">\n",
       "  <thead>\n",
       "    <tr style=\"text-align: right;\">\n",
       "      <th></th>\n",
       "      <th>f0</th>\n",
       "      <th>f1</th>\n",
       "      <th>f2</th>\n",
       "      <th>f3</th>\n",
       "    </tr>\n",
       "  </thead>\n",
       "  <tbody>\n",
       "    <tr>\n",
       "      <td>count</td>\n",
       "      <td>1.500000e+02</td>\n",
       "      <td>1.500000e+02</td>\n",
       "      <td>1.500000e+02</td>\n",
       "      <td>1.500000e+02</td>\n",
       "    </tr>\n",
       "    <tr>\n",
       "      <td>mean</td>\n",
       "      <td>-4.736952e-16</td>\n",
       "      <td>-6.631732e-16</td>\n",
       "      <td>3.315866e-16</td>\n",
       "      <td>-2.842171e-16</td>\n",
       "    </tr>\n",
       "    <tr>\n",
       "      <td>std</td>\n",
       "      <td>1.003350e+00</td>\n",
       "      <td>1.003350e+00</td>\n",
       "      <td>1.003350e+00</td>\n",
       "      <td>1.003350e+00</td>\n",
       "    </tr>\n",
       "    <tr>\n",
       "      <td>min</td>\n",
       "      <td>-1.870024e+00</td>\n",
       "      <td>-2.438987e+00</td>\n",
       "      <td>-1.568735e+00</td>\n",
       "      <td>-1.444450e+00</td>\n",
       "    </tr>\n",
       "    <tr>\n",
       "      <td>25%</td>\n",
       "      <td>-9.006812e-01</td>\n",
       "      <td>-5.877635e-01</td>\n",
       "      <td>-1.227541e+00</td>\n",
       "      <td>-1.181504e+00</td>\n",
       "    </tr>\n",
       "    <tr>\n",
       "      <td>50%</td>\n",
       "      <td>-5.250608e-02</td>\n",
       "      <td>-1.249576e-01</td>\n",
       "      <td>3.362659e-01</td>\n",
       "      <td>1.332259e-01</td>\n",
       "    </tr>\n",
       "    <tr>\n",
       "      <td>75%</td>\n",
       "      <td>6.745011e-01</td>\n",
       "      <td>5.692513e-01</td>\n",
       "      <td>7.627586e-01</td>\n",
       "      <td>7.905908e-01</td>\n",
       "    </tr>\n",
       "    <tr>\n",
       "      <td>max</td>\n",
       "      <td>2.492019e+00</td>\n",
       "      <td>3.114684e+00</td>\n",
       "      <td>1.786341e+00</td>\n",
       "      <td>1.710902e+00</td>\n",
       "    </tr>\n",
       "  </tbody>\n",
       "</table>\n",
       "</div>"
      ],
      "text/plain": [
       "                 f0            f1            f2            f3\n",
       "count  1.500000e+02  1.500000e+02  1.500000e+02  1.500000e+02\n",
       "mean  -4.736952e-16 -6.631732e-16  3.315866e-16 -2.842171e-16\n",
       "std    1.003350e+00  1.003350e+00  1.003350e+00  1.003350e+00\n",
       "min   -1.870024e+00 -2.438987e+00 -1.568735e+00 -1.444450e+00\n",
       "25%   -9.006812e-01 -5.877635e-01 -1.227541e+00 -1.181504e+00\n",
       "50%   -5.250608e-02 -1.249576e-01  3.362659e-01  1.332259e-01\n",
       "75%    6.745011e-01  5.692513e-01  7.627586e-01  7.905908e-01\n",
       "max    2.492019e+00  3.114684e+00  1.786341e+00  1.710902e+00"
      ]
     },
     "execution_count": 10,
     "metadata": {},
     "output_type": "execute_result"
    }
   ],
   "source": [
    "data.loc[:,[\"f0\",\"f1\",\"f2\",\"f3\"]].describe()"
   ]
  },
  {
   "cell_type": "code",
   "execution_count": 11,
   "metadata": {},
   "outputs": [
    {
     "data": {
      "image/png": "[encoded data removed]",
      "text/plain": [
       "<Figure size 432x288 with 1 Axes>"
      ]
     },
     "metadata": {
      "needs_background": "light"
     },
     "output_type": "display_data"
    }
   ],
   "source": [
    "plotIris(data,\"f0\",\"f1\")"
   ]
  },
  {
   "cell_type": "code",
   "execution_count": 12,
   "metadata": {},
   "outputs": [],
   "source": [
    "def normalize(v):\n",
    "    norm = np.linalg.norm(v)\n",
    "    if norm == 0: \n",
    "       return v\n",
    "    return v / norm"
   ]
  },
  {
   "cell_type": "code",
   "execution_count": 13,
   "metadata": {},
   "outputs": [],
   "source": [
    "for i in data.index:\n",
    "    v = [data[\"f0\"][i],data[\"f1\"][i],data[\"f2\"][i],data[\"f3\"][i]]\n",
    "    v = normalize(v)\n",
    "    data.loc[i,\"f0\"], data.loc[i,\"f1\"], data.loc[i,\"f2\"], data.loc[i,\"f3\"] = v[0], v[1], v[2], v[3]"
   ]
  },
  {
   "cell_type": "code",
   "execution_count": 14,
   "metadata": {},
   "outputs": [
    {
     "data": {
      "image/png": "[encoded data removed]",
      "text/plain": [
       "<Figure size 432x288 with 1 Axes>"
      ]
     },
     "metadata": {
      "needs_background": "light"
     },
     "output_type": "display_data"
    }
   ],
   "source": [
    "plotIris(data,\"f0\",\"f1\")"
   ]
  },
  {
   "cell_type": "code",
   "execution_count": 15,
   "metadata": {},
   "outputs": [],
   "source": [
    "# saveIris(data,\"f0\",\"f1\",\"iris4normalized.png\")"
   ]
  },
  {
   "cell_type": "code",
   "execution_count": 16,
   "metadata": {
    "scrolled": true
   },
   "outputs": [],
   "source": [
    "setosa = data[data[\"class\"]==\"Iris-setosa\"]\n",
    "versicolor = data[data[\"class\"]==\"Iris-versicolor\"]\n",
    "virginica = data[data[\"class\"]==\"Iris-virginica\"]"
   ]
  },
  {
   "cell_type": "code",
   "execution_count": 17,
   "metadata": {
    "scrolled": true
   },
   "outputs": [],
   "source": [
    "# Primi vettori dagli insiemi\n",
    "# T0 = setosa.iloc[0:10].copy()\n",
    "# T0.loc[:,\"f0\":\"f3\"] = T0.loc[:,\"f0\":\"f3\"].apply(np.arcsin)\n",
    "# T1 = versicolor.iloc[0:11].copy()\n",
    "# T1.loc[:,\"f0\":\"f3\"] = T1.loc[:,\"f0\":\"f3\"].apply(np.arcsin)\n",
    "# T2 = virginica.iloc[0:11].copy()\n",
    "# T2.loc[:,\"f0\":\"f3\"] = T2.loc[:,\"f0\":\"f3\"].apply(np.arcsin)"
   ]
  },
  {
   "cell_type": "code",
   "execution_count": 18,
   "metadata": {},
   "outputs": [],
   "source": [
    "# random_seed : int : Random number generator seed\n",
    "random_seed = 1\n",
    "rgen = np.random.RandomState(random_seed)\n",
    "def _shuffle(self, X, y):\n",
    "    \"\"\"Shuffle training data\"\"\"\n",
    "    r = self.rgen.permutation(len(y))\n",
    "    return X[r], y[r]"
   ]
  },
  {
   "cell_type": "code",
   "execution_count": 19,
   "metadata": {},
   "outputs": [],
   "source": [
    "# Vettori presi casualmente\n",
    "# Prima si crea gli array randomici completi, \n",
    "# poi li dividiamo in vettori di training ed un vettore da classificare\n",
    "randomSetosa = setosa.iloc[rgen.permutation(len(setosa.index))].copy()\n",
    "randomVersicolor = versicolor.iloc[rgen.permutation(len(versicolor.index))].copy()\n",
    "randomVirginica = virginica.iloc[rgen.permutation(len(virginica.index))].copy()\n",
    "# Applica la funzione arcoseno\n",
    "randomSetosa.loc[:,\"f0\":\"f3\"] = randomSetosa.loc[:,\"f0\":\"f3\"].apply(np.arcsin)\n",
    "randomVersicolor.loc[:,\"f0\":\"f3\"] = randomVersicolor.loc[:,\"f0\":\"f3\"].apply(np.arcsin)\n",
    "randomVirginica.loc[:,\"f0\":\"f3\"] = randomVirginica.loc[:,\"f0\":\"f3\"].apply(np.arcsin)\n",
    "# Prendi i primi n vettori per il training\n",
    "trainingSetosa = randomSetosa.iloc[:2]\n",
    "trainingVersicolor = randomVersicolor.iloc[:3]\n",
    "trainingVirginica = randomVirginica.iloc[:3]\n",
    "# Prendi il vettore successivo per l'input\n",
    "# Essendo gli insiemi casuali, anche questo è casuale, \n",
    "# ma non appartiene all'insieme di training\n",
    "inputSetosa = randomSetosa.iloc[2]\n",
    "inputVersicolor = randomVersicolor.iloc[3]\n",
    "inputVirginica = randomVirginica.iloc[3]\n",
    "# S0 = setosa.iloc[rgen.permutation(len(setosa.index))[:10]].copy()\n",
    "# S0.loc[:,\"f0\":\"f3\"] = S0.loc[:,\"f0\":\"f3\"].apply(np.arcsin)\n",
    "# S1 = versicolor.iloc[rgen.permutation(len(versicolor.index))[:11]].copy()\n",
    "# S1.loc[:,\"f0\":\"f3\"] = S1.loc[:,\"f0\":\"f3\"].apply(np.arcsin)\n",
    "# S2 = virginica.iloc[rgen.permutation(len(virginica.index))[:11]].copy()\n",
    "# S2.loc[:,\"f0\":\"f3\"] = S2.loc[:,\"f0\":\"f3\"].apply(np.arcsin)"
   ]
  },
  {
   "cell_type": "code",
   "execution_count": 20,
   "metadata": {},
   "outputs": [],
   "source": [
    "# Il training array completo è composto da elementi per ogni classe\n",
    "trainingArray = pd.concat([trainingSetosa,trainingVersicolor,trainingVirginica])\n",
    "# trainingArray.tail()"
   ]
  },
  {
   "cell_type": "code",
   "execution_count": 21,
   "metadata": {},
   "outputs": [
    {
     "data": {
      "text/plain": [
       "8"
      ]
     },
     "execution_count": 21,
     "metadata": {},
     "output_type": "execute_result"
    }
   ],
   "source": [
    "# Per 32 elementi servono \n",
    "len(trainingArray.index)"
   ]
  },
  {
   "cell_type": "code",
   "execution_count": 25,
   "metadata": {},
   "outputs": [],
   "source": [
    "# plotIris(trainingArray,\"f0\",\"f1\")"
   ]
  },
  {
   "cell_type": "code",
   "execution_count": 24,
   "metadata": {},
   "outputs": [],
   "source": [
    "# plotIris(trainingArray.append([inputVersicolor,inputSetosa,inputVirginica]),\"f0\",\"f1\")"
   ]
  },
  {
   "cell_type": "markdown",
   "metadata": {},
   "source": [
    "# Building the quantum circuit"
   ]
  },
  {
   "cell_type": "markdown",
   "metadata": {},
   "source": [
    "To store 4 features I need 2 $i$ qubits.  \n",
    "To store 3 classes I need 2 $c$ quibits.  \n",
    "To store 6 training vectors I need 3 $m$ qubits.  \n",
    "I need some ancilla qubits for the QRAM routine.  \n",
    "I need one more bit to store the conditional measurement on the rotation qubit. "
   ]
  },
  {
   "cell_type": "code",
   "execution_count": 26,
   "metadata": {},
   "outputs": [],
   "source": [
    "import qiskit\n",
    "from qiskit import IBMQ\n",
    "from qiskit import (\n",
    "    QuantumCircuit,\n",
    "    QuantumRegister,\n",
    "    ClassicalRegister,\n",
    "    execute,\n",
    "    Aer)\n",
    "from qiskit.visualization import plot_histogram\n",
    "# import qiskit.aqua.circuits.gates.controlled_ry_gates"
   ]
  },
  {
   "cell_type": "code",
   "execution_count": 28,
   "metadata": {},
   "outputs": [],
   "source": [
    "# terra-version\n",
    "# qiskit.__version__"
   ]
  },
  {
   "cell_type": "code",
   "execution_count": 30,
   "metadata": {},
   "outputs": [],
   "source": [
    "# qiskit.__qiskit_version__"
   ]
  },
  {
   "cell_type": "code",
   "execution_count": 31,
   "metadata": {},
   "outputs": [],
   "source": [
    "provider = IBMQ.load_account()"
   ]
  },
  {
   "cell_type": "code",
   "execution_count": 32,
   "metadata": {},
   "outputs": [
    {
     "name": "stdout",
     "output_type": "stream",
     "text": [
      "Available backends:\n"
     ]
    },
    {
     "data": {
      "text/plain": [
       "[<IBMQSimulator('ibmq_qasm_simulator') from IBMQ(hub='ibm-q', group='open', project='main')>,\n",
       " <IBMQBackend('ibmqx2') from IBMQ(hub='ibm-q', group='open', project='main')>,\n",
       " <IBMQBackend('ibmq_16_melbourne') from IBMQ(hub='ibm-q', group='open', project='main')>,\n",
       " <IBMQBackend('ibmq_vigo') from IBMQ(hub='ibm-q', group='open', project='main')>,\n",
       " <IBMQBackend('ibmq_ourense') from IBMQ(hub='ibm-q', group='open', project='main')>]"
      ]
     },
     "execution_count": 32,
     "metadata": {},
     "output_type": "execute_result"
    }
   ],
   "source": [
    "print(\"Available backends:\")\n",
    "provider.backends()"
   ]
  },
  {
   "cell_type": "code",
   "execution_count": 33,
   "metadata": {},
   "outputs": [],
   "source": [
    "def encodeVector(circuit,data,i,controls,rotationQubit,ancillaQubits):\n",
    "    # |00>\n",
    "    circuit.x(i)\n",
    "    circuit.mcry(data[0],controls,rotationQubit,ancillaQubits)\n",
    "    circuit.x(i)\n",
    "    \n",
    "    # |01>\n",
    "    circuit.x(i[1])\n",
    "    circuit.mcry(data[1],controls,rotationQubit,ancillaQubits)\n",
    "    circuit.x(i[1])\n",
    "    \n",
    "    # |10>\n",
    "    circuit.x(i[0])\n",
    "    circuit.mcry(data[2],controls,rotationQubit,ancillaQubits)\n",
    "    circuit.x(i[0])\n",
    "    \n",
    "    # |11>\n",
    "    circuit.mcry(data[3],controls,rotationQubit,ancillaQubits)\n",
    "\n",
    "def encodeClass(circuit,irisClass):\n",
    "    classSwitcher = {\n",
    "        \"Iris-setosa\": 0,\n",
    "        \"Iris-versicolor\": 1,\n",
    "        \"Iris-virginica\": 2\n",
    "    }\n",
    "    \n",
    "    if classSwitcher.get(irisClass) == 0:\n",
    "        circuit.x(c)\n",
    "    elif classSwitcher.get(irisClass) == 1:\n",
    "        circuit.x(c[1])\n",
    "    elif classSwitcher.get(irisClass) == 2:\n",
    "        circuit.x(c[0])\n",
    "\n",
    "def encodeIndexBitwise3(circuit,index):\n",
    "    \"\"\"\n",
    "    Encode the index of the training vectors with reason\n",
    "    \"\"\"\n",
    "    \n",
    "    zerosInIndex = index ^ 0b111\n",
    "    \n",
    "    if zerosInIndex & 0b001:\n",
    "        circuit.x(m[0])\n",
    "    if zerosInIndex & 0b010:\n",
    "        circuit.x(m[1])\n",
    "    if zerosInIndex & 0b100:\n",
    "        circuit.x(m[2])\n",
    "\n",
    "def encodeIndexBitwise6(circuit,index):\n",
    "    \"\"\"\n",
    "    Encode the index of the training vectors with reason\n",
    "    \"\"\"\n",
    "    \n",
    "    zerosInIndex = index ^ 0b111111\n",
    "    \n",
    "    if zerosInIndex & 0b000001 & len(m) >= 1: # maybe error? last & should be and\n",
    "        circuit.x(m[0])\n",
    "    if zerosInIndex & 0b000010 & len(m) >= 2:\n",
    "        circuit.x(m[1])\n",
    "    if zerosInIndex & 0b000100 & len(m) >= 3:\n",
    "        circuit.x(m[2])\n",
    "    if zerosInIndex & 0b001000 & len(m) >= 4:\n",
    "        circuit.x(m[3])\n",
    "    if zerosInIndex & 0b010000 & len(m) >= 5:\n",
    "        circuit.x(m[4])\n",
    "    if zerosInIndex & 0b100000 & len(m) >= 6:\n",
    "        circuit.x(m[5])\n",
    "\n",
    "def encodeTraining(circuit,data,i,controls,rotationQubit,ancillaQubits,c,m):\n",
    "    # Header\n",
    "    encodeClass(circuit,c)\n",
    "    encodeIndexBitwise6(circuit,m)\n",
    "    \n",
    "    # Encoder\n",
    "    encodeVector(circuit,data,i,controls,rotationQubit,ancillaQubits)\n",
    "    \n",
    "    # Footer\n",
    "    encodeClass(circuit,c)\n",
    "    encodeIndexBitwise6(circuit,m)\n",
    "\n",
    "def buildTrainingState(trainingArray):\n",
    "    \"\"\"\n",
    "    Given an array of up to 32 training vectors,\n",
    "    build the quantum superposition state. \n",
    "    \"\"\"\n",
    "    for index in range(len(trainingArray.index)):\n",
    "        trainingVector = trainingArray.iloc[index]\n",
    "        encodeTraining(circuit,trainingVector[\"f0\":\"f3\"],i,a[:]+i[:]+m[:]+c[:],r[0],q,trainingVector[\"class\"],index)"
   ]
  },
  {
   "cell_type": "code",
   "execution_count": 34,
   "metadata": {},
   "outputs": [
    {
     "data": {
      "text/plain": [
       "'0010'"
      ]
     },
     "execution_count": 34,
     "metadata": {},
     "output_type": "execute_result"
    }
   ],
   "source": [
    "format(2, '04b')"
   ]
  },
  {
   "cell_type": "code",
   "execution_count": 35,
   "metadata": {},
   "outputs": [
    {
     "data": {
      "text/plain": [
       "13"
      ]
     },
     "execution_count": 35,
     "metadata": {},
     "output_type": "execute_result"
    }
   ],
   "source": [
    "N_a = 1\n",
    "N_m = 2\n",
    "N_i = 2\n",
    "N_r = 1\n",
    "N_q = 5\n",
    "N_c = 2\n",
    "N_a + N_m + N_i + N_r + N_q + N_c"
   ]
  },
  {
   "cell_type": "code",
   "execution_count": 37,
   "metadata": {},
   "outputs": [
    {
     "data": {
      "text/plain": [
       "<qiskit.circuit.instructionset.InstructionSet at 0x7fb50632e090>"
      ]
     },
     "execution_count": 37,
     "metadata": {},
     "output_type": "execute_result"
    }
   ],
   "source": [
    "a = QuantumRegister(1, 'a') # knn ancilla\n",
    "m = QuantumRegister(2, 'm') # training vector index\n",
    "i = QuantumRegister(2, 'i') # feature index\n",
    "r = QuantumRegister(1, 'r') # rotation qubit\n",
    "q = QuantumRegister(5, 'q') # qram ancilla\n",
    "c = QuantumRegister(2, 'c') # class\n",
    "b = ClassicalRegister(4, 'bit')\n",
    "circuit = QuantumCircuit(a, m, i, r, q, c, b)\n",
    "\n",
    "circuit.h(a)\n",
    "circuit.h(m)\n",
    "circuit.h(i)\n",
    "circuit.h(c)\n",
    "\n",
    "# circuit.cry(theta, control, target)\n",
    "# circuit.mcry(theta, controls, target, ancillae)\n",
    "\n",
    "# >>> Encode the input vector >>>\n",
    "\n",
    "encodeVector(circuit, inputVersicolor, i, a[:]+i[:], r[0], q)\n",
    "\n",
    "circuit.x(a)\n",
    "\n",
    "# <<< Encode the input vector <<<\n",
    "\n",
    "# >>> Encode the training vectors >>>\n",
    "\n",
    "buildTrainingState(trainingArray)\n",
    "\n",
    "# <<< Encode the training vectors <<<\n",
    "\n",
    "circuit.measure(r, b[0])\n",
    "\n",
    "circuit.h(a)\n",
    "\n",
    "circuit.measure(a, b[1])\n",
    "circuit.measure(c[0], b[2])\n",
    "circuit.measure(c[1], b[3])\n",
    "\n",
    "# circuit.draw(output='mpl')"
   ]
  },
  {
   "cell_type": "code",
   "execution_count": 38,
   "metadata": {},
   "outputs": [
    {
     "name": "stdout",
     "output_type": "stream",
     "text": [
      "\n",
      "Total counts are: {'1101': 20, '0011': 42, '0101': 53, '1111': 26, '1011': 17, '0000': 1000, '1110': 1, '0001': 21, '1001': 44, '1000': 931, '0111': 17, '0110': 2, '0010': 1, '0100': 900, '1100': 1021}\n"
     ]
    }
   ],
   "source": [
    "simulator = Aer.get_backend('qasm_simulator')\n",
    "job = execute(circuit, simulator, shots=4096)\n",
    "result = job.result()\n",
    "counts = result.get_counts(circuit)\n",
    "print(\"\\nTotal counts are:\",counts)\n",
    "# plot_histogram(counts)"
   ]
  },
  {
   "cell_type": "code",
   "execution_count": 39,
   "metadata": {},
   "outputs": [],
   "source": [
    "# result"
   ]
  },
  {
   "cell_type": "code",
   "execution_count": 45,
   "metadata": {},
   "outputs": [
    {
     "data": {
      "text/plain": [
       "{'1001': 44, '1101': 20, '0001': 21, '0101': 53}"
      ]
     },
     "execution_count": 45,
     "metadata": {},
     "output_type": "execute_result"
    }
   ],
   "source": [
    "goodCounts = {k: counts[k] for k in counts.keys() & {'0001','0101','1001','1101'}}"
   ]
  },
  {
   "cell_type": "code",
   "execution_count": 49,
   "metadata": {},
   "outputs": [
    {
     "data": {
      "text/plain": [
       "53"
      ]
     },
     "execution_count": 49,
     "metadata": {},
     "output_type": "execute_result"
    }
   ],
   "source": [
    "goodCounts['0101']"
   ]
  },
  {
   "cell_type": "code",
   "execution_count": 54,
   "metadata": {},
   "outputs": [
    {
     "data": {
      "text/plain": [
       "'0101'"
      ]
     },
     "execution_count": 54,
     "metadata": {},
     "output_type": "execute_result"
    }
   ],
   "source": [
    "mostProbable = 0\n",
    "classification = 'undefined'\n",
    "for k in goodCounts.keys():\n",
    "    if goodCounts[k] > mostProbable:\n",
    "        classification = k\n",
    "classification"
   ]
  },
  {
   "cell_type": "code",
   "execution_count": 39,
   "metadata": {},
   "outputs": [
    {
     "data": {
      "image/png": "[encoded data removed]",
      "text/plain": [
       "<Figure size 504x360 with 1 Axes>"
      ]
     },
     "execution_count": 39,
     "metadata": {},
     "output_type": "execute_result"
    }
   ],
   "source": [
    "plot_histogram(goodCounts)#.savefig('images/multiclass_versicolor_20191015_1125.png', dpi=300)"
   ]
  },
  {
   "cell_type": "markdown",
   "metadata": {},
   "source": [
    "## Online simulator"
   ]
  },
  {
   "cell_type": "code",
   "execution_count": 113,
   "metadata": {},
   "outputs": [],
   "source": [
    "backend_hpc = provider.get_backend('ibmq_qasm_simulator', hub=None)"
   ]
  },
  {
   "cell_type": "code",
   "execution_count": 114,
   "metadata": {},
   "outputs": [],
   "source": [
    "# Number of shots to run the program (experiment);\n",
    "# maximum is 8192 shots.\n",
    "shots = 8192\n",
    "\n",
    "# Maximum number of credits to spend on executions.\n",
    "max_credits = 3\n",
    "\n",
    "job_hpc = execute(circuit, backend_hpc, shots=shots, max_credits=max_credits)"
   ]
  },
  {
   "cell_type": "code",
   "execution_count": 115,
   "metadata": {},
   "outputs": [],
   "source": [
    "result_hpc = job_hpc.result()"
   ]
  },
  {
   "cell_type": "code",
   "execution_count": 116,
   "metadata": {},
   "outputs": [
    {
     "data": {
      "image/png": "[encoded data removed]",
      "text/plain": [
       "<Figure size 504x360 with 1 Axes>"
      ]
     },
     "execution_count": 116,
     "metadata": {},
     "output_type": "execute_result"
    }
   ],
   "source": [
    "counts_hpc = result_hpc.get_counts(circuit)\n",
    "plot_histogram(counts_hpc)"
   ]
  },
  {
   "cell_type": "code",
   "execution_count": 117,
   "metadata": {},
   "outputs": [
    {
     "data": {
      "image/png": "[encoded data removed]",
      "text/plain": [
       "<Figure size 504x360 with 1 Axes>"
      ]
     },
     "execution_count": 117,
     "metadata": {},
     "output_type": "execute_result"
    }
   ],
   "source": [
    "goodCounts_hpc = {k: counts_hpc[k] for k in counts_hpc.keys() & {'0001', '0101', '1001', '1101'}}\n",
    "plot_histogram(goodCounts_hpc)"
   ]
  },
  {
   "cell_type": "markdown",
   "metadata": {},
   "source": [
    "## Real hardware\n",
    "See https://github.com/Qiskit/qiskit-iqx-tutorials/blob/master/qiskit/fundamentals/3_the_ibmq_account.ipynb"
   ]
  },
  {
   "cell_type": "code",
   "execution_count": 118,
   "metadata": {},
   "outputs": [
    {
     "name": "stdout",
     "output_type": "stream",
     "text": [
      "The best backend is ibmq_16_melbourne\n"
     ]
    }
   ],
   "source": [
    "from qiskit.providers.ibmq import least_busy\n",
    "\n",
    "large_enough_devices = provider.backends(filters=lambda x: x.configuration().n_qubits > 13 and not x.configuration().simulator)\n",
    "backend = least_busy(large_enough_devices)\n",
    "print(\"The best backend is \" + backend.name())"
   ]
  },
  {
   "cell_type": "code",
   "execution_count": 119,
   "metadata": {},
   "outputs": [
    {
     "name": "stdout",
     "output_type": "stream",
     "text": [
      "ibmq_16_melbourne 0\n"
     ]
    }
   ],
   "source": [
    "print(backend, backend.status().pending_jobs)"
   ]
  },
  {
   "cell_type": "code",
   "execution_count": null,
   "metadata": {},
   "outputs": [],
   "source": [
    "# backend.configuration()"
   ]
  },
  {
   "cell_type": "code",
   "execution_count": 127,
   "metadata": {
    "scrolled": true
   },
   "outputs": [],
   "source": [
    "from qiskit.tools.monitor import job_monitor\n",
    "# Number of shots to run the program (experiment);\n",
    "# maximum is 8192 shots.\n",
    "shots = 8192\n",
    "# Maximum number of credits to spend on executions.\n",
    "max_credits = 5\n",
    "\n",
    "job_exp = execute(circuit, backend, shots=shots, max_credits=max_credits)"
   ]
  },
  {
   "cell_type": "code",
   "execution_count": 128,
   "metadata": {
    "scrolled": true
   },
   "outputs": [
    {
     "name": "stdout",
     "output_type": "stream",
     "text": [
      "Job Status: job has successfully run\n"
     ]
    }
   ],
   "source": [
    "job_monitor(job_exp)"
   ]
  },
  {
   "cell_type": "code",
   "execution_count": 129,
   "metadata": {},
   "outputs": [],
   "source": [
    "result_exp = job_exp.result()"
   ]
  },
  {
   "cell_type": "code",
   "execution_count": 130,
   "metadata": {},
   "outputs": [],
   "source": [
    "counts_exp = result_exp.get_counts(circuit)"
   ]
  },
  {
   "cell_type": "code",
   "execution_count": 131,
   "metadata": {},
   "outputs": [],
   "source": [
    "goodCounts_exp = {k: counts_exp[k] for k in counts_exp.keys() & {'0001', '0101', '1001', '1101'}}"
   ]
  },
  {
   "cell_type": "code",
   "execution_count": 135,
   "metadata": {},
   "outputs": [
    {
     "data": {
      "image/png": "[encoded data removed]",
      "text/plain": [
       "<Figure size 504x360 with 1 Axes>"
      ]
     },
     "execution_count": 135,
     "metadata": {},
     "output_type": "execute_result"
    }
   ],
   "source": [
    "plot_histogram(goodCounts_exp)#.savefig('images/versicolor_reale_20191015_1506.png', dpi=300)"
   ]
  },
  {
   "cell_type": "code",
   "execution_count": null,
   "metadata": {},
   "outputs": [],
   "source": []
  },
  {
   "cell_type": "code",
   "execution_count": null,
   "metadata": {},
   "outputs": [],
   "source": []
  },
  {
   "cell_type": "code",
   "execution_count": null,
   "metadata": {},
   "outputs": [],
   "source": []
  },
  {
   "cell_type": "code",
   "execution_count": null,
   "metadata": {},
   "outputs": [],
   "source": []
  },
  {
   "cell_type": "code",
   "execution_count": null,
   "metadata": {},
   "outputs": [],
   "source": []
  },
  {
   "cell_type": "code",
   "execution_count": null,
   "metadata": {},
   "outputs": [],
   "source": []
  },
  {
   "cell_type": "code",
   "execution_count": null,
   "metadata": {},
   "outputs": [],
   "source": []
  },
  {
   "cell_type": "code",
   "execution_count": null,
   "metadata": {},
   "outputs": [],
   "source": []
  },
  {
   "cell_type": "code",
   "execution_count": 101,
   "metadata": {},
   "outputs": [
    {
     "data": {
      "text/plain": [
       "<JobStatus.DONE: 'job has successfully run'>"
      ]
     },
     "execution_count": 101,
     "metadata": {},
     "output_type": "execute_result"
    }
   ],
   "source": [
    "job_retrieved.status()"
   ]
  },
  {
   "cell_type": "code",
   "execution_count": 61,
   "metadata": {},
   "outputs": [],
   "source": [
    "job_exp.queue_position()"
   ]
  },
  {
   "cell_type": "code",
   "execution_count": null,
   "metadata": {},
   "outputs": [],
   "source": []
  },
  {
   "cell_type": "code",
   "execution_count": 105,
   "metadata": {},
   "outputs": [],
   "source": [
    "result_exp = job_retrieved.result()"
   ]
  },
  {
   "cell_type": "code",
   "execution_count": 126,
   "metadata": {},
   "outputs": [
    {
     "data": {
      "text/plain": [
       "Result(backend_name='ibmq_16_melbourne', backend_version='1.1.0', date=datetime.datetime(2019, 9, 13, 15, 2, 36, tzinfo=tzutc()), execution_id='495be172-d636-11e9-b8b4-60a44c62b5b4', header=Obj(backend_name='ibmq_16_melbourne', backend_version='1.0.0'), job_id='unknown', qobj_id='73807474-6cc8-4a56-aa26-8a60466bfd9c', results=[ExperimentResult(data=ExperimentResultData(counts=Obj(0x0=889, 0x1=855, 0x2=498, 0x3=485, 0x4=488, 0x5=397, 0x6=304, 0x7=232, 0x8=875, 0x9=779, 0xA=551, 0xB=505, 0xC=403, 0xD=381, 0xE=263, 0xF=287)), header=Obj(clbit_labels=[['bit', 0], ['bit', 1], ['bit', 2], ['bit', 3]], creg_sizes=[['bit', 4]], memory_slots=4, n_qubits=14, name='circuit4', qreg_sizes=[['q', 14]], qubit_labels=[['q', 0], ['q', 1], ['q', 2], ['q', 3], ['q', 4], ['q', 5], ['q', 6], ['q', 7], ['q', 8], ['q', 9], ['q', 10], ['q', 11], ['q', 12], ['q', 13]]), meas_level=2, shots=8192, success=True)], status='Successful completion', success=True)"
      ]
     },
     "execution_count": 126,
     "metadata": {},
     "output_type": "execute_result"
    }
   ],
   "source": [
    "result_exp"
   ]
  },
  {
   "cell_type": "code",
   "execution_count": 106,
   "metadata": {},
   "outputs": [],
   "source": [
    "counts_exp = result_exp.get_counts(circuit)"
   ]
  },
  {
   "cell_type": "code",
   "execution_count": 107,
   "metadata": {},
   "outputs": [
    {
     "name": "stdout",
     "output_type": "stream",
     "text": [
      "{'1100': 403, '0100': 488, '0000': 889, '1010': 551, '0010': 498, '1001': 779, '1011': 505, '0111': 232, '1111': 287, '1101': 381, '0001': 855, '0110': 304, '0011': 485, '1000': 875, '1110': 263, '0101': 397}\n"
     ]
    }
   ],
   "source": [
    "print(counts_exp)"
   ]
  },
  {
   "cell_type": "code",
   "execution_count": 108,
   "metadata": {},
   "outputs": [],
   "source": [
    "goodCounts_exp = {k: counts_exp[k] for k in counts_exp.keys() & {'0001', '0101', '1001', '1101'}}"
   ]
  },
  {
   "cell_type": "code",
   "execution_count": 111,
   "metadata": {},
   "outputs": [
    {
     "data": {
      "image/png": "[encoded data removed]",
      "text/plain": [
       "<Figure size 504x360 with 1 Axes>"
      ]
     },
     "execution_count": 111,
     "metadata": {},
     "output_type": "execute_result"
    }
   ],
   "source": [
    "plot_histogram(goodCounts_exp)#.savefig(images/setosa_reale_20190913:1716.png', dpi=300)"
   ]
  },
  {
   "cell_type": "code",
   "execution_count": 100,
   "metadata": {},
   "outputs": [],
   "source": [
    "# Riprendi un determinato ordine usando il suo id\n",
    "job_retrieved = backend.retrieve_job('5d7ba62372be470018b3953d')"
   ]
  },
  {
   "cell_type": "markdown",
   "metadata": {},
   "source": [
    "### Tempi di esecuzione\n",
    "Vedi https://quantumcomputing.stackexchange.com/a/5920/2731"
   ]
  },
  {
   "cell_type": "code",
   "execution_count": 117,
   "metadata": {},
   "outputs": [
    {
     "data": {
      "text/plain": [
       "{'counts': {'0xC': 403,\n",
       "  '0x4': 488,\n",
       "  '0x0': 889,\n",
       "  '0xA': 551,\n",
       "  '0x2': 498,\n",
       "  '0x9': 779,\n",
       "  '0xB': 505,\n",
       "  '0x7': 232,\n",
       "  '0xF': 287,\n",
       "  '0xD': 381,\n",
       "  '0x1': 855,\n",
       "  '0x6': 304,\n",
       "  '0x3': 485,\n",
       "  '0x8': 875,\n",
       "  '0xE': 263,\n",
       "  '0x5': 397}}"
      ]
     },
     "execution_count": 117,
     "metadata": {},
     "output_type": "execute_result"
    }
   ],
   "source": [
    "result_exp.data()"
   ]
  },
  {
   "cell_type": "code",
   "execution_count": null,
   "metadata": {},
   "outputs": [],
   "source": []
  },
  {
   "cell_type": "code",
   "execution_count": 55,
   "metadata": {},
   "outputs": [
    {
     "name": "stdout",
     "output_type": "stream",
     "text": [
      "5d720c45e85f9900118515a1 JobStatus.CANCELLED\n",
      "5d718fe6b2eb4a0012fc59a1 JobStatus.DONE\n",
      "5d5d0a14600e30001904615c JobStatus.DONE\n",
      "5d54b04bc69f2c0018cc5da8 JobStatus.DONE\n",
      "5d40bad079d2c1001849f5ac JobStatus.DONE\n"
     ]
    }
   ],
   "source": [
    "# Vedi gli ultimi ordini di esecuzione\n",
    "for ran_job in backend.jobs(limit=5):\n",
    "    print(str(ran_job.job_id()) + \" \" + str(ran_job.status()))"
   ]
  },
  {
   "cell_type": "code",
   "execution_count": 56,
   "metadata": {},
   "outputs": [],
   "source": [
    "# Riprendi un determinato ordine usando il suo id\n",
    "job = backend.retrieve_job(ran_job.job_id())"
   ]
  },
  {
   "cell_type": "code",
   "execution_count": 58,
   "metadata": {
    "scrolled": true
   },
   "outputs": [
    {
     "data": {
      "text/plain": [
       "'5d40bad079d2c1001849f5ac'"
      ]
     },
     "execution_count": 58,
     "metadata": {},
     "output_type": "execute_result"
    }
   ],
   "source": [
    "job.job_id()"
   ]
  },
  {
   "cell_type": "markdown",
   "metadata": {},
   "source": [
    "# Simulazione con vettori casuali"
   ]
  },
  {
   "cell_type": "code",
   "execution_count": 289,
   "metadata": {},
   "outputs": [],
   "source": [
    "# backend_hpc = provider.get_backend('ibmq_qasm_simulator', hub=None)"
   ]
  },
  {
   "cell_type": "code",
   "execution_count": 77,
   "metadata": {},
   "outputs": [
    {
     "data": {
      "text/plain": [
       "128"
      ]
     },
     "execution_count": 77,
     "metadata": {},
     "output_type": "execute_result"
    }
   ],
   "source": [
    "42+43+43"
   ]
  },
  {
   "cell_type": "code",
   "execution_count": 78,
   "metadata": {},
   "outputs": [],
   "source": [
    "randomSetosa = setosa.iloc[rgen.permutation(len(setosa.index))].copy()\n",
    "randomVersicolor = versicolor.iloc[rgen.permutation(len(versicolor.index))].copy()\n",
    "randomVirginica = virginica.iloc[rgen.permutation(len(virginica.index))].copy()\n",
    "randomSetosa.loc[:,\"f0\":\"f3\"] = randomSetosa.loc[:,\"f0\":\"f3\"].apply(np.arcsin)\n",
    "randomVersicolor.loc[:,\"f0\":\"f3\"] = randomVersicolor.loc[:,\"f0\":\"f3\"].apply(np.arcsin)\n",
    "randomVirginica.loc[:,\"f0\":\"f3\"] = randomVirginica.loc[:,\"f0\":\"f3\"].apply(np.arcsin)\n",
    "trainingSetosa = randomSetosa.iloc[:42]\n",
    "trainingVersicolor = randomVersicolor.iloc[:43]\n",
    "trainingVirginica = randomVirginica.iloc[:43]\n",
    "inputSetosa = randomSetosa.iloc[42]\n",
    "inputVersicolor = randomVersicolor.iloc[43]\n",
    "inputVirginica = randomVirginica.iloc[43]\n",
    "trainingArray = pd.concat([trainingSetosa,trainingVersicolor,trainingVirginica])"
   ]
  },
  {
   "cell_type": "code",
   "execution_count": 477,
   "metadata": {},
   "outputs": [
    {
     "data": {
      "text/plain": [
       "'done'"
      ]
     },
     "execution_count": 477,
     "metadata": {},
     "output_type": "execute_result"
    }
   ],
   "source": [
    "a = QuantumRegister(1,'a') # knn ancilla\n",
    "m = QuantumRegister(7,'m') # training vector index\n",
    "i = QuantumRegister(2,'i') # feature index\n",
    "r = QuantumRegister(1,'r') # rotation qubit\n",
    "q = QuantumRegister(10,'q') # qram ancilla\n",
    "c = QuantumRegister(2,'c') # class\n",
    "b = ClassicalRegister(4, 'bit')\n",
    "circuit = QuantumCircuit(a,m,i,r,q,c,b)\n",
    "\n",
    "circuit.h(a)\n",
    "circuit.h(m)\n",
    "circuit.h(i)\n",
    "circuit.h(c)\n",
    "\n",
    "# circuit.cry(theta, control, target)\n",
    "# circuit.mcry(theta, controls, target, ancillae)\n",
    "\n",
    "# >>> Encode the input vector >>>\n",
    "\n",
    "encodeVector(circuit,inputVersicolor,i,a[:]+i[:],r[0],q)\n",
    "\n",
    "circuit.x(a)\n",
    "\n",
    "# <<< Encode the input vector <<<\n",
    "\n",
    "# >>> Encode the training vectors >>>\n",
    "\n",
    "buildTrainingState(trainingArray)\n",
    "\n",
    "# <<< Encode the training vectors <<<\n",
    "\n",
    "circuit.measure(r,b[0])\n",
    "\n",
    "circuit.h(a)\n",
    "\n",
    "circuit.measure(a,b[1])\n",
    "circuit.measure(c[0],b[2])\n",
    "circuit.measure(c[1],b[3])\n",
    "\n",
    "# circuit.draw(output='mpl')"
   ]
  },
  {
   "cell_type": "code",
   "execution_count": null,
   "metadata": {},
   "outputs": [],
   "source": [
    "\n",
    "# Number of shots to run the program (experiment);\n",
    "# maximum is 8192 shots.\n",
    "shots = 8192\n",
    "\n",
    "# Maximum number of credits to spend on executions.\n",
    "max_credits = 3\n",
    "\n",
    "job_hpc = execute(circuit, backend_hpc, shots=shots, max_credits=max_credits)\n",
    "\n",
    "result_hpc = job_hpc.result()\n",
    "counts_hpc = result_hpc.get_counts(circuit)\n",
    "# plot_histogram(counts_hpc)\n",
    "\n",
    "'done'"
   ]
  },
  {
   "cell_type": "code",
   "execution_count": 1,
   "metadata": {
    "scrolled": true
   },
   "outputs": [
    {
     "ename": "NameError",
     "evalue": "name 'counts_hpc' is not defined",
     "output_type": "error",
     "traceback": [
      "\u001b[0;31m---------------------------------------------------------------------------\u001b[0m",
      "\u001b[0;31mNameError\u001b[0m                                 Traceback (most recent call last)",
      "\u001b[0;32m<ipython-input-1-0aeb5192f5b5>\u001b[0m in \u001b[0;36m<module>\u001b[0;34m\u001b[0m\n\u001b[0;32m----> 1\u001b[0;31m \u001b[0mgoodCounts_hpc\u001b[0m \u001b[0;34m=\u001b[0m \u001b[0;34m{\u001b[0m\u001b[0mk\u001b[0m\u001b[0;34m:\u001b[0m \u001b[0mcounts_hpc\u001b[0m\u001b[0;34m[\u001b[0m\u001b[0mk\u001b[0m\u001b[0;34m]\u001b[0m \u001b[0;32mfor\u001b[0m \u001b[0mk\u001b[0m \u001b[0;32min\u001b[0m \u001b[0mcounts_hpc\u001b[0m\u001b[0;34m.\u001b[0m\u001b[0mkeys\u001b[0m\u001b[0;34m(\u001b[0m\u001b[0;34m)\u001b[0m \u001b[0;34m&\u001b[0m \u001b[0;34m{\u001b[0m\u001b[0;34m'0001'\u001b[0m\u001b[0;34m,\u001b[0m \u001b[0;34m'0101'\u001b[0m\u001b[0;34m,\u001b[0m \u001b[0;34m'1001'\u001b[0m\u001b[0;34m,\u001b[0m \u001b[0;34m'1101'\u001b[0m\u001b[0;34m}\u001b[0m\u001b[0;34m}\u001b[0m\u001b[0;34m\u001b[0m\u001b[0;34m\u001b[0m\u001b[0m\n\u001b[0m\u001b[1;32m      2\u001b[0m \u001b[0mplot_histogram\u001b[0m\u001b[0;34m(\u001b[0m\u001b[0mgoodCounts_hpc\u001b[0m\u001b[0;34m)\u001b[0m\u001b[0;34m\u001b[0m\u001b[0;34m\u001b[0m\u001b[0m\n",
      "\u001b[0;31mNameError\u001b[0m: name 'counts_hpc' is not defined"
     ]
    }
   ],
   "source": [
    "goodCounts_hpc = {k: counts_hpc[k] for k in counts_hpc.keys() & {'0001', '0101', '1001', '1101'}}\n",
    "plot_histogram(goodCounts_hpc)"
   ]
  },
  {
   "cell_type": "code",
   "execution_count": null,
   "metadata": {},
   "outputs": [],
   "source": []
  },
  {
   "cell_type": "code",
   "execution_count": null,
   "metadata": {},
   "outputs": [],
   "source": []
  },
  {
   "cell_type": "code",
   "execution_count": null,
   "metadata": {},
   "outputs": [],
   "source": []
  },
  {
   "cell_type": "code",
   "execution_count": null,
   "metadata": {},
   "outputs": [],
   "source": []
  },
  {
   "cell_type": "code",
   "execution_count": 64,
   "metadata": {},
   "outputs": [
    {
     "name": "stdout",
     "output_type": "stream",
     "text": [
      "\n",
      " Run Total counts are: {'1101': 16, '0011': 42, '0101': 45, '1111': 15, '1010': 3, '1011': 17, '0000': 974, '0001': 17, '1001': 54, '1000': 950, '0111': 30, '0110': 1, '0100': 985, '1100': 947}\n",
      "\n",
      " Run Total counts are: {'1101': 13, '0011': 41, '0101': 38, '1111': 17, '1010': 1, '1011': 19, '0000': 948, '0001': 13, '1001': 54, '1000': 921, '0111': 36, '0110': 3, '0010': 1, '0100': 990, '1100': 1001}\n",
      "\n",
      " Run Total counts are: {'1101': 16, '0011': 46, '0101': 32, '1111': 16, '1010': 1, '1011': 16, '0000': 927, '0001': 9, '1001': 65, '1000': 968, '0111': 31, '0110': 8, '0010': 3, '0100': 905, '1100': 1053}\n",
      "\n",
      " Run Total counts are: {'1101': 14, '0011': 55, '0101': 55, '1111': 20, '1010': 2, '1011': 19, '0000': 945, '1110': 1, '0001': 20, '1001': 45, '1000': 955, '0111': 12, '0100': 932, '1100': 1021}\n",
      "\n",
      " Run Total counts are: {'1101': 16, '0011': 47, '0101': 46, '1111': 23, '1011': 22, '0000': 971, '0001': 15, '1001': 56, '1000': 895, '0111': 10, '0110': 1, '0100': 1008, '1100': 986}\n",
      "\n",
      " Run Total counts are: {'1101': 14, '0011': 50, '0101': 64, '1111': 16, '1011': 22, '0000': 983, '0001': 33, '1001': 62, '1000': 929, '0111': 24, '0110': 4, '0010': 1, '0100': 928, '1100': 966}\n",
      "\n",
      " Run Total counts are: {'1101': 13, '0011': 50, '0101': 55, '1111': 18, '1010': 1, '1011': 11, '0000': 979, '0001': 14, '1001': 61, '1000': 913, '0111': 16, '0110': 1, '0010': 2, '0100': 965, '1100': 997}\n",
      "\n",
      " Run Total counts are: {'1101': 17, '0011': 46, '0101': 52, '1111': 7, '1011': 10, '0000': 946, '0001': 27, '1001': 55, '1000': 976, '0111': 34, '0110': 6, '0100': 950, '1100': 970}\n",
      "\n",
      " Run Total counts are: {'1101': 11, '0011': 55, '0101': 64, '1111': 29, '1011': 13, '0000': 948, '0001': 16, '1001': 48, '1000': 962, '0111': 31, '0110': 6, '0010': 2, '0100': 925, '1100': 986}\n",
      "\n",
      " Run Total counts are: {'1101': 23, '0011': 45, '0101': 62, '1111': 13, '1011': 18, '0000': 928, '0001': 19, '1001': 45, '1000': 983, '0111': 19, '0110': 3, '0010': 1, '0100': 932, '1100': 1005}\n"
     ]
    }
   ],
   "source": [
    "successes = 0\n",
    "for i in range(10):\n",
    "    # Vettori presi casualmente\n",
    "    # Prima si crea gli array randomici completi, \n",
    "    # poi li dividiamo in vettori di training ed un vettore da classificare\n",
    "    randomSetosa = setosa.iloc[rgen.permutation(len(setosa.index))].copy()\n",
    "    randomVersicolor = versicolor.iloc[rgen.permutation(len(versicolor.index))].copy()\n",
    "    randomVirginica = virginica.iloc[rgen.permutation(len(virginica.index))].copy()\n",
    "    # Applica la funzione arcoseno\n",
    "    randomSetosa.loc[:,\"f0\":\"f3\"] = randomSetosa.loc[:,\"f0\":\"f3\"].apply(np.arcsin)\n",
    "    randomVersicolor.loc[:,\"f0\":\"f3\"] = randomVersicolor.loc[:,\"f0\":\"f3\"].apply(np.arcsin)\n",
    "    randomVirginica.loc[:,\"f0\":\"f3\"] = randomVirginica.loc[:,\"f0\":\"f3\"].apply(np.arcsin)\n",
    "    # Prendi i primi n vettori per il training\n",
    "    trainingSetosa = randomSetosa.iloc[:2]\n",
    "    trainingVersicolor = randomVersicolor.iloc[:3]\n",
    "    trainingVirginica = randomVirginica.iloc[:3]\n",
    "    # Prendi il vettore successivo per l'input\n",
    "    # Essendo gli insiemi casuali, anche questo è casuale, \n",
    "    # ma non appartiene all'insieme di training\n",
    "    inputSetosa = randomSetosa.iloc[2]\n",
    "    inputVersicolor = randomVersicolor.iloc[3]\n",
    "    inputVirginica = randomVirginica.iloc[3]\n",
    "    # S0 = setosa.iloc[rgen.permutation(len(setosa.index))[:10]].copy()\n",
    "    # S0.loc[:,\"f0\":\"f3\"] = S0.loc[:,\"f0\":\"f3\"].apply(np.arcsin)\n",
    "    # S1 = versicolor.iloc[rgen.permutation(len(versicolor.index))[:11]].copy()\n",
    "    # S1.loc[:,\"f0\":\"f3\"] = S1.loc[:,\"f0\":\"f3\"].apply(np.arcsin)\n",
    "    # S2 = virginica.iloc[rgen.permutation(len(virginica.index))[:11]].copy()\n",
    "    # S2.loc[:,\"f0\":\"f3\"] = S2.loc[:,\"f0\":\"f3\"].apply(np.arcsin)\n",
    "\n",
    "    # Il training array completo è composto da elementi per ogni classe\n",
    "    trainingArray = pd.concat([trainingSetosa,trainingVersicolor,trainingVirginica])\n",
    "    # trainingArray.tail()\n",
    "\n",
    "    a = QuantumRegister(1, 'a') # knn ancilla\n",
    "    m = QuantumRegister(2, 'm') # training vector index\n",
    "    i = QuantumRegister(2, 'i') # feature index\n",
    "    r = QuantumRegister(1, 'r') # rotation qubit\n",
    "    q = QuantumRegister(5, 'q') # qram ancilla\n",
    "    c = QuantumRegister(2, 'c') # class\n",
    "    b = ClassicalRegister(4, 'bit')\n",
    "    circuit = QuantumCircuit(a, m, i, r, q, c, b)\n",
    "\n",
    "    circuit.h(a)\n",
    "    circuit.h(m)\n",
    "    circuit.h(i)\n",
    "    circuit.h(c)\n",
    "\n",
    "    # circuit.cry(theta, control, target)\n",
    "    # circuit.mcry(theta, controls, target, ancillae)\n",
    "\n",
    "    # >>> Encode the input vector >>>\n",
    "\n",
    "    encodeVector(circuit, inputVirginica, i, a[:]+i[:], r[0], q)\n",
    "\n",
    "    circuit.x(a)\n",
    "\n",
    "    # <<< Encode the input vector <<<\n",
    "\n",
    "    # >>> Encode the training vectors >>>\n",
    "\n",
    "    buildTrainingState(trainingArray)\n",
    "\n",
    "    # <<< Encode the training vectors <<<\n",
    "\n",
    "    circuit.measure(r, b[0])\n",
    "\n",
    "    circuit.h(a)\n",
    "\n",
    "    circuit.measure(a, b[1])\n",
    "    circuit.measure(c[0], b[2])\n",
    "    circuit.measure(c[1], b[3])\n",
    "\n",
    "    # circuit.draw(output='mpl')\n",
    "\n",
    "    simulator = Aer.get_backend('qasm_simulator')\n",
    "    job = execute(circuit, simulator, shots=4096)\n",
    "    result = job.result()\n",
    "    counts = result.get_counts(circuit)\n",
    "    print(\"\\n Run Total counts are:\",counts)\n",
    "    # plot_histogram(counts)\n",
    "\n",
    "    goodCounts = {k: counts[k] for k in counts.keys() & {'0001','0101','1001','1101'}}\n",
    "\n",
    "    mostProbable = 0\n",
    "    classification = 'undefined'\n",
    "    for k in goodCounts.keys():\n",
    "        if goodCounts[k] > mostProbable:\n",
    "            mostProbable = goodCounts[k]\n",
    "            classification = k\n",
    "    if classification == '1001':\n",
    "        successes+=1"
   ]
  },
  {
   "cell_type": "code",
   "execution_count": 65,
   "metadata": {},
   "outputs": [
    {
     "data": {
      "text/plain": [
       "6"
      ]
     },
     "execution_count": 65,
     "metadata": {},
     "output_type": "execute_result"
    }
   ],
   "source": [
    "successes"
   ]
  },
  {
   "cell_type": "code",
   "execution_count": null,
   "metadata": {},
   "outputs": [],
   "source": []
  }
 ],
 "metadata": {
  "kernelspec": {
   "display_name": "Python 3",
   "language": "python",
   "name": "python3"
  },
  "language_info": {
   "codemirror_mode": {
    "name": "ipython",
    "version": 3
   },
   "file_extension": ".py",
   "mimetype": "text/x-python",
   "name": "python",
   "nbconvert_exporter": "python",
   "pygments_lexer": "ipython3",
   "version": "3.8.5"
  }
 },
 "nbformat": 4,
 "nbformat_minor": 4
}
