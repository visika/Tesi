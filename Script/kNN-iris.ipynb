{
 "cells": [
  {
   "cell_type": "markdown",
   "metadata": {},
   "source": [
    "# Amplitude-based kNN for multi-dimensional vectors"
   ]
  },
  {
   "cell_type": "markdown",
   "metadata": {},
   "source": [
    "## Let's try to get the kNN working on the Iris Data Set"
   ]
  },
  {
   "cell_type": "code",
   "execution_count": 69,
   "metadata": {},
   "outputs": [],
   "source": [
    "import qiskit;\n",
    "# qiskit.__qiskit_version__"
   ]
  },
  {
   "cell_type": "code",
   "execution_count": 70,
   "metadata": {
    "scrolled": false
   },
   "outputs": [
    {
     "name": "stderr",
     "output_type": "stream",
     "text": [
      "/home/mariano/anaconda3/lib/python3.7/site-packages/qiskit/providers/ibmq/ibmqfactory.py:181: UserWarning: Credentials are already in use. The existing account in the session will be replaced.\n",
      "  warnings.warn('Credentials are already in use. The existing '\n"
     ]
    }
   ],
   "source": [
    "from qiskit import IBMQ\n",
    "provider = IBMQ.load_account()"
   ]
  },
  {
   "cell_type": "code",
   "execution_count": 71,
   "metadata": {},
   "outputs": [
    {
     "name": "stdout",
     "output_type": "stream",
     "text": [
      "Available backends:\n"
     ]
    },
    {
     "data": {
      "text/plain": [
       "[<IBMQSimulator('ibmq_qasm_simulator') from IBMQ(hub='ibm-q', group='open', project='main')>,\n",
       " <IBMQBackend('ibmqx4') from IBMQ(hub='ibm-q', group='open', project='main')>,\n",
       " <IBMQBackend('ibmqx2') from IBMQ(hub='ibm-q', group='open', project='main')>,\n",
       " <IBMQBackend('ibmq_16_melbourne') from IBMQ(hub='ibm-q', group='open', project='main')>]"
      ]
     },
     "execution_count": 71,
     "metadata": {},
     "output_type": "execute_result"
    }
   ],
   "source": [
    "print(\"Available backends:\")\n",
    "provider.backends()"
   ]
  },
  {
   "cell_type": "code",
   "execution_count": 72,
   "metadata": {},
   "outputs": [
    {
     "name": "stdout",
     "output_type": "stream",
     "text": [
      "The best backend is ibmq_16_melbourne\n"
     ]
    }
   ],
   "source": [
    "from qiskit.providers.ibmq import least_busy\n",
    "\n",
    "large_enough_devices = provider.backends(filters=lambda x: x.configuration().n_qubits > 8 and not x.configuration().simulator)\n",
    "backend = least_busy(large_enough_devices)\n",
    "print(\"The best backend is \" + backend.name())"
   ]
  },
  {
   "cell_type": "code",
   "execution_count": 73,
   "metadata": {},
   "outputs": [],
   "source": [
    "import numpy as np\n",
    "from qiskit import (\n",
    "    QuantumCircuit,\n",
    "    QuantumRegister,\n",
    "    ClassicalRegister,\n",
    "    execute,\n",
    "    Aer)\n",
    "from qiskit.visualization import plot_histogram"
   ]
  },
  {
   "cell_type": "code",
   "execution_count": 74,
   "metadata": {},
   "outputs": [],
   "source": [
    "# The multi-controlled RY is not included in the standard gates\n",
    "import qiskit.aqua.circuits.gates.controlled_ry_gates"
   ]
  },
  {
   "cell_type": "markdown",
   "metadata": {},
   "source": [
    "# Initial state preparation"
   ]
  },
  {
   "cell_type": "markdown",
   "metadata": {},
   "source": [
    "The algorithm starts with the assumption that the following initial state can be constructed from $M$ training vectors with $N$ entries: \n",
    "$$|\\psi_0> = \\frac{1}{\\sqrt{2M}} \\sum_{m=1}^M \\big(|0>|\\psi_x> + |1>|\\psi_{t^m}>\\big) |c^m> |m> $$\n",
    "In our case, the Iris Data Set contains $M=150$ training vectors with $N=4$ entries. \n",
    "\n",
    "We can use less training vectors, depending on how many qubits we want to allocate to |m>: \n",
    "\n",
    "||m> qubits|training vectors|\n",
    "|--------|----------------|\n",
    "|0|$2^0=1$|\n",
    "|1|$2^1=2$|\n",
    "|2|$2^2=4$|\n",
    "|3|$2^3=8$|\n",
    "|4|$2^4=16$|\n",
    "|5|$2^5=32$|\n",
    "|6|$2^6=64$|\n",
    "|7|$2^7=128$|\n",
    "|8|$2^8=256$|\n",
    "\n",
    "Let's start by simply upgrading the previous test and use 2 qubits for 3 training vectors. \n",
    "\n",
    "We will also need to consider three classes, so two qubits for |c>."
   ]
  },
  {
   "cell_type": "markdown",
   "metadata": {},
   "source": [
    "## Build the base circuit"
   ]
  },
  {
   "cell_type": "markdown",
   "metadata": {},
   "source": [
    "$$|\\chi_0> = |a_\\text{kNN}> |d> |c> |m> = |0>|00>|00>|00>$$"
   ]
  },
  {
   "cell_type": "code",
   "execution_count": 75,
   "metadata": {},
   "outputs": [],
   "source": [
    "knna = QuantumRegister(1, 'knna') # Ancilla for kNN\n",
    "qrama = QuantumRegister(5, 'qrama') # Ancilla for QRAM\n",
    "d = QuantumRegister(2, 'd') # Data vectors\n",
    "r = QuantumRegister(1, 'r') # Rotation register for QRAM\n",
    "c = QuantumRegister(2, 'class') # Class for kNN\n",
    "m = QuantumRegister(2, 'm') # Index for kNN\n",
    "classical = ClassicalRegister(4, 'classic')\n",
    "circuit = QuantumCircuit(knna,qrama,d,r,c,m,classical)"
   ]
  },
  {
   "cell_type": "markdown",
   "metadata": {},
   "source": [
    "The sum over $m$ is introduced by simply acting an $H^{\\otimes2}$ gate on the $m$ qubit:\n",
    "$$|\\chi_1> = (\\mathbb{1} \\otimes \\mathbb{1}^{\\otimes2} \\otimes \\mathbb{1}^{\\otimes2} \\otimes H^{\\otimes2}) |0>|00>|00>|00> = \\frac{1}{2} \\sum_{m=0}^3 |0>|00>|00>|m>.$$"
   ]
  },
  {
   "cell_type": "code",
   "execution_count": 76,
   "metadata": {},
   "outputs": [
    {
     "data": {
      "text/plain": [
       "<qiskit.circuit.instructionset.InstructionSet at 0x7f245717c710>"
      ]
     },
     "execution_count": 76,
     "metadata": {},
     "output_type": "execute_result"
    }
   ],
   "source": [
    "circuit.h(m)\n",
    "# circuit.draw()"
   ]
  },
  {
   "cell_type": "markdown",
   "metadata": {},
   "source": [
    "Using another H gate, the ancilla qubit is put in superposition: \n",
    "$$|\\chi_2> = (H \\otimes \\mathbb{1}^{\\otimes2} \\otimes \\mathbb{1}^{\\otimes2} \\otimes \\mathbb{1}^{\\otimes2}) |\\chi_1> = \\frac{1}{2\\sqrt{2}} \\sum_{m=0}^3 \\big[|0>|00> + |1>|00>\\big]|00>|m>$$"
   ]
  },
  {
   "cell_type": "code",
   "execution_count": 77,
   "metadata": {
    "scrolled": true
   },
   "outputs": [
    {
     "data": {
      "text/plain": [
       "<qiskit.circuit.instructionset.InstructionSet at 0x7f24566b92b0>"
      ]
     },
     "execution_count": 77,
     "metadata": {},
     "output_type": "execute_result"
    }
   ],
   "source": [
    "circuit.h(knna)\n",
    "# circuit.draw()"
   ]
  },
  {
   "cell_type": "markdown",
   "metadata": {},
   "source": [
    "Next, the input vector $|\\psi_x>$ should be loaded into the quantum state by means of QRAM construction\n",
    "$$|\\chi_3> = QRAM(x) |\\chi_2>$$"
   ]
  },
  {
   "cell_type": "raw",
   "metadata": {},
   "source": [
    "Sample data\n",
    "\n",
    "5.1,3.5,1.4,0.2,Iris-setosa\n",
    "7.0,3.2,4.7,1.4,Iris-versicolor\n",
    "6.3,3.3,6.0,2.5,Iris-virginica"
   ]
  },
  {
   "cell_type": "markdown",
   "metadata": {},
   "source": [
    "The probability of getting |R=1> is $\\sum_{l=0}^{M-1} |\\psi_{\\vec{d^{(l)}}} \\sin{\\theta^{(l)}}|^2$, where l is our training vector index; that means we should translate our training vectors in rotation angles of the states. \n",
    "\n",
    "It is reasonable to transform the vectors in this way: we take the maximal value of the entries and map that to a rotation of π/2 degrees. \n",
    "\n",
    "### Errors below: π should be π/2\n",
    "|entry 1|entry 2|entry 3|entry 4|normalized 1|normalized 2|normalized 3|normalized 4|class|\n",
    "|-------|-------|-------|-------|------------|------------|------------|------------|-----|\n",
    "|5.1    |3.5    |1.4    |0.2    |2.2889      |1.5708      |0.6283      |0.0898      |0    |\n",
    "|7.0    |3.2    |4.7    |1.4    |π = 3.1416  |1.4362      |2.1094      |0.6283      |1    |\n",
    "|6.3    |3.3    |6.0    |2.5    |2.8274      |1.481       |2.6928      |1.122       |2    |\n",
    "\n",
    "The maximal value found it this test set is 7.0: its normalised value will be π. \n",
    "\n",
    "It is questionable wether the mapping should be linear or follow the sine function. "
   ]
  },
  {
   "cell_type": "code",
   "execution_count": 78,
   "metadata": {},
   "outputs": [],
   "source": [
    "# round(np.pi/7.0*2.5,4)"
   ]
  },
  {
   "cell_type": "code",
   "execution_count": 79,
   "metadata": {},
   "outputs": [
    {
     "data": {
      "text/plain": [
       "<qiskit.circuit.instructionset.InstructionSet at 0x7f24566b9908>"
      ]
     },
     "execution_count": 79,
     "metadata": {},
     "output_type": "execute_result"
    }
   ],
   "source": [
    "# Put |d> in superposition\n",
    "circuit.h(d)"
   ]
  },
  {
   "cell_type": "code",
   "execution_count": 80,
   "metadata": {},
   "outputs": [],
   "source": [
    "inputVector = [np.pi/2,0,0,0] # Classical data vector with max at π/2\n",
    "setosa = [np.pi/7.0*5.1/2, np.pi/7.0*3.5/2, np.pi/7.0*1.4/2, np.pi/7.0*0.2/2]\n",
    "versicolor = [np.pi/2, np.pi/7.0*3.2/2, np.pi/7.0*4.7/2, np.pi/7.0*1.4/2]\n",
    "virginica = [np.pi/7.0*6.3/2, np.pi/7.0*3.3/2, np.pi/7.0*6.0/2, np.pi/7.0*2.5/2]\n",
    "# Let's put in one of the training vectors first, then we will use a different vector from the Data Set"
   ]
  },
  {
   "cell_type": "code",
   "execution_count": 81,
   "metadata": {},
   "outputs": [],
   "source": [
    "# circuit.mct?"
   ]
  },
  {
   "cell_type": "code",
   "execution_count": 82,
   "metadata": {},
   "outputs": [
    {
     "data": {
      "text/plain": [
       "<qiskit.circuit.instructionset.InstructionSet at 0x7f24571ba6d8>"
      ]
     },
     "execution_count": 82,
     "metadata": {},
     "output_type": "execute_result"
    }
   ],
   "source": [
    "xVector = setosa\n",
    "# Begin QRAM state construction for two qubit data, class and m\n",
    "# Not being entangled with class and m, we can leave it unmodified\n",
    "psixCircuit = QuantumCircuit(knna,qrama,d,r,c,m,classical)\n",
    "# I need to entangle the ψx state to the |0> state of the kNN ancilla\n",
    "\n",
    "# Encode state |00>\n",
    "psixCircuit.x(d)\n",
    "# The rotation angle should be converted accordingly: the max should be mapped to π/2\n",
    "psixCircuit.mcry(xVector[0], d[0:] + knna[0:], r[0], qrama)\n",
    "psixCircuit.x(d)\n",
    "# psixCircuit.barrier()\n",
    "\n",
    "# Encode state |01>\n",
    "psixCircuit.x(d[1])\n",
    "psixCircuit.mcry(xVector[1], d[0:] + knna[0:], r[0], qrama)\n",
    "psixCircuit.x(d[1])\n",
    "# psixCircuit.barrier()\n",
    "\n",
    "# Encode state |10>\n",
    "psixCircuit.x(d[0])\n",
    "psixCircuit.mcry(xVector[2], d[0:] + knna[0:], r[0], qrama)\n",
    "psixCircuit.x(d[0])\n",
    "# psixCircuit.barrier()\n",
    "\n",
    "# Encode state |11>\n",
    "psixCircuit.mcry(xVector[3], d[0:] + knna[0:], r[0], qrama)\n",
    "# psixCircuit.barrier()\n",
    "\n",
    "# Switch entanglement with ancilla to |a> = |0>\n",
    "psixCircuit.x(knna)\n",
    "\n",
    "# psixCircuit.draw(output='mpl')"
   ]
  },
  {
   "cell_type": "code",
   "execution_count": 83,
   "metadata": {},
   "outputs": [],
   "source": [
    "circuit += psixCircuit"
   ]
  },
  {
   "cell_type": "markdown",
   "metadata": {},
   "source": [
    "$$|\\chi_3> = \\frac{1}{2} \\sum_{m=0}^1 \\big[ |0>|\\psi_x> + |1>|00> \\big] |0> |m>$$"
   ]
  },
  {
   "cell_type": "markdown",
   "metadata": {},
   "source": [
    "The next step is to entangle the first training vector $|\\psi_{t^0}>$ with the $|1>$ state of the ancilla and the $|0>$ state of the $m$ qubit. Additionally, the second training vector $\\psi_{t^1}$ should be entangled with the $|1>$ states of the ancilla and of the $m$ qubit. "
   ]
  },
  {
   "cell_type": "code",
   "execution_count": 84,
   "metadata": {},
   "outputs": [
    {
     "data": {
      "text/plain": [
       "<qiskit.circuit.instructionset.InstructionSet at 0x7f245637a828>"
      ]
     },
     "execution_count": 84,
     "metadata": {},
     "output_type": "execute_result"
    }
   ],
   "source": [
    "circuit.h(c)"
   ]
  },
  {
   "cell_type": "code",
   "execution_count": 85,
   "metadata": {},
   "outputs": [],
   "source": [
    "trainingVector0 = setosa\n",
    "# Entangled with |c> = |00>, |m> = |00>"
   ]
  },
  {
   "cell_type": "code",
   "execution_count": 86,
   "metadata": {
    "scrolled": true
   },
   "outputs": [
    {
     "data": {
      "text/plain": [
       "<qiskit.circuit.instructionset.InstructionSet at 0x7f2463a9d668>"
      ]
     },
     "execution_count": 86,
     "metadata": {},
     "output_type": "execute_result"
    }
   ],
   "source": [
    "# Begin QRAM state construction for two qubit data, class and m\n",
    "# Now we have more things to consider\n",
    "# This is the first training vector: |m>=|00>, |c>=|00>\n",
    "# We should apply two x to m and two x to c at the start and at the end\n",
    "psit0Circuit = QuantumCircuit(knna,qrama,d,r,c,m,classical)\n",
    "# I need to entangle the ψt0 state to the |1> state of the kNN ancilla, to the |00> state of m and to the |00> state of c\n",
    "# Do I need to superposition |d> again? No\n",
    "# I also need to entangle the class of the training vector; that should be encoded in the classical vector\n",
    "\n",
    "# psit0Circuit.x(c)\n",
    "# psit0Circuit.x(m)\n",
    "\n",
    "# Encode state |00>\n",
    "psit0Circuit.x(d)\n",
    "psit0Circuit.mcry(trainingVector0[0], d[0:] + knna[0:] + m[0:] + c[0:], r[0], qrama)\n",
    "psit0Circuit.x(d)\n",
    "# psit0Circuit.barrier()\n",
    "\n",
    "# Encode state |01>\n",
    "psit0Circuit.x(d[1])\n",
    "psit0Circuit.mcry(trainingVector0[1], d[0:] + knna[0:] + m[0:] + c[0:], r[0], qrama)\n",
    "psit0Circuit.x(d[1])\n",
    "# psit0Circuit.barrier()\n",
    "\n",
    "# Encode state |10>\n",
    "psit0Circuit.x(d[0])\n",
    "psit0Circuit.mcry(trainingVector0[2], d[0:] + knna[0:] + m[0:] + c[0:], r[0], qrama)\n",
    "psit0Circuit.x(d[0])\n",
    "# psit0Circuit.barrier()\n",
    "\n",
    "# Encode state |11>\n",
    "psit0Circuit.mcry(trainingVector0[3], d[0:] + knna[0:] + m[0:] + c[0:], r[0], qrama)\n",
    "# psit0Circuit.barrier()\n",
    "\n",
    "# Switch entanglement with m to |m> = |00>\n",
    "psit0Circuit.x(m)\n",
    "# Switch entanglement with c to |c> = |00>\n",
    "psit0Circuit.x(c)\n",
    "\n",
    "# psit0Circuit.draw(output='mpl')"
   ]
  },
  {
   "cell_type": "code",
   "execution_count": 87,
   "metadata": {},
   "outputs": [],
   "source": [
    "circuit += psit0Circuit"
   ]
  },
  {
   "cell_type": "code",
   "execution_count": 88,
   "metadata": {},
   "outputs": [],
   "source": [
    "trainingVector1 = versicolor\n",
    "# Entangled with |c> = |01>, |m> = |01>"
   ]
  },
  {
   "cell_type": "code",
   "execution_count": 89,
   "metadata": {},
   "outputs": [
    {
     "data": {
      "text/plain": [
       "<qiskit.extensions.standard.x.XGate at 0x7f245719f748>"
      ]
     },
     "execution_count": 89,
     "metadata": {},
     "output_type": "execute_result"
    }
   ],
   "source": [
    "# Begin QRAM state construction for two qubit data\n",
    "psit1Circuit = QuantumCircuit(knna,qrama,d,r,c,m,classical)\n",
    "# I need to entangle the ψt1 state to the |1> state of the kNN ancilla, to the |01> state of m and to the |01> state of c\n",
    "\n",
    "# psit1Circuit.x(c[1])\n",
    "# psit1Circuit.x(m[1])\n",
    "\n",
    "# Encode state |00>\n",
    "psit1Circuit.x(d)\n",
    "psit1Circuit.mcry(trainingVector1[0], d[0:] + knna[0:] + m[0:] + c[0:], r[0], qrama)\n",
    "psit1Circuit.x(d)\n",
    "# psit1Circuit.barrier()\n",
    "\n",
    "# Encode state |01>\n",
    "psit1Circuit.x(d[1])\n",
    "psit1Circuit.mcry(trainingVector1[1], d[0:] + knna[0:] + m[0:] + c[0:], r[0], qrama)\n",
    "psit1Circuit.x(d[1])\n",
    "# psit1Circuit.barrier()\n",
    "\n",
    "# Encode state |10>\n",
    "psit1Circuit.x(d[0])\n",
    "psit1Circuit.mcry(trainingVector1[2], d[0:] + knna[0:] + m[0:] + c[0:], r[0], qrama)\n",
    "psit1Circuit.x(d[0])\n",
    "# psit1Circuit.barrier()\n",
    "\n",
    "# Encode state |11>\n",
    "psit1Circuit.mcry(trainingVector1[3], d[0:] + knna[0:] + m[0:] + c[0:], r[0], qrama)\n",
    "# psit1Circuit.barrier()\n",
    "\n",
    "psit1Circuit.x(c[1])\n",
    "psit1Circuit.x(m[1])\n",
    "\n",
    "# psit1Circuit.draw(output='mpl')"
   ]
  },
  {
   "cell_type": "code",
   "execution_count": 90,
   "metadata": {},
   "outputs": [],
   "source": [
    "circuit += psit1Circuit"
   ]
  },
  {
   "cell_type": "code",
   "execution_count": 91,
   "metadata": {},
   "outputs": [],
   "source": [
    "trainingVector2 = virginica\n",
    "# Entangled with |c> = |10>, |m> = |10>"
   ]
  },
  {
   "cell_type": "code",
   "execution_count": 92,
   "metadata": {},
   "outputs": [
    {
     "data": {
      "text/plain": [
       "<qiskit.extensions.standard.x.XGate at 0x7f2457138f60>"
      ]
     },
     "execution_count": 92,
     "metadata": {},
     "output_type": "execute_result"
    }
   ],
   "source": [
    "# Begin QRAM state construction for two qubit data\n",
    "psit2Circuit = QuantumCircuit(knna,qrama,d,r,c,m,classical)\n",
    "# I need to entangle the ψt1 state to the |1> state of the kNN ancilla, to the |10> state of m and to the |10> state of c\n",
    "\n",
    "# psit2Circuit.x(c[0])\n",
    "# psit2Circuit.x(m[0])\n",
    "\n",
    "# Encode state |00>\n",
    "psit2Circuit.x(d)\n",
    "psit2Circuit.mcry(trainingVector2[0], d[0:] + knna[0:] + m[0:] + c[0:], r[0], qrama)\n",
    "psit2Circuit.x(d)\n",
    "# psit2Circuit.barrier()\n",
    "\n",
    "# Encode state |01>\n",
    "psit2Circuit.x(d[1])\n",
    "psit2Circuit.mcry(trainingVector2[1], d[0:] + knna[0:] + m[0:] + c[0:], r[0], qrama)\n",
    "psit2Circuit.x(d[1])\n",
    "# psit2Circuit.barrier()\n",
    "\n",
    "# Encode state |10>\n",
    "psit2Circuit.x(d[0])\n",
    "psit2Circuit.mcry(trainingVector2[2], d[0:] + knna[0:] + m[0:] + c[0:], r[0], qrama)\n",
    "psit2Circuit.x(d[0])\n",
    "# psit2Circuit.barrier()\n",
    "\n",
    "# Encode state |11>\n",
    "psit2Circuit.mcry(trainingVector2[3], d[0:] + knna[0:] + m[0:] + c[0:], r[0], qrama)\n",
    "# psit2Circuit.barrier()\n",
    "\n",
    "psit2Circuit.x(c[0])\n",
    "psit2Circuit.x(m[0])\n",
    "\n",
    "# psit2Circuit.draw(output='mpl')"
   ]
  },
  {
   "cell_type": "code",
   "execution_count": 93,
   "metadata": {},
   "outputs": [],
   "source": [
    "circuit += psit2Circuit"
   ]
  },
  {
   "cell_type": "markdown",
   "metadata": {},
   "source": [
    "The desired input and training state is obtained after post-selecting the measurement outcome $|1>_R$ on the register qubit."
   ]
  },
  {
   "cell_type": "code",
   "execution_count": 94,
   "metadata": {},
   "outputs": [
    {
     "data": {
      "text/plain": [
       "<qiskit.circuit.instructionset.InstructionSet at 0x7f245636f2e8>"
      ]
     },
     "execution_count": 94,
     "metadata": {},
     "output_type": "execute_result"
    }
   ],
   "source": [
    "circuit.measure(r,classical[0])"
   ]
  },
  {
   "cell_type": "markdown",
   "metadata": {
    "tags": [
     "Fingerhuth"
    ]
   },
   "source": [
    "Having prepared the initial state $|\\psi_0>$ one has to simply apply an H gate to the ancilla qubit. This causes the aplitudes of $|\\psi_x>$ and $|\\psi_{t^m}>$ to interfere. In this case, constructive ($+$) interference happens when the ancilla qubit is $|0>$ and destructive ($-$) interference when the ancilla is $|1>$. "
   ]
  },
  {
   "cell_type": "code",
   "execution_count": 95,
   "metadata": {},
   "outputs": [
    {
     "data": {
      "text/plain": [
       "<qiskit.circuit.instructionset.InstructionSet at 0x7f245636f860>"
      ]
     },
     "execution_count": 95,
     "metadata": {},
     "output_type": "execute_result"
    }
   ],
   "source": [
    "circuit.h(knna)\n",
    "circuit.measure(knna,classical[1])"
   ]
  },
  {
   "cell_type": "markdown",
   "metadata": {},
   "source": [
    "After the successful conditional measurement, the state is proportional to:\n",
    "$$|\\psi_2> = \\frac{1}{2\\sqrt{M}} \\sum_{m=0}^1 \\sum_{i=0}^3 (x_i + t_i^m) |0> |i> |c^m> |m>$$"
   ]
  },
  {
   "cell_type": "markdown",
   "metadata": {},
   "source": [
    "The probability of measuring e.g. class $|1>$ (B) is then given by the following expression:\n",
    "$$\\text{Prob}(|c^m> = |1(\\text{B})>) = \\sum_{m|c^m=1(\\text{B})} 1 - \\frac{1}{4M} \\sum_{i=0}^3 |x_i - t_i^m|^2$$"
   ]
  },
  {
   "cell_type": "code",
   "execution_count": 96,
   "metadata": {},
   "outputs": [
    {
     "data": {
      "text/plain": [
       "<qiskit.circuit.measure.Measure at 0x7f245636fc88>"
      ]
     },
     "execution_count": 96,
     "metadata": {},
     "output_type": "execute_result"
    }
   ],
   "source": [
    "circuit.measure(c[0],classical[2])\n",
    "circuit.measure(c[1],classical[3])"
   ]
  },
  {
   "cell_type": "code",
   "execution_count": 143,
   "metadata": {},
   "outputs": [],
   "source": [
    "simulator = Aer.get_backend('qasm_simulator')\n",
    "job = execute(circuit, simulator, shots=2048)\n",
    "result = job.result()\n",
    "counts = result.get_counts(circuit)\n",
    "# print(\"\\nTotal counts are:\",counts)"
   ]
  },
  {
   "cell_type": "code",
   "execution_count": 144,
   "metadata": {},
   "outputs": [
    {
     "data": {
      "image/png": "[encoded data removed]",
      "text/plain": [
       "<Figure size 504x360 with 1 Axes>"
      ]
     },
     "execution_count": 144,
     "metadata": {},
     "output_type": "execute_result"
    }
   ],
   "source": [
    "# c[0] = |R> should be |1>\n",
    "# c[1] = |a> should be |0>\n",
    "goodCounts = {k: counts[k] for k in counts.keys() & {'0001', '0101', '1001', '1101'}}\n",
    "plot_histogram(goodCounts)"
   ]
  },
  {
   "cell_type": "code",
   "execution_count": null,
   "metadata": {},
   "outputs": [],
   "source": []
  },
  {
   "cell_type": "code",
   "execution_count": null,
   "metadata": {},
   "outputs": [],
   "source": []
  },
  {
   "cell_type": "code",
   "execution_count": null,
   "metadata": {},
   "outputs": [],
   "source": []
  },
  {
   "cell_type": "code",
   "execution_count": null,
   "metadata": {},
   "outputs": [],
   "source": []
  },
  {
   "cell_type": "code",
   "execution_count": null,
   "metadata": {},
   "outputs": [],
   "source": []
  },
  {
   "cell_type": "code",
   "execution_count": 66,
   "metadata": {},
   "outputs": [
    {
     "data": {
      "image/png": "[encoded data removed]",
      "text/plain": [
       "<Figure size 504x360 with 1 Axes>"
      ]
     },
     "execution_count": 66,
     "metadata": {},
     "output_type": "execute_result"
    }
   ],
   "source": [
    "# old with mistake\n",
    "# c[0] = |R> should be |1>\n",
    "# c[1] = |a> should be |0>\n",
    "goodCounts = {k: counts[k] for k in counts.keys() & {'0001', '0101', '1001', '1101'}}\n",
    "plot_histogram(goodCounts)"
   ]
  },
  {
   "cell_type": "code",
   "execution_count": 113,
   "metadata": {},
   "outputs": [
    {
     "name": "stdout",
     "output_type": "stream",
     "text": [
      "Job Status: job is actively running "
     ]
    },
    {
     "ename": "JobError",
     "evalue": "'520 Server Error: Origin Error for url: https://api.quantum-computing.ibm.com/api/Network/ibm-q/Groups/open/Projects/main/Jobs/5d5d0a14600e30001904615c/status?access_token=...'",
     "output_type": "error",
     "traceback": [
      "\u001b[0;31m---------------------------------------------------------------------------\u001b[0m",
      "\u001b[0;31mRequestsApiError\u001b[0m                          Traceback (most recent call last)",
      "\u001b[0;32m~/anaconda3/lib/python3.7/site-packages/qiskit/providers/ibmq/job/ibmqjob.py\u001b[0m in \u001b[0;36mstatus\u001b[0;34m(self)\u001b[0m\n\u001b[1;32m    311\u001b[0m             \u001b[0;31m# TODO: See result values\u001b[0m\u001b[0;34m\u001b[0m\u001b[0;34m\u001b[0m\u001b[0;34m\u001b[0m\u001b[0m\n\u001b[0;32m--> 312\u001b[0;31m             \u001b[0mapi_response\u001b[0m \u001b[0;34m=\u001b[0m \u001b[0mself\u001b[0m\u001b[0;34m.\u001b[0m\u001b[0m_api\u001b[0m\u001b[0;34m.\u001b[0m\u001b[0mget_status_job\u001b[0m\u001b[0;34m(\u001b[0m\u001b[0mself\u001b[0m\u001b[0;34m.\u001b[0m\u001b[0m_job_id\u001b[0m\u001b[0;34m)\u001b[0m\u001b[0;34m\u001b[0m\u001b[0;34m\u001b[0m\u001b[0m\n\u001b[0m\u001b[1;32m    313\u001b[0m             \u001b[0mself\u001b[0m\u001b[0;34m.\u001b[0m\u001b[0m_update_status\u001b[0m\u001b[0;34m(\u001b[0m\u001b[0mapi_response\u001b[0m\u001b[0;34m)\u001b[0m\u001b[0;34m\u001b[0m\u001b[0;34m\u001b[0m\u001b[0m\n",
      "\u001b[0;32m~/anaconda3/lib/python3.7/site-packages/qiskit/providers/ibmq/api_v2/clients/account.py\u001b[0m in \u001b[0;36mget_status_job\u001b[0;34m(self, id_job)\u001b[0m\n\u001b[1;32m    294\u001b[0m         \u001b[0;31m# pylint: disable=missing-docstring\u001b[0m\u001b[0;34m\u001b[0m\u001b[0;34m\u001b[0m\u001b[0;34m\u001b[0m\u001b[0m\n\u001b[0;32m--> 295\u001b[0;31m         \u001b[0;32mreturn\u001b[0m \u001b[0mself\u001b[0m\u001b[0;34m.\u001b[0m\u001b[0mjob_status\u001b[0m\u001b[0;34m(\u001b[0m\u001b[0mid_job\u001b[0m\u001b[0;34m)\u001b[0m\u001b[0;34m\u001b[0m\u001b[0;34m\u001b[0m\u001b[0m\n\u001b[0m\u001b[1;32m    296\u001b[0m \u001b[0;34m\u001b[0m\u001b[0m\n",
      "\u001b[0;32m~/anaconda3/lib/python3.7/site-packages/qiskit/providers/ibmq/api_v2/clients/account.py\u001b[0m in \u001b[0;36mjob_status\u001b[0;34m(self, job_id)\u001b[0m\n\u001b[1;32m    200\u001b[0m         \"\"\"\n\u001b[0;32m--> 201\u001b[0;31m         \u001b[0;32mreturn\u001b[0m \u001b[0mself\u001b[0m\u001b[0;34m.\u001b[0m\u001b[0mclient_api\u001b[0m\u001b[0;34m.\u001b[0m\u001b[0mjob\u001b[0m\u001b[0;34m(\u001b[0m\u001b[0mjob_id\u001b[0m\u001b[0;34m)\u001b[0m\u001b[0;34m.\u001b[0m\u001b[0mstatus\u001b[0m\u001b[0;34m(\u001b[0m\u001b[0;34m)\u001b[0m\u001b[0;34m\u001b[0m\u001b[0;34m\u001b[0m\u001b[0m\n\u001b[0m\u001b[1;32m    202\u001b[0m \u001b[0;34m\u001b[0m\u001b[0m\n",
      "\u001b[0;32m~/anaconda3/lib/python3.7/site-packages/qiskit/providers/ibmq/api_v2/rest/job.py\u001b[0m in \u001b[0;36mstatus\u001b[0;34m(self)\u001b[0m\n\u001b[1;32m     96\u001b[0m         \u001b[0murl\u001b[0m \u001b[0;34m=\u001b[0m \u001b[0mself\u001b[0m\u001b[0;34m.\u001b[0m\u001b[0mget_url\u001b[0m\u001b[0;34m(\u001b[0m\u001b[0;34m'status'\u001b[0m\u001b[0;34m)\u001b[0m\u001b[0;34m\u001b[0m\u001b[0;34m\u001b[0m\u001b[0m\n\u001b[0;32m---> 97\u001b[0;31m         \u001b[0;32mreturn\u001b[0m \u001b[0mself\u001b[0m\u001b[0;34m.\u001b[0m\u001b[0msession\u001b[0m\u001b[0;34m.\u001b[0m\u001b[0mget\u001b[0m\u001b[0;34m(\u001b[0m\u001b[0murl\u001b[0m\u001b[0;34m)\u001b[0m\u001b[0;34m.\u001b[0m\u001b[0mjson\u001b[0m\u001b[0;34m(\u001b[0m\u001b[0;34m)\u001b[0m\u001b[0;34m\u001b[0m\u001b[0;34m\u001b[0m\u001b[0m\n\u001b[0m\u001b[1;32m     98\u001b[0m \u001b[0;34m\u001b[0m\u001b[0m\n",
      "\u001b[0;32m~/anaconda3/lib/python3.7/site-packages/requests/sessions.py\u001b[0m in \u001b[0;36mget\u001b[0;34m(self, url, **kwargs)\u001b[0m\n\u001b[1;32m    545\u001b[0m         \u001b[0mkwargs\u001b[0m\u001b[0;34m.\u001b[0m\u001b[0msetdefault\u001b[0m\u001b[0;34m(\u001b[0m\u001b[0;34m'allow_redirects'\u001b[0m\u001b[0;34m,\u001b[0m \u001b[0;32mTrue\u001b[0m\u001b[0;34m)\u001b[0m\u001b[0;34m\u001b[0m\u001b[0;34m\u001b[0m\u001b[0m\n\u001b[0;32m--> 546\u001b[0;31m         \u001b[0;32mreturn\u001b[0m \u001b[0mself\u001b[0m\u001b[0;34m.\u001b[0m\u001b[0mrequest\u001b[0m\u001b[0;34m(\u001b[0m\u001b[0;34m'GET'\u001b[0m\u001b[0;34m,\u001b[0m \u001b[0murl\u001b[0m\u001b[0;34m,\u001b[0m \u001b[0;34m**\u001b[0m\u001b[0mkwargs\u001b[0m\u001b[0;34m)\u001b[0m\u001b[0;34m\u001b[0m\u001b[0;34m\u001b[0m\u001b[0m\n\u001b[0m\u001b[1;32m    547\u001b[0m \u001b[0;34m\u001b[0m\u001b[0m\n",
      "\u001b[0;32m~/anaconda3/lib/python3.7/site-packages/qiskit/providers/ibmq/api_v2/session.py\u001b[0m in \u001b[0;36mrequest\u001b[0;34m(self, method, url, bare, **kwargs)\u001b[0m\n\u001b[1;32m    165\u001b[0m \u001b[0;34m\u001b[0m\u001b[0m\n\u001b[0;32m--> 166\u001b[0;31m             \u001b[0;32mraise\u001b[0m \u001b[0mRequestsApiError\u001b[0m\u001b[0;34m(\u001b[0m\u001b[0mex\u001b[0m\u001b[0;34m,\u001b[0m \u001b[0mmessage\u001b[0m\u001b[0;34m)\u001b[0m \u001b[0;32mfrom\u001b[0m \u001b[0;32mNone\u001b[0m\u001b[0;34m\u001b[0m\u001b[0;34m\u001b[0m\u001b[0m\n\u001b[0m\u001b[1;32m    167\u001b[0m \u001b[0;34m\u001b[0m\u001b[0m\n",
      "\u001b[0;31mRequestsApiError\u001b[0m: 520 Server Error: Origin Error for url: https://api.quantum-computing.ibm.com/api/Network/ibm-q/Groups/open/Projects/main/Jobs/5d5d0a14600e30001904615c/status?access_token=...",
      "\nDuring handling of the above exception, another exception occurred:\n",
      "\u001b[0;31mJobError\u001b[0m                                  Traceback (most recent call last)",
      "\u001b[0;32m<ipython-input-113-082946c1feed>\u001b[0m in \u001b[0;36m<module>\u001b[0;34m\u001b[0m\n\u001b[1;32m      7\u001b[0m \u001b[0;34m\u001b[0m\u001b[0m\n\u001b[1;32m      8\u001b[0m \u001b[0mjob_exp\u001b[0m \u001b[0;34m=\u001b[0m \u001b[0mexecute\u001b[0m\u001b[0;34m(\u001b[0m\u001b[0mcircuit\u001b[0m\u001b[0;34m,\u001b[0m \u001b[0mbackend\u001b[0m\u001b[0;34m,\u001b[0m \u001b[0mshots\u001b[0m\u001b[0;34m=\u001b[0m\u001b[0mshots\u001b[0m\u001b[0;34m,\u001b[0m \u001b[0mmax_credits\u001b[0m\u001b[0;34m=\u001b[0m\u001b[0mmax_credits\u001b[0m\u001b[0;34m)\u001b[0m\u001b[0;34m\u001b[0m\u001b[0;34m\u001b[0m\u001b[0m\n\u001b[0;32m----> 9\u001b[0;31m \u001b[0mjob_monitor\u001b[0m\u001b[0;34m(\u001b[0m\u001b[0mjob_exp\u001b[0m\u001b[0;34m)\u001b[0m\u001b[0;34m\u001b[0m\u001b[0;34m\u001b[0m\u001b[0m\n\u001b[0m",
      "\u001b[0;32m~/anaconda3/lib/python3.7/site-packages/qiskit/tools/monitor/job_monitor.py\u001b[0m in \u001b[0;36mjob_monitor\u001b[0;34m(job, interval, monitor_async, quiet, output)\u001b[0m\n\u001b[1;32m    112\u001b[0m         \u001b[0;32melse\u001b[0m\u001b[0;34m:\u001b[0m\u001b[0;34m\u001b[0m\u001b[0;34m\u001b[0m\u001b[0m\n\u001b[1;32m    113\u001b[0m             _text_checker(job, interval, _interval_set,\n\u001b[0;32m--> 114\u001b[0;31m                           quiet=quiet, output=output)\n\u001b[0m\u001b[1;32m    115\u001b[0m \u001b[0;34m\u001b[0m\u001b[0m\n\u001b[1;32m    116\u001b[0m     \u001b[0;32melse\u001b[0m\u001b[0;34m:\u001b[0m\u001b[0;34m\u001b[0m\u001b[0;34m\u001b[0m\u001b[0m\n",
      "\u001b[0;32m~/anaconda3/lib/python3.7/site-packages/qiskit/tools/monitor/job_monitor.py\u001b[0m in \u001b[0;36m_text_checker\u001b[0;34m(job, interval, _interval_set, quiet, output)\u001b[0m\n\u001b[1;32m     48\u001b[0m     \u001b[0;32mwhile\u001b[0m \u001b[0mstatus\u001b[0m\u001b[0;34m.\u001b[0m\u001b[0mname\u001b[0m \u001b[0;32mnot\u001b[0m \u001b[0;32min\u001b[0m \u001b[0;34m[\u001b[0m\u001b[0;34m'DONE'\u001b[0m\u001b[0;34m,\u001b[0m \u001b[0;34m'CANCELLED'\u001b[0m\u001b[0;34m,\u001b[0m \u001b[0;34m'ERROR'\u001b[0m\u001b[0;34m]\u001b[0m\u001b[0;34m:\u001b[0m\u001b[0;34m\u001b[0m\u001b[0;34m\u001b[0m\u001b[0m\n\u001b[1;32m     49\u001b[0m         \u001b[0mtime\u001b[0m\u001b[0;34m.\u001b[0m\u001b[0msleep\u001b[0m\u001b[0;34m(\u001b[0m\u001b[0minterval\u001b[0m\u001b[0;34m)\u001b[0m\u001b[0;34m\u001b[0m\u001b[0;34m\u001b[0m\u001b[0m\n\u001b[0;32m---> 50\u001b[0;31m         \u001b[0mstatus\u001b[0m \u001b[0;34m=\u001b[0m \u001b[0mjob\u001b[0m\u001b[0;34m.\u001b[0m\u001b[0mstatus\u001b[0m\u001b[0;34m(\u001b[0m\u001b[0;34m)\u001b[0m\u001b[0;34m\u001b[0m\u001b[0;34m\u001b[0m\u001b[0m\n\u001b[0m\u001b[1;32m     51\u001b[0m         \u001b[0mmsg\u001b[0m \u001b[0;34m=\u001b[0m \u001b[0mstatus\u001b[0m\u001b[0;34m.\u001b[0m\u001b[0mvalue\u001b[0m\u001b[0;34m\u001b[0m\u001b[0;34m\u001b[0m\u001b[0m\n\u001b[1;32m     52\u001b[0m \u001b[0;34m\u001b[0m\u001b[0m\n",
      "\u001b[0;32m~/anaconda3/lib/python3.7/site-packages/qiskit/providers/ibmq/job/ibmqjob.py\u001b[0m in \u001b[0;36mstatus\u001b[0;34m(self)\u001b[0m\n\u001b[1;32m    314\u001b[0m         \u001b[0;31m# pylint: disable=broad-except\u001b[0m\u001b[0;34m\u001b[0m\u001b[0;34m\u001b[0m\u001b[0;34m\u001b[0m\u001b[0m\n\u001b[1;32m    315\u001b[0m         \u001b[0;32mexcept\u001b[0m \u001b[0mException\u001b[0m \u001b[0;32mas\u001b[0m \u001b[0merr\u001b[0m\u001b[0;34m:\u001b[0m\u001b[0;34m\u001b[0m\u001b[0;34m\u001b[0m\u001b[0m\n\u001b[0;32m--> 316\u001b[0;31m             \u001b[0;32mraise\u001b[0m \u001b[0mJobError\u001b[0m\u001b[0;34m(\u001b[0m\u001b[0mstr\u001b[0m\u001b[0;34m(\u001b[0m\u001b[0merr\u001b[0m\u001b[0;34m)\u001b[0m\u001b[0;34m)\u001b[0m\u001b[0;34m\u001b[0m\u001b[0;34m\u001b[0m\u001b[0m\n\u001b[0m\u001b[1;32m    317\u001b[0m \u001b[0;34m\u001b[0m\u001b[0m\n\u001b[1;32m    318\u001b[0m         \u001b[0;32mreturn\u001b[0m \u001b[0mself\u001b[0m\u001b[0;34m.\u001b[0m\u001b[0m_status\u001b[0m\u001b[0;34m\u001b[0m\u001b[0;34m\u001b[0m\u001b[0m\n",
      "\u001b[0;31mJobError\u001b[0m: '520 Server Error: Origin Error for url: https://api.quantum-computing.ibm.com/api/Network/ibm-q/Groups/open/Projects/main/Jobs/5d5d0a14600e30001904615c/status?access_token=...'"
     ]
    }
   ],
   "source": [
    "from qiskit.tools.monitor import job_monitor\n",
    "# Number of shots to run the program (experiment);\n",
    "# maximum is 8192 shots.\n",
    "shots = 2048\n",
    "# Maximum number of credits to spend on executions.\n",
    "max_credits = 3\n",
    "\n",
    "job_exp = execute(circuit, backend, shots=shots, max_credits=max_credits)\n",
    "job_monitor(job_exp)"
   ]
  },
  {
   "cell_type": "code",
   "execution_count": 115,
   "metadata": {},
   "outputs": [],
   "source": [
    "# Remember to give different names to different runs\n",
    "result_exp = job_exp.result()"
   ]
  },
  {
   "cell_type": "code",
   "execution_count": 116,
   "metadata": {},
   "outputs": [],
   "source": [
    "counts_exp = result_exp.get_counts(circuit)"
   ]
  },
  {
   "cell_type": "code",
   "execution_count": 117,
   "metadata": {},
   "outputs": [],
   "source": [
    "goodCounts_exp = {k: counts_exp[k] for k in counts_exp.keys() & {'0001', '0101', '1001', '1101'}}"
   ]
  },
  {
   "cell_type": "code",
   "execution_count": 118,
   "metadata": {},
   "outputs": [
    {
     "data": {
      "image/png": "[encoded data removed]",
      "text/plain": [
       "<Figure size 504x360 with 1 Axes>"
      ]
     },
     "execution_count": 118,
     "metadata": {},
     "output_type": "execute_result"
    }
   ],
   "source": [
    "plot_histogram(goodCounts_exp)"
   ]
  },
  {
   "cell_type": "code",
   "execution_count": 42,
   "metadata": {
    "scrolled": true
   },
   "outputs": [
    {
     "data": {
      "image/png": "[encoded data removed]",
      "text/plain": [
       "<Figure size 504x360 with 1 Axes>"
      ]
     },
     "execution_count": 42,
     "metadata": {},
     "output_type": "execute_result"
    }
   ],
   "source": [
    "# old with mistakes\n",
    "# First run with simple orthogonal training vectors\n",
    "# Id 5d40aef179d2c1001849f56b\n",
    "plot_histogram([goodCounts_exp,goodCounts])"
   ]
  },
  {
   "cell_type": "code",
   "execution_count": null,
   "metadata": {},
   "outputs": [],
   "source": []
  },
  {
   "cell_type": "code",
   "execution_count": 72,
   "metadata": {},
   "outputs": [],
   "source": [
    "# Remember to give different names to different runs\n",
    "result_exp_1 = job_exp.result()"
   ]
  },
  {
   "cell_type": "code",
   "execution_count": 73,
   "metadata": {},
   "outputs": [],
   "source": [
    "counts_exp_1 = result_exp_1.get_counts(circuit)"
   ]
  },
  {
   "cell_type": "code",
   "execution_count": 74,
   "metadata": {},
   "outputs": [],
   "source": [
    "goodCounts_exp_1 = {k: counts_exp_1[k] for k in counts_exp_1.keys() & {'0001', '0101', '1001', '1101'}}"
   ]
  },
  {
   "cell_type": "code",
   "execution_count": 75,
   "metadata": {
    "scrolled": false
   },
   "outputs": [
    {
     "data": {
      "image/png": "[encoded data removed]",
      "text/plain": [
       "<Figure size 504x360 with 1 Axes>"
      ]
     },
     "execution_count": 75,
     "metadata": {},
     "output_type": "execute_result"
    }
   ],
   "source": [
    "# First run with simple orthogonal training vectors\n",
    "# Id 5d40aef179d2c1001849f56b\n",
    "plot_histogram([goodCounts_exp_1,goodCounts])"
   ]
  },
  {
   "cell_type": "code",
   "execution_count": null,
   "metadata": {},
   "outputs": [],
   "source": []
  },
  {
   "cell_type": "code",
   "execution_count": 154,
   "metadata": {},
   "outputs": [],
   "source": [
    "backend_hpc = provider.get_backend('ibmq_qasm_simulator', hub=None)"
   ]
  },
  {
   "cell_type": "code",
   "execution_count": 155,
   "metadata": {},
   "outputs": [],
   "source": [
    "# Number of shots to run the program (experiment);\n",
    "# maximum is 8192 shots.\n",
    "shots = 2048\n",
    "\n",
    "# Maximum number of credits to spend on executions.\n",
    "max_credits = 3\n",
    "\n",
    "job_hpc = execute(circuit, backend_hpc, shots=shots, max_credits=max_credits)"
   ]
  },
  {
   "cell_type": "code",
   "execution_count": 156,
   "metadata": {},
   "outputs": [],
   "source": [
    "result_hpc = job_hpc.result()"
   ]
  },
  {
   "cell_type": "code",
   "execution_count": 157,
   "metadata": {},
   "outputs": [
    {
     "data": {
      "image/png": "[encoded data removed]",
      "text/plain": [
       "<Figure size 504x360 with 1 Axes>"
      ]
     },
     "execution_count": 157,
     "metadata": {},
     "output_type": "execute_result"
    }
   ],
   "source": [
    "counts_hpc = result_hpc.get_counts(circuit)\n",
    "plot_histogram(counts_hpc)"
   ]
  },
  {
   "cell_type": "code",
   "execution_count": 158,
   "metadata": {},
   "outputs": [
    {
     "data": {
      "image/png": "[encoded data removed]",
      "text/plain": [
       "<Figure size 504x360 with 1 Axes>"
      ]
     },
     "execution_count": 158,
     "metadata": {},
     "output_type": "execute_result"
    }
   ],
   "source": [
    "goodCounts_hpc = {k: counts_hpc[k] for k in counts_hpc.keys() & {'0001', '0101', '1001', '1101'}}\n",
    "plot_histogram(goodCounts_hpc)"
   ]
  },
  {
   "cell_type": "code",
   "execution_count": null,
   "metadata": {},
   "outputs": [],
   "source": []
  },
  {
   "cell_type": "code",
   "execution_count": null,
   "metadata": {},
   "outputs": [],
   "source": []
  },
  {
   "cell_type": "code",
   "execution_count": null,
   "metadata": {},
   "outputs": [],
   "source": [
    "# Number of shots to run the program (experiment);\n",
    "# maximum is 8192 shots.\n",
    "shots = 2048\n",
    "# Maximum number of credits to spend on executions.\n",
    "max_credits = 3\n",
    "\n",
    "job_exp_ibmq_qasm = execute(circuit, 'ibmq_qasm_simulator', shots=shots, max_credits=max_credits)\n",
    "job_monitor(job_exp_ibmq_qasm)"
   ]
  },
  {
   "cell_type": "code",
   "execution_count": null,
   "metadata": {},
   "outputs": [],
   "source": []
  },
  {
   "cell_type": "code",
   "execution_count": null,
   "metadata": {},
   "outputs": [],
   "source": []
  },
  {
   "cell_type": "code",
   "execution_count": null,
   "metadata": {},
   "outputs": [],
   "source": []
  },
  {
   "cell_type": "code",
   "execution_count": null,
   "metadata": {},
   "outputs": [],
   "source": []
  },
  {
   "cell_type": "code",
   "execution_count": null,
   "metadata": {},
   "outputs": [],
   "source": []
  },
  {
   "cell_type": "code",
   "execution_count": 227,
   "metadata": {},
   "outputs": [],
   "source": [
    "# # Testing QRAM\n",
    "# inputVector = [np.pi,np.pi,np.pi,0]\n",
    "# qram = QuantumCircuit(qrama,d,r,classical)\n",
    "# # I need to entangle the ψx state to the |0> state of the kNN ancilla\n",
    "# qram.h(d)\n",
    "# # Encode state |00>\n",
    "# qram.x(d)\n",
    "# # The rotation angle should be converted accordingly\n",
    "# qram.mcry(inputVector[0], d[0:2], r[0], qrama)\n",
    "# qram.x(d)\n",
    "# qram.barrier()\n",
    "# # Encode state |01>\n",
    "# qram.x(d[0])\n",
    "# qram.mcry(inputVector[1], d[0:2], r[0], qrama)\n",
    "# qram.x(d[0])\n",
    "# qram.barrier()\n",
    "# # Encode state |10>\n",
    "# qram.x(d[1])\n",
    "# qram.mcry(inputVector[2], d[0:2], r[0], qrama)\n",
    "# qram.x(d[1])\n",
    "# qram.barrier()\n",
    "# # Encode state |11>\n",
    "# qram.mcry(inputVector[3], d[0:2], r[0], qrama)\n",
    "# qram.barrier()\n",
    "# # qram.draw(output='mpl')\n",
    "# qram.measure(r,classical[0])\n",
    "# simulator = Aer.get_backend('qasm_simulator')\n",
    "# job = execute(qram, simulator, shots=2000)\n",
    "# result = job.result()\n",
    "# counts = result.get_counts(qram)\n",
    "# print(\"\\nTotal counts are:\",counts)"
   ]
  },
  {
   "cell_type": "code",
   "execution_count": 228,
   "metadata": {},
   "outputs": [],
   "source": [
    "# # Testing qubits order\n",
    "# qreg = QuantumRegister(2, 'qreg')\n",
    "# creg = ClassicalRegister(2, 'creg')\n",
    "# test = QuantumCircuit(qreg,creg)\n",
    "# test.x(qreg[0])\n",
    "# test.h(qreg[1])\n",
    "# test.measure(qreg,creg)\n",
    "# tester = Aer.get_backend('qasm_simulator')\n",
    "# jobber = execute(test, tester, shots=1024)\n",
    "# resulter = jobber.result()\n",
    "# counter = resulter.get_counts(test)\n",
    "# print(\"Total counts are:\",counter)\n",
    "# # So the 0th place of a vector is the rightmost in the bracket representation"
   ]
  },
  {
   "cell_type": "code",
   "execution_count": 379,
   "metadata": {},
   "outputs": [],
   "source": [
    "# ancillae = QuantumRegister(2)\n",
    "# qubits = QuantumRegister(3)\n",
    "# bits = ClassicalRegister(5)\n",
    "# rotation = QuantumCircuit(ancillae,qubits,bits)"
   ]
  },
  {
   "cell_type": "code",
   "execution_count": 380,
   "metadata": {},
   "outputs": [
    {
     "data": {
      "text/plain": [
       "<qiskit.circuit.instructionset.InstructionSet at 0x7fb738723860>"
      ]
     },
     "execution_count": 380,
     "metadata": {},
     "output_type": "execute_result"
    }
   ],
   "source": [
    "# rotation.mcry(np.pi,qubits[0:2],qubits[2],ancillae)\n",
    "# rotation.x(ancillae)\n",
    "# rotation.h(qubits)\n",
    "# rotation.measure(ancillae,bits[0:2])\n",
    "# rotation.measure(qubits,bits[2:])"
   ]
  },
  {
   "cell_type": "code",
   "execution_count": 381,
   "metadata": {},
   "outputs": [
    {
     "name": "stdout",
     "output_type": "stream",
     "text": [
      "Total counts are: {'00111': 121, '11111': 121, '00011': 134, '01011': 122, '01111': 135, '10111': 127, '10011': 123, '11011': 141}\n"
     ]
    }
   ],
   "source": [
    "# simulator = Aer.get_backend('qasm_simulator')\n",
    "# job = execute(rotation, simulator, shots=1024)\n",
    "# result = job.result()\n",
    "# counts = result.get_counts(rotation)\n",
    "# print(\"Total counts are:\",counts)"
   ]
  },
  {
   "cell_type": "code",
   "execution_count": null,
   "metadata": {},
   "outputs": [],
   "source": []
  }
 ],
 "metadata": {
  "kernelspec": {
   "display_name": "Python 3",
   "language": "python",
   "name": "python3"
  },
  "language_info": {
   "codemirror_mode": {
    "name": "ipython",
    "version": 3
   },
   "file_extension": ".py",
   "mimetype": "text/x-python",
   "name": "python",
   "nbconvert_exporter": "python",
   "pygments_lexer": "ipython3",
   "version": "3.7.3"
  }
 },
 "nbformat": 4,
 "nbformat_minor": 2
}
