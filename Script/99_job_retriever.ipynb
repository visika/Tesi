{
 "cells": [
  {
   "cell_type": "code",
   "execution_count": 3,
   "metadata": {},
   "outputs": [],
   "source": [
    "import qiskit\n",
    "from qiskit import IBMQ\n",
    "from qiskit.visualization import plot_histogram"
   ]
  },
  {
   "cell_type": "code",
   "execution_count": 4,
   "metadata": {},
   "outputs": [],
   "source": [
    "provider = IBMQ.load_account()"
   ]
  },
  {
   "cell_type": "code",
   "execution_count": 5,
   "metadata": {},
   "outputs": [
    {
     "name": "stdout",
     "output_type": "stream",
     "text": [
      "The best backend is ibmq_16_melbourne\n"
     ]
    }
   ],
   "source": [
    "from qiskit.providers.ibmq import least_busy\n",
    "\n",
    "large_enough_devices = provider.backends(filters=lambda x: x.configuration().n_qubits > 13 and not x.configuration().simulator)\n",
    "backend = least_busy(large_enough_devices)\n",
    "print(\"The best backend is \" + backend.name())"
   ]
  },
  {
   "cell_type": "markdown",
   "metadata": {},
   "source": [
    "setosa: 5d7ba62372be470018b3953d  \n",
    "versicolor: 5da59372beb3350011051548    \n",
    "unknown: 5d7b6a7a59f29d001a16e0b1"
   ]
  },
  {
   "cell_type": "code",
   "execution_count": 20,
   "metadata": {},
   "outputs": [
    {
     "name": "stderr",
     "output_type": "stream",
     "text": [
      "/home/mariano/anaconda3/envs/qiskit/lib/python3.7/site-packages/qiskit/providers/ibmq/ibmqbackend.py:285: UserWarning: Job \"5da5982c1ad63100112315f9\" belongs to another backend than the one queried. The query was made on backend \"ibmq_16_melbourne\", but the job actually belongs to backend \"ibmq_qasm_simulator\".\n",
      "  .format(job_id, self.name(), job_backend_name))\n"
     ]
    },
    {
     "ename": "IBMQBackendError",
     "evalue": "'Failed to get job \"5da5982c1ad63100112315f9\": job does not belong to backend \"ibmq_16_melbourne\".'",
     "output_type": "error",
     "traceback": [
      "\u001b[0;31m---------------------------------------------------------------------------\u001b[0m",
      "\u001b[0;31mIBMQBackendError\u001b[0m                          Traceback (most recent call last)",
      "\u001b[0;32m<ipython-input-20-1ae5c66e2f45>\u001b[0m in \u001b[0;36m<module>\u001b[0;34m\u001b[0m\n\u001b[1;32m      1\u001b[0m \u001b[0;31m# Riprendi un determinato ordine usando il suo id\u001b[0m\u001b[0;34m\u001b[0m\u001b[0;34m\u001b[0m\u001b[0;34m\u001b[0m\u001b[0m\n\u001b[0;32m----> 2\u001b[0;31m \u001b[0mjob_retrieved\u001b[0m \u001b[0;34m=\u001b[0m \u001b[0mbackend\u001b[0m\u001b[0;34m.\u001b[0m\u001b[0mretrieve_job\u001b[0m\u001b[0;34m(\u001b[0m\u001b[0;34m'5da5982c1ad63100112315f9'\u001b[0m\u001b[0;34m)\u001b[0m\u001b[0;34m\u001b[0m\u001b[0;34m\u001b[0m\u001b[0m\n\u001b[0m",
      "\u001b[0;32m~/anaconda3/envs/qiskit/lib/python3.7/site-packages/qiskit/providers/ibmq/ibmqbackend.py\u001b[0m in \u001b[0;36mretrieve_job\u001b[0;34m(self, job_id)\u001b[0m\n\u001b[1;32m    286\u001b[0m                 raise IBMQBackendError('Failed to get job \"{}\": '\n\u001b[1;32m    287\u001b[0m                                        \u001b[0;34m'job does not belong to backend \"{}\".'\u001b[0m\u001b[0;34m\u001b[0m\u001b[0;34m\u001b[0m\u001b[0m\n\u001b[0;32m--> 288\u001b[0;31m                                        .format(job_id, self.name()))\n\u001b[0m\u001b[1;32m    289\u001b[0m \u001b[0;34m\u001b[0m\u001b[0m\n\u001b[1;32m    290\u001b[0m             \u001b[0;31m# Check for pre-qobj jobs.\u001b[0m\u001b[0;34m\u001b[0m\u001b[0;34m\u001b[0m\u001b[0;34m\u001b[0m\u001b[0m\n",
      "\u001b[0;31mIBMQBackendError\u001b[0m: 'Failed to get job \"5da5982c1ad63100112315f9\": job does not belong to backend \"ibmq_16_melbourne\".'"
     ]
    }
   ],
   "source": [
    "# Riprendi un determinato ordine usando il suo id\n",
    "job_retrieved = backend.retrieve_job('5da5982c1ad63100112315f9')"
   ]
  },
  {
   "cell_type": "code",
   "execution_count": 18,
   "metadata": {},
   "outputs": [],
   "source": [
    "result_retrieved = job_retrieved.result()\n",
    "counts_retrieved = result_retrieved.get_counts()\n",
    "goodCounts_retrieved = {k: counts_retrieved[k] for k in counts_retrieved.keys() & {'0001', '0101', '1001', '1101'}}"
   ]
  },
  {
   "cell_type": "code",
   "execution_count": 19,
   "metadata": {},
   "outputs": [
    {
     "data": {
      "image/png": "[encoded data removed]",
      "text/plain": [
       "<Figure size 504x360 with 1 Axes>"
      ]
     },
     "execution_count": 19,
     "metadata": {},
     "output_type": "execute_result"
    }
   ],
   "source": [
    "plot_histogram(goodCounts_retrieved)"
   ]
  },
  {
   "cell_type": "code",
   "execution_count": null,
   "metadata": {},
   "outputs": [],
   "source": []
  }
 ],
 "metadata": {
  "kernelspec": {
   "display_name": "Python 3",
   "language": "python",
   "name": "python3"
  },
  "language_info": {
   "codemirror_mode": {
    "name": "ipython",
    "version": 3
   },
   "file_extension": ".py",
   "mimetype": "text/x-python",
   "name": "python",
   "nbconvert_exporter": "python",
   "pygments_lexer": "ipython3",
   "version": "3.7.4"
  }
 },
 "nbformat": 4,
 "nbformat_minor": 2
}
