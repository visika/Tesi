{
 "cells": [
  {
   "cell_type": "markdown",
   "metadata": {},
   "source": [
    "## From the article"
   ]
  },
  {
   "cell_type": "markdown",
   "metadata": {},
   "source": [
    "# Implementing a distance-based classifier with a quantum interference circuit"
   ]
  },
  {
   "cell_type": "markdown",
   "metadata": {},
   "source": [
    "###  M. Schuld et al 2017 EPL 119 60002"
   ]
  },
  {
   "cell_type": "markdown",
   "metadata": {},
   "source": [
    "## Let's try to input more training vectors from the Iris Data Set"
   ]
  },
  {
   "cell_type": "markdown",
   "metadata": {},
   "source": [
    "# Preparing the data"
   ]
  },
  {
   "cell_type": "code",
   "execution_count": 1,
   "metadata": {},
   "outputs": [],
   "source": [
    "import numpy as np\n",
    "import pandas as pd"
   ]
  },
  {
   "cell_type": "code",
   "execution_count": 2,
   "metadata": {
    "scrolled": true
   },
   "outputs": [],
   "source": [
    "iris = pd.read_csv(\"Iris/iris.data\",header=None,names=[\"f0\",\"f1\",\"f2\",\"f3\",\"class\"])"
   ]
  },
  {
   "cell_type": "code",
   "execution_count": 3,
   "metadata": {},
   "outputs": [],
   "source": [
    "setosa = iris[iris[\"class\"] == \"Iris-setosa\"]\n",
    "versicolor = iris[iris[\"class\"] == \"Iris-versicolor\"]\n",
    "virginica = iris[iris[\"class\"] == \"Iris-virginica\"]"
   ]
  },
  {
   "cell_type": "code",
   "execution_count": 4,
   "metadata": {},
   "outputs": [],
   "source": [
    "data = pd.concat([setosa,versicolor,virginica])"
   ]
  },
  {
   "cell_type": "code",
   "execution_count": 5,
   "metadata": {},
   "outputs": [],
   "source": [
    "import matplotlib.pyplot as plt\n",
    "\n",
    "def plotIris(data,x,y):\n",
    "    X = data[data[\"class\"] == \"Iris-setosa\"]\n",
    "    plt.scatter(X[x],X[y],color=\"red\",marker=\"o\",label=\"setosa\")\n",
    "    X = data[data[\"class\"] == \"Iris-versicolor\"]\n",
    "    plt.scatter(X[x],X[y],color=\"blue\",marker=\"x\",label=\"versicolor\")\n",
    "    X = data[data[\"class\"] == \"Iris-virginica\"]\n",
    "    plt.scatter(X[x],X[y],color=\"yellow\",marker=\"^\",label=\"virginica\")\n",
    "    \n",
    "    plt.xlabel(x)\n",
    "    plt.ylabel(y)\n",
    "    plt.legend(loc='upper left')\n",
    "\n",
    "    # plt.savefig('images/02_06.png', dpi=300)\n",
    "    plt.show()"
   ]
  },
  {
   "cell_type": "code",
   "execution_count": 6,
   "metadata": {},
   "outputs": [
    {
     "data": {
      "image/png": "[encoded data removed]",
      "text/plain": [
       "<Figure size 432x288 with 1 Axes>"
      ]
     },
     "metadata": {
      "needs_background": "light"
     },
     "output_type": "display_data"
    }
   ],
   "source": [
    "plotIris(data,\"f0\",\"f2\")"
   ]
  },
  {
   "cell_type": "code",
   "execution_count": 7,
   "metadata": {},
   "outputs": [
    {
     "data": {
      "text/html": [
       "<div>\n",
       "<style scoped>\n",
       "    .dataframe tbody tr th:only-of-type {\n",
       "        vertical-align: middle;\n",
       "    }\n",
       "\n",
       "    .dataframe tbody tr th {\n",
       "        vertical-align: top;\n",
       "    }\n",
       "\n",
       "    .dataframe thead th {\n",
       "        text-align: right;\n",
       "    }\n",
       "</style>\n",
       "<table border=\"1\" class=\"dataframe\">\n",
       "  <thead>\n",
       "    <tr style=\"text-align: right;\">\n",
       "      <th></th>\n",
       "      <th>f0</th>\n",
       "      <th>f1</th>\n",
       "      <th>f2</th>\n",
       "      <th>f3</th>\n",
       "    </tr>\n",
       "  </thead>\n",
       "  <tbody>\n",
       "    <tr>\n",
       "      <th>count</th>\n",
       "      <td>150.000000</td>\n",
       "      <td>150.000000</td>\n",
       "      <td>150.000000</td>\n",
       "      <td>150.000000</td>\n",
       "    </tr>\n",
       "    <tr>\n",
       "      <th>mean</th>\n",
       "      <td>5.843333</td>\n",
       "      <td>3.054000</td>\n",
       "      <td>3.758667</td>\n",
       "      <td>1.198667</td>\n",
       "    </tr>\n",
       "    <tr>\n",
       "      <th>std</th>\n",
       "      <td>0.828066</td>\n",
       "      <td>0.433594</td>\n",
       "      <td>1.764420</td>\n",
       "      <td>0.763161</td>\n",
       "    </tr>\n",
       "    <tr>\n",
       "      <th>min</th>\n",
       "      <td>4.300000</td>\n",
       "      <td>2.000000</td>\n",
       "      <td>1.000000</td>\n",
       "      <td>0.100000</td>\n",
       "    </tr>\n",
       "    <tr>\n",
       "      <th>25%</th>\n",
       "      <td>5.100000</td>\n",
       "      <td>2.800000</td>\n",
       "      <td>1.600000</td>\n",
       "      <td>0.300000</td>\n",
       "    </tr>\n",
       "    <tr>\n",
       "      <th>50%</th>\n",
       "      <td>5.800000</td>\n",
       "      <td>3.000000</td>\n",
       "      <td>4.350000</td>\n",
       "      <td>1.300000</td>\n",
       "    </tr>\n",
       "    <tr>\n",
       "      <th>75%</th>\n",
       "      <td>6.400000</td>\n",
       "      <td>3.300000</td>\n",
       "      <td>5.100000</td>\n",
       "      <td>1.800000</td>\n",
       "    </tr>\n",
       "    <tr>\n",
       "      <th>max</th>\n",
       "      <td>7.900000</td>\n",
       "      <td>4.400000</td>\n",
       "      <td>6.900000</td>\n",
       "      <td>2.500000</td>\n",
       "    </tr>\n",
       "  </tbody>\n",
       "</table>\n",
       "</div>"
      ],
      "text/plain": [
       "               f0          f1          f2          f3\n",
       "count  150.000000  150.000000  150.000000  150.000000\n",
       "mean     5.843333    3.054000    3.758667    1.198667\n",
       "std      0.828066    0.433594    1.764420    0.763161\n",
       "min      4.300000    2.000000    1.000000    0.100000\n",
       "25%      5.100000    2.800000    1.600000    0.300000\n",
       "50%      5.800000    3.000000    4.350000    1.300000\n",
       "75%      6.400000    3.300000    5.100000    1.800000\n",
       "max      7.900000    4.400000    6.900000    2.500000"
      ]
     },
     "execution_count": 7,
     "metadata": {},
     "output_type": "execute_result"
    }
   ],
   "source": [
    "data.loc[:,[\"f0\",\"f1\",\"f2\",\"f3\"]].describe()"
   ]
  },
  {
   "cell_type": "code",
   "execution_count": 8,
   "metadata": {},
   "outputs": [],
   "source": [
    "from sklearn.preprocessing import StandardScaler\n",
    "scaler = StandardScaler()\n",
    "data.loc[:,[\"f0\",\"f1\",\"f2\",\"f3\"]] = scaler.fit_transform(data.loc[:,[\"f0\",\"f1\",\"f2\",\"f3\"]])"
   ]
  },
  {
   "cell_type": "code",
   "execution_count": 9,
   "metadata": {},
   "outputs": [
    {
     "data": {
      "text/html": [
       "<div>\n",
       "<style scoped>\n",
       "    .dataframe tbody tr th:only-of-type {\n",
       "        vertical-align: middle;\n",
       "    }\n",
       "\n",
       "    .dataframe tbody tr th {\n",
       "        vertical-align: top;\n",
       "    }\n",
       "\n",
       "    .dataframe thead th {\n",
       "        text-align: right;\n",
       "    }\n",
       "</style>\n",
       "<table border=\"1\" class=\"dataframe\">\n",
       "  <thead>\n",
       "    <tr style=\"text-align: right;\">\n",
       "      <th></th>\n",
       "      <th>f0</th>\n",
       "      <th>f1</th>\n",
       "      <th>f2</th>\n",
       "      <th>f3</th>\n",
       "    </tr>\n",
       "  </thead>\n",
       "  <tbody>\n",
       "    <tr>\n",
       "      <th>count</th>\n",
       "      <td>1.500000e+02</td>\n",
       "      <td>1.500000e+02</td>\n",
       "      <td>1.500000e+02</td>\n",
       "      <td>1.500000e+02</td>\n",
       "    </tr>\n",
       "    <tr>\n",
       "      <th>mean</th>\n",
       "      <td>-2.775558e-16</td>\n",
       "      <td>-5.140333e-16</td>\n",
       "      <td>1.154632e-16</td>\n",
       "      <td>9.251859e-16</td>\n",
       "    </tr>\n",
       "    <tr>\n",
       "      <th>std</th>\n",
       "      <td>1.003350e+00</td>\n",
       "      <td>1.003350e+00</td>\n",
       "      <td>1.003350e+00</td>\n",
       "      <td>1.003350e+00</td>\n",
       "    </tr>\n",
       "    <tr>\n",
       "      <th>min</th>\n",
       "      <td>-1.870024e+00</td>\n",
       "      <td>-2.438987e+00</td>\n",
       "      <td>-1.568735e+00</td>\n",
       "      <td>-1.444450e+00</td>\n",
       "    </tr>\n",
       "    <tr>\n",
       "      <th>25%</th>\n",
       "      <td>-9.006812e-01</td>\n",
       "      <td>-5.877635e-01</td>\n",
       "      <td>-1.227541e+00</td>\n",
       "      <td>-1.181504e+00</td>\n",
       "    </tr>\n",
       "    <tr>\n",
       "      <th>50%</th>\n",
       "      <td>-5.250608e-02</td>\n",
       "      <td>-1.249576e-01</td>\n",
       "      <td>3.362659e-01</td>\n",
       "      <td>1.332259e-01</td>\n",
       "    </tr>\n",
       "    <tr>\n",
       "      <th>75%</th>\n",
       "      <td>6.745011e-01</td>\n",
       "      <td>5.692513e-01</td>\n",
       "      <td>7.627586e-01</td>\n",
       "      <td>7.905908e-01</td>\n",
       "    </tr>\n",
       "    <tr>\n",
       "      <th>max</th>\n",
       "      <td>2.492019e+00</td>\n",
       "      <td>3.114684e+00</td>\n",
       "      <td>1.786341e+00</td>\n",
       "      <td>1.710902e+00</td>\n",
       "    </tr>\n",
       "  </tbody>\n",
       "</table>\n",
       "</div>"
      ],
      "text/plain": [
       "                 f0            f1            f2            f3\n",
       "count  1.500000e+02  1.500000e+02  1.500000e+02  1.500000e+02\n",
       "mean  -2.775558e-16 -5.140333e-16  1.154632e-16  9.251859e-16\n",
       "std    1.003350e+00  1.003350e+00  1.003350e+00  1.003350e+00\n",
       "min   -1.870024e+00 -2.438987e+00 -1.568735e+00 -1.444450e+00\n",
       "25%   -9.006812e-01 -5.877635e-01 -1.227541e+00 -1.181504e+00\n",
       "50%   -5.250608e-02 -1.249576e-01  3.362659e-01  1.332259e-01\n",
       "75%    6.745011e-01  5.692513e-01  7.627586e-01  7.905908e-01\n",
       "max    2.492019e+00  3.114684e+00  1.786341e+00  1.710902e+00"
      ]
     },
     "execution_count": 9,
     "metadata": {},
     "output_type": "execute_result"
    }
   ],
   "source": [
    "data.loc[:,[\"f0\",\"f1\",\"f2\",\"f3\"]].describe()"
   ]
  },
  {
   "cell_type": "code",
   "execution_count": 10,
   "metadata": {},
   "outputs": [
    {
     "data": {
      "image/png": "[encoded data removed]",
      "text/plain": [
       "<Figure size 432x288 with 1 Axes>"
      ]
     },
     "metadata": {
      "needs_background": "light"
     },
     "output_type": "display_data"
    }
   ],
   "source": [
    "plotIris(data,\"f0\",\"f1\")"
   ]
  },
  {
   "cell_type": "code",
   "execution_count": 11,
   "metadata": {},
   "outputs": [],
   "source": [
    "def normalize(v):\n",
    "    norm = np.linalg.norm(v)\n",
    "    if norm == 0: \n",
    "       return v\n",
    "    return v / norm"
   ]
  },
  {
   "cell_type": "code",
   "execution_count": 12,
   "metadata": {},
   "outputs": [],
   "source": [
    "for i in data.index:\n",
    "    v = [data[\"f0\"][i],data[\"f1\"][i],data[\"f2\"][i],data[\"f3\"][i]]\n",
    "    v = normalize(v)\n",
    "    data.loc[i,\"f0\"], data.loc[i,\"f1\"], data.loc[i,\"f2\"], data.loc[i,\"f3\"] = v[0], v[1], v[2], v[3]"
   ]
  },
  {
   "cell_type": "code",
   "execution_count": 13,
   "metadata": {},
   "outputs": [
    {
     "data": {
      "image/png": "[encoded data removed]",
      "text/plain": [
       "<Figure size 432x288 with 1 Axes>"
      ]
     },
     "metadata": {
      "needs_background": "light"
     },
     "output_type": "display_data"
    }
   ],
   "source": [
    "plotIris(data,\"f0\",\"f1\")"
   ]
  },
  {
   "cell_type": "code",
   "execution_count": 14,
   "metadata": {
    "scrolled": true
   },
   "outputs": [],
   "source": [
    "setosa = data[data[\"class\"]==\"Iris-setosa\"]\n",
    "versicolor = data[data[\"class\"]==\"Iris-versicolor\"]\n",
    "virginica = data[data[\"class\"]==\"Iris-virginica\"]"
   ]
  },
  {
   "cell_type": "code",
   "execution_count": 15,
   "metadata": {
    "scrolled": true
   },
   "outputs": [],
   "source": [
    "T0 = setosa.iloc[0:10].copy()\n",
    "T0.loc[:,\"f0\":\"f3\"] = T0.loc[:,\"f0\":\"f3\"].apply(np.arcsin)\n",
    "T1 = versicolor.iloc[0:11].copy()\n",
    "T1.loc[:,\"f0\":\"f3\"] = T1.loc[:,\"f0\":\"f3\"].apply(np.arcsin)\n",
    "T2 = virginica.iloc[0:11].copy()\n",
    "T2.loc[:,\"f0\":\"f3\"] = T2.loc[:,\"f0\":\"f3\"].apply(np.arcsin)"
   ]
  },
  {
   "cell_type": "code",
   "execution_count": 16,
   "metadata": {},
   "outputs": [],
   "source": [
    "# random_seed : int : Random number generator seed\n",
    "random_seed = 1\n",
    "rgen = np.random.RandomState(random_seed)\n",
    "def _shuffle(self, X, y):\n",
    "    \"\"\"Shuffle training data\"\"\"\n",
    "    r = self.rgen.permutation(len(y))\n",
    "    return X[r], y[r]"
   ]
  },
  {
   "cell_type": "code",
   "execution_count": 17,
   "metadata": {},
   "outputs": [],
   "source": [
    "S0 = setosa.iloc[rgen.permutation(len(setosa.index))[:10]].copy()\n",
    "S0.loc[:,\"f0\":\"f3\"] = S0.loc[:,\"f0\":\"f3\"].apply(np.arcsin)\n",
    "S1 = versicolor.iloc[rgen.permutation(len(versicolor.index))[:11]].copy()\n",
    "S1.loc[:,\"f0\":\"f3\"] = S1.loc[:,\"f0\":\"f3\"].apply(np.arcsin)\n",
    "S2 = virginica.iloc[rgen.permutation(len(virginica.index))[:11]].copy()\n",
    "S2.loc[:,\"f0\":\"f3\"] = S2.loc[:,\"f0\":\"f3\"].apply(np.arcsin)"
   ]
  },
  {
   "cell_type": "code",
   "execution_count": 18,
   "metadata": {
    "scrolled": true
   },
   "outputs": [],
   "source": [
    "Se = setosa.loc[:,\"f0\":\"f3\"].apply(np.arcsin)\n",
    "Ve = versicolor.loc[:,\"f0\":\"f3\"].apply(np.arcsin)\n",
    "Vi = virginica.loc[:,\"f0\":\"f3\"].apply(np.arcsin)"
   ]
  },
  {
   "cell_type": "code",
   "execution_count": 19,
   "metadata": {},
   "outputs": [
    {
     "data": {
      "text/html": [
       "<div>\n",
       "<style scoped>\n",
       "    .dataframe tbody tr th:only-of-type {\n",
       "        vertical-align: middle;\n",
       "    }\n",
       "\n",
       "    .dataframe tbody tr th {\n",
       "        vertical-align: top;\n",
       "    }\n",
       "\n",
       "    .dataframe thead th {\n",
       "        text-align: right;\n",
       "    }\n",
       "</style>\n",
       "<table border=\"1\" class=\"dataframe\">\n",
       "  <thead>\n",
       "    <tr style=\"text-align: right;\">\n",
       "      <th></th>\n",
       "      <th>f0</th>\n",
       "      <th>f1</th>\n",
       "      <th>f2</th>\n",
       "      <th>f3</th>\n",
       "      <th>class</th>\n",
       "    </tr>\n",
       "  </thead>\n",
       "  <tbody>\n",
       "    <tr>\n",
       "      <th>27</th>\n",
       "      <td>-0.354374</td>\n",
       "      <td>0.477346</td>\n",
       "      <td>-0.608647</td>\n",
       "      <td>-0.624234</td>\n",
       "      <td>Iris-setosa</td>\n",
       "    </tr>\n",
       "    <tr>\n",
       "      <th>35</th>\n",
       "      <td>-0.474640</td>\n",
       "      <td>0.151683</td>\n",
       "      <td>-0.708566</td>\n",
       "      <td>-0.627626</td>\n",
       "      <td>Iris-setosa</td>\n",
       "    </tr>\n",
       "    <tr>\n",
       "      <th>40</th>\n",
       "      <td>-0.452604</td>\n",
       "      <td>0.457467</td>\n",
       "      <td>-0.641434</td>\n",
       "      <td>-0.530117</td>\n",
       "      <td>Iris-setosa</td>\n",
       "    </tr>\n",
       "    <tr>\n",
       "      <th>38</th>\n",
       "      <td>-0.738251</td>\n",
       "      <td>-0.048105</td>\n",
       "      <td>-0.568100</td>\n",
       "      <td>-0.529683</td>\n",
       "      <td>Iris-setosa</td>\n",
       "    </tr>\n",
       "    <tr>\n",
       "      <th>2</th>\n",
       "      <td>-0.618297</td>\n",
       "      <td>0.141835</td>\n",
       "      <td>-0.624878</td>\n",
       "      <td>-0.581605</td>\n",
       "      <td>Iris-setosa</td>\n",
       "    </tr>\n",
       "    <tr>\n",
       "      <th>3</th>\n",
       "      <td>-0.686124</td>\n",
       "      <td>0.044779</td>\n",
       "      <td>-0.570600</td>\n",
       "      <td>-0.584943</td>\n",
       "      <td>Iris-setosa</td>\n",
       "    </tr>\n",
       "    <tr>\n",
       "      <th>48</th>\n",
       "      <td>-0.271151</td>\n",
       "      <td>0.653751</td>\n",
       "      <td>-0.549835</td>\n",
       "      <td>-0.563526</td>\n",
       "      <td>Iris-setosa</td>\n",
       "    </tr>\n",
       "    <tr>\n",
       "      <th>29</th>\n",
       "      <td>-0.648268</td>\n",
       "      <td>0.147789</td>\n",
       "      <td>-0.564537</td>\n",
       "      <td>-0.609261</td>\n",
       "      <td>Iris-setosa</td>\n",
       "    </tr>\n",
       "    <tr>\n",
       "      <th>46</th>\n",
       "      <td>-0.346802</td>\n",
       "      <td>0.709487</td>\n",
       "      <td>-0.481648</td>\n",
       "      <td>-0.518389</td>\n",
       "      <td>Iris-setosa</td>\n",
       "    </tr>\n",
       "    <tr>\n",
       "      <th>31</th>\n",
       "      <td>-0.283744</td>\n",
       "      <td>0.430432</td>\n",
       "      <td>-0.733365</td>\n",
       "      <td>-0.579048</td>\n",
       "      <td>Iris-setosa</td>\n",
       "    </tr>\n",
       "    <tr>\n",
       "      <th>67</th>\n",
       "      <td>-0.059498</td>\n",
       "      <td>-1.188228</td>\n",
       "      <td>0.221631</td>\n",
       "      <td>-0.300295</td>\n",
       "      <td>Iris-versicolor</td>\n",
       "    </tr>\n",
       "    <tr>\n",
       "      <th>78</th>\n",
       "      <td>0.272438</td>\n",
       "      <td>-0.529538</td>\n",
       "      <td>0.640455</td>\n",
       "      <td>0.596278</td>\n",
       "      <td>Iris-versicolor</td>\n",
       "    </tr>\n",
       "    <tr>\n",
       "      <th>93</th>\n",
       "      <td>-0.520314</td>\n",
       "      <td>-1.013852</td>\n",
       "      <td>-0.127240</td>\n",
       "      <td>-0.127421</td>\n",
       "      <td>Iris-versicolor</td>\n",
       "    </tr>\n",
       "    <tr>\n",
       "      <th>63</th>\n",
       "      <td>0.420533</td>\n",
       "      <td>-0.486795</td>\n",
       "      <td>0.779163</td>\n",
       "      <td>0.354873</td>\n",
       "      <td>Iris-versicolor</td>\n",
       "    </tr>\n",
       "    <tr>\n",
       "      <th>61</th>\n",
       "      <td>0.140540</td>\n",
       "      <td>-0.257773</td>\n",
       "      <td>0.537513</td>\n",
       "      <td>0.941149</td>\n",
       "      <td>Iris-versicolor</td>\n",
       "    </tr>\n",
       "    <tr>\n",
       "      <th>70</th>\n",
       "      <td>0.065677</td>\n",
       "      <td>0.328821</td>\n",
       "      <td>0.601657</td>\n",
       "      <td>0.856684</td>\n",
       "      <td>Iris-versicolor</td>\n",
       "    </tr>\n",
       "    <tr>\n",
       "      <th>51</th>\n",
       "      <td>0.788796</td>\n",
       "      <td>0.363322</td>\n",
       "      <td>0.459435</td>\n",
       "      <td>0.429847</td>\n",
       "      <td>Iris-versicolor</td>\n",
       "    </tr>\n",
       "    <tr>\n",
       "      <th>92</th>\n",
       "      <td>-0.049517</td>\n",
       "      <td>-1.431824</td>\n",
       "      <td>0.129734</td>\n",
       "      <td>0.001653</td>\n",
       "      <td>Iris-versicolor</td>\n",
       "    </tr>\n",
       "    <tr>\n",
       "      <th>96</th>\n",
       "      <td>-0.364069</td>\n",
       "      <td>-0.819256</td>\n",
       "      <td>0.540486</td>\n",
       "      <td>0.276666</td>\n",
       "      <td>Iris-versicolor</td>\n",
       "    </tr>\n",
       "    <tr>\n",
       "      <th>89</th>\n",
       "      <td>-0.310569</td>\n",
       "      <td>-1.227755</td>\n",
       "      <td>0.100985</td>\n",
       "      <td>0.098025</td>\n",
       "      <td>Iris-versicolor</td>\n",
       "    </tr>\n",
       "    <tr>\n",
       "      <th>90</th>\n",
       "      <td>-0.357968</td>\n",
       "      <td>-1.086090</td>\n",
       "      <td>0.312204</td>\n",
       "      <td>0.001476</td>\n",
       "      <td>Iris-versicolor</td>\n",
       "    </tr>\n",
       "    <tr>\n",
       "      <th>115</th>\n",
       "      <td>0.372547</td>\n",
       "      <td>0.183343</td>\n",
       "      <td>0.492683</td>\n",
       "      <td>0.896871</td>\n",
       "      <td>Iris-virginica</td>\n",
       "    </tr>\n",
       "    <tr>\n",
       "      <th>132</th>\n",
       "      <td>0.361871</td>\n",
       "      <td>-0.313614</td>\n",
       "      <td>0.581865</td>\n",
       "      <td>0.762844</td>\n",
       "      <td>Iris-virginica</td>\n",
       "    </tr>\n",
       "    <tr>\n",
       "      <th>142</th>\n",
       "      <td>-0.036191</td>\n",
       "      <td>-0.599828</td>\n",
       "      <td>0.553454</td>\n",
       "      <td>0.688538</td>\n",
       "      <td>Iris-virginica</td>\n",
       "    </tr>\n",
       "    <tr>\n",
       "      <th>126</th>\n",
       "      <td>0.359636</td>\n",
       "      <td>-0.499110</td>\n",
       "      <td>0.503194</td>\n",
       "      <td>0.699476</td>\n",
       "      <td>Iris-virginica</td>\n",
       "    </tr>\n",
       "    <tr>\n",
       "      <th>105</th>\n",
       "      <td>0.814622</td>\n",
       "      <td>-0.042720</td>\n",
       "      <td>0.585019</td>\n",
       "      <td>0.416982</td>\n",
       "      <td>Iris-virginica</td>\n",
       "    </tr>\n",
       "    <tr>\n",
       "      <th>134</th>\n",
       "      <td>0.203551</td>\n",
       "      <td>-0.751683</td>\n",
       "      <td>0.748589</td>\n",
       "      <td>0.172914</td>\n",
       "      <td>Iris-virginica</td>\n",
       "    </tr>\n",
       "    <tr>\n",
       "      <th>129</th>\n",
       "      <td>0.908740</td>\n",
       "      <td>-0.059992</td>\n",
       "      <td>0.590734</td>\n",
       "      <td>0.255954</td>\n",
       "      <td>Iris-virginica</td>\n",
       "    </tr>\n",
       "    <tr>\n",
       "      <th>119</th>\n",
       "      <td>0.088658</td>\n",
       "      <td>-1.172553</td>\n",
       "      <td>0.335506</td>\n",
       "      <td>0.185853</td>\n",
       "      <td>Iris-virginica</td>\n",
       "    </tr>\n",
       "    <tr>\n",
       "      <th>146</th>\n",
       "      <td>0.309610</td>\n",
       "      <td>-0.783699</td>\n",
       "      <td>0.399212</td>\n",
       "      <td>0.532541</td>\n",
       "      <td>Iris-virginica</td>\n",
       "    </tr>\n",
       "    <tr>\n",
       "      <th>137</th>\n",
       "      <td>0.487706</td>\n",
       "      <td>0.074019</td>\n",
       "      <td>0.758651</td>\n",
       "      <td>0.581470</td>\n",
       "      <td>Iris-virginica</td>\n",
       "    </tr>\n",
       "    <tr>\n",
       "      <th>122</th>\n",
       "      <td>0.828830</td>\n",
       "      <td>-0.193800</td>\n",
       "      <td>0.580037</td>\n",
       "      <td>0.352459</td>\n",
       "      <td>Iris-virginica</td>\n",
       "    </tr>\n",
       "  </tbody>\n",
       "</table>\n",
       "</div>"
      ],
      "text/plain": [
       "           f0        f1        f2        f3            class\n",
       "27  -0.354374  0.477346 -0.608647 -0.624234      Iris-setosa\n",
       "35  -0.474640  0.151683 -0.708566 -0.627626      Iris-setosa\n",
       "40  -0.452604  0.457467 -0.641434 -0.530117      Iris-setosa\n",
       "38  -0.738251 -0.048105 -0.568100 -0.529683      Iris-setosa\n",
       "2   -0.618297  0.141835 -0.624878 -0.581605      Iris-setosa\n",
       "3   -0.686124  0.044779 -0.570600 -0.584943      Iris-setosa\n",
       "48  -0.271151  0.653751 -0.549835 -0.563526      Iris-setosa\n",
       "29  -0.648268  0.147789 -0.564537 -0.609261      Iris-setosa\n",
       "46  -0.346802  0.709487 -0.481648 -0.518389      Iris-setosa\n",
       "31  -0.283744  0.430432 -0.733365 -0.579048      Iris-setosa\n",
       "67  -0.059498 -1.188228  0.221631 -0.300295  Iris-versicolor\n",
       "78   0.272438 -0.529538  0.640455  0.596278  Iris-versicolor\n",
       "93  -0.520314 -1.013852 -0.127240 -0.127421  Iris-versicolor\n",
       "63   0.420533 -0.486795  0.779163  0.354873  Iris-versicolor\n",
       "61   0.140540 -0.257773  0.537513  0.941149  Iris-versicolor\n",
       "70   0.065677  0.328821  0.601657  0.856684  Iris-versicolor\n",
       "51   0.788796  0.363322  0.459435  0.429847  Iris-versicolor\n",
       "92  -0.049517 -1.431824  0.129734  0.001653  Iris-versicolor\n",
       "96  -0.364069 -0.819256  0.540486  0.276666  Iris-versicolor\n",
       "89  -0.310569 -1.227755  0.100985  0.098025  Iris-versicolor\n",
       "90  -0.357968 -1.086090  0.312204  0.001476  Iris-versicolor\n",
       "115  0.372547  0.183343  0.492683  0.896871   Iris-virginica\n",
       "132  0.361871 -0.313614  0.581865  0.762844   Iris-virginica\n",
       "142 -0.036191 -0.599828  0.553454  0.688538   Iris-virginica\n",
       "126  0.359636 -0.499110  0.503194  0.699476   Iris-virginica\n",
       "105  0.814622 -0.042720  0.585019  0.416982   Iris-virginica\n",
       "134  0.203551 -0.751683  0.748589  0.172914   Iris-virginica\n",
       "129  0.908740 -0.059992  0.590734  0.255954   Iris-virginica\n",
       "119  0.088658 -1.172553  0.335506  0.185853   Iris-virginica\n",
       "146  0.309610 -0.783699  0.399212  0.532541   Iris-virginica\n",
       "137  0.487706  0.074019  0.758651  0.581470   Iris-virginica\n",
       "122  0.828830 -0.193800  0.580037  0.352459   Iris-virginica"
      ]
     },
     "execution_count": 19,
     "metadata": {},
     "output_type": "execute_result"
    }
   ],
   "source": [
    "trainingArray = pd.concat([S0,S1,S2])\n",
    "trainingArray"
   ]
  },
  {
   "cell_type": "code",
   "execution_count": 20,
   "metadata": {},
   "outputs": [
    {
     "data": {
      "text/plain": [
       "32"
      ]
     },
     "execution_count": 20,
     "metadata": {},
     "output_type": "execute_result"
    }
   ],
   "source": [
    "len(trainingArray.index)"
   ]
  },
  {
   "cell_type": "markdown",
   "metadata": {},
   "source": [
    "# Building the quantum circuit"
   ]
  },
  {
   "cell_type": "markdown",
   "metadata": {},
   "source": [
    "To store 4 features I need 2 $i$ qubits.  \n",
    "To store 3 classes I need 2 $c$ quibits.  \n",
    "To store 6 training vectors I need 3 $m$ qubits.  \n",
    "I need some ancilla qubits for the QRAM routine.  \n",
    "I need one more bit to store the conditional measurement on the rotation qubit. "
   ]
  },
  {
   "cell_type": "code",
   "execution_count": null,
   "metadata": {},
   "outputs": [],
   "source": [
    "import qiskit\n",
    "from qiskit import IBMQ\n",
    "from qiskit import (\n",
    "    QuantumCircuit,\n",
    "    QuantumRegister,\n",
    "    ClassicalRegister,\n",
    "    execute,\n",
    "    Aer)\n",
    "from qiskit.visualization import plot_histogram\n",
    "import qiskit.aqua.circuits.gates.controlled_ry_gates"
   ]
  },
  {
   "cell_type": "code",
   "execution_count": null,
   "metadata": {},
   "outputs": [],
   "source": [
    "def encodeVector(circuit,data,i,controls,rotationQubit,ancillaQubits):\n",
    "    # |00>\n",
    "    circuit.x(i)\n",
    "    circuit.mcry(data[0],controls,rotationQubit,ancillaQubits)\n",
    "    circuit.x(i)\n",
    "    \n",
    "    # |01>\n",
    "    circuit.x(i[1])\n",
    "    circuit.mcry(data[1],controls,rotationQubit,ancillaQubits)\n",
    "    circuit.x(i[1])\n",
    "    \n",
    "    # |10>\n",
    "    circuit.x(i[0])\n",
    "    circuit.mcry(data[2],controls,rotationQubit,ancillaQubits)\n",
    "    circuit.x(i[0])\n",
    "    \n",
    "    # |11>\n",
    "    circuit.mcry(data[3],controls,rotationQubit,ancillaQubits)"
   ]
  },
  {
   "cell_type": "code",
   "execution_count": null,
   "metadata": {},
   "outputs": [],
   "source": [
    "def encodeClass(circuit,irisClass):\n",
    "    classSwitcher = {\n",
    "        \"Iris-setosa\": 0,\n",
    "        \"Iris-versicolor\": 1,\n",
    "        \"Iris-virginica\": 2\n",
    "    }\n",
    "    \n",
    "    if classSwitcher.get(irisClass) == 0:\n",
    "        circuit.x(c)\n",
    "    elif classSwitcher.get(irisClass) == 1:\n",
    "        circuit.x(c[1])\n",
    "    elif classSwitcher.get(irisClass) == 2:\n",
    "        circuit.x(c[0])"
   ]
  },
  {
   "cell_type": "code",
   "execution_count": null,
   "metadata": {},
   "outputs": [],
   "source": [
    "def encodeIndexBitwise3(circuit,index):\n",
    "    \"\"\"\n",
    "    Encode the index of the training vectors with reason\n",
    "    \"\"\"\n",
    "    \n",
    "    zerosInIndex = index ^ 0b111\n",
    "    \n",
    "    if zerosInIndex & 0b001:\n",
    "        circuit.x(m[0])\n",
    "    if zerosInIndex & 0b010:\n",
    "        circuit.x(m[1])\n",
    "    if zerosInIndex & 0b100:\n",
    "        circuit.x(m[2])"
   ]
  },
  {
   "cell_type": "code",
   "execution_count": null,
   "metadata": {},
   "outputs": [],
   "source": [
    "def encodeIndexBitwise5(circuit,index):\n",
    "    \"\"\"\n",
    "    Encode the index of the training vectors with reason\n",
    "    \"\"\"\n",
    "    \n",
    "    zerosInIndex = index ^ 0b11111\n",
    "    \n",
    "    if zerosInIndex & 0b00001:\n",
    "        circuit.x(m[0])\n",
    "    if zerosInIndex & 0b00010:\n",
    "        circuit.x(m[1])\n",
    "    if zerosInIndex & 0b00100:\n",
    "        circuit.x(m[2])\n",
    "    if zerosInIndex & 0b01000:\n",
    "        circuit.x(m[3])\n",
    "    if zerosInIndex & 0b10000:\n",
    "        circuit.x(m[4])"
   ]
  },
  {
   "cell_type": "code",
   "execution_count": null,
   "metadata": {},
   "outputs": [],
   "source": [
    "format(2, '04b')"
   ]
  },
  {
   "cell_type": "code",
   "execution_count": null,
   "metadata": {},
   "outputs": [],
   "source": [
    "def encodeTraining(circuit,data,i,controls,rotationQubit,ancillaQubits,c,m):\n",
    "    # Header\n",
    "    encodeClass(circuit,c)\n",
    "    encodeIndexBitwise5(circuit,m)\n",
    "    \n",
    "    # Encoder\n",
    "    encodeVector(circuit,data,i,controls,rotationQubit,ancillaQubits)\n",
    "    \n",
    "    # Footer\n",
    "    encodeClass(circuit,c)\n",
    "    encodeIndexBitwise5(circuit,m)"
   ]
  },
  {
   "cell_type": "code",
   "execution_count": null,
   "metadata": {},
   "outputs": [],
   "source": [
    "def buildTrainingState(trainingArray):\n",
    "    \"\"\"\n",
    "    Given an array of up to 32 training vectors,\n",
    "    build the quantum superposition state. \n",
    "    \"\"\"\n",
    "    for index in range(len(trainingArray.index)):\n",
    "        trainingVector = trainingArray.iloc[index]\n",
    "        encodeTraining(circuit,trainingVector[\"f0\":\"f3\"],i,a[:]+i[:]+m[:]+c[:],r[0],q,trainingVector[\"class\"],index)"
   ]
  },
  {
   "cell_type": "code",
   "execution_count": null,
   "metadata": {},
   "outputs": [],
   "source": [
    "1+5+2+1+8+2"
   ]
  },
  {
   "cell_type": "code",
   "execution_count": null,
   "metadata": {},
   "outputs": [],
   "source": [
    "a = QuantumRegister(1,'a') # knn ancilla\n",
    "m = QuantumRegister(5,'m') # training vector index\n",
    "i = QuantumRegister(2,'i') # feature index\n",
    "r = QuantumRegister(1,'r') # rotation qubit\n",
    "q = QuantumRegister(8,'q') # qram ancilla\n",
    "c = QuantumRegister(2,'c') # class\n",
    "b = ClassicalRegister(4, 'bit')\n",
    "circuit = QuantumCircuit(a,m,i,r,q,c,b)\n",
    "\n",
    "circuit.h(a)\n",
    "circuit.h(m)\n",
    "circuit.h(i)\n",
    "circuit.h(c)\n",
    "\n",
    "# circuit.cry(theta, control, target)\n",
    "# circuit.mcry(theta, controls, target, ancillae)\n",
    "\n",
    "# >>> Encode the input vector >>>\n",
    "\n",
    "encodeVector(circuit,Vi.iloc[49],i,a[:]+i[:],r[0],q)\n",
    "\n",
    "circuit.x(a)\n",
    "\n",
    "# <<< Encode the input vector <<<\n",
    "\n",
    "# >>> Encode the training vectors >>>\n",
    "\n",
    "buildTrainingState(trainingArray)\n",
    "\n",
    "# <<< Encode the training vectors <<<\n",
    "\n",
    "circuit.measure(r,b[0])\n",
    "\n",
    "circuit.h(a)\n",
    "\n",
    "circuit.measure(a,b[1])\n",
    "circuit.measure(c[0],b[2])\n",
    "circuit.measure(c[1],b[3])\n",
    "\n",
    "# circuit.draw(output='mpl')"
   ]
  },
  {
   "cell_type": "code",
   "execution_count": null,
   "metadata": {},
   "outputs": [],
   "source": [
    "simulator = Aer.get_backend('qasm_simulator')\n",
    "job = execute(circuit, simulator, shots=8192)\n",
    "result = job.result()\n",
    "counts = result.get_counts(circuit)\n",
    "print(\"\\nTotal counts are:\",counts)\n",
    "# plot_histogram(counts)"
   ]
  },
  {
   "cell_type": "code",
   "execution_count": null,
   "metadata": {},
   "outputs": [],
   "source": [
    "goodCounts = {k: counts[k] for k in counts.keys() & {'0001','0101','1001','1101'}}\n",
    "plot_histogram(goodCounts)"
   ]
  },
  {
   "cell_type": "code",
   "execution_count": null,
   "metadata": {},
   "outputs": [],
   "source": []
  },
  {
   "cell_type": "code",
   "execution_count": null,
   "metadata": {},
   "outputs": [],
   "source": []
  },
  {
   "cell_type": "code",
   "execution_count": null,
   "metadata": {},
   "outputs": [],
   "source": []
  },
  {
   "cell_type": "code",
   "execution_count": null,
   "metadata": {},
   "outputs": [],
   "source": []
  },
  {
   "cell_type": "code",
   "execution_count": null,
   "metadata": {},
   "outputs": [],
   "source": []
  },
  {
   "cell_type": "code",
   "execution_count": null,
   "metadata": {},
   "outputs": [],
   "source": []
  },
  {
   "cell_type": "code",
   "execution_count": null,
   "metadata": {},
   "outputs": [],
   "source": []
  },
  {
   "cell_type": "code",
   "execution_count": null,
   "metadata": {},
   "outputs": [],
   "source": []
  },
  {
   "cell_type": "code",
   "execution_count": null,
   "metadata": {},
   "outputs": [],
   "source": []
  },
  {
   "cell_type": "code",
   "execution_count": null,
   "metadata": {},
   "outputs": [],
   "source": []
  }
 ],
 "metadata": {
  "kernelspec": {
   "display_name": "Python 3",
   "language": "python",
   "name": "python3"
  },
  "language_info": {
   "codemirror_mode": {
    "name": "ipython",
    "version": 3
   },
   "file_extension": ".py",
   "mimetype": "text/x-python",
   "name": "python",
   "nbconvert_exporter": "python",
   "pygments_lexer": "ipython3",
   "version": "3.7.3"
  }
 },
 "nbformat": 4,
 "nbformat_minor": 4
}
