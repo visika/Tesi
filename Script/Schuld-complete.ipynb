{
 "cells": [
  {
   "cell_type": "markdown",
   "metadata": {},
   "source": [
    "## From the article"
   ]
  },
  {
   "cell_type": "markdown",
   "metadata": {},
   "source": [
    "# Implementing a distance-based classifier with a quantum interference circuit"
   ]
  },
  {
   "cell_type": "markdown",
   "metadata": {},
   "source": [
    "###  M. Schuld et al 2017 EPL 119 60002"
   ]
  },
  {
   "cell_type": "markdown",
   "metadata": {},
   "source": [
    "## Let's try to input more training vectors from the Iris Data Set"
   ]
  },
  {
   "cell_type": "markdown",
   "metadata": {},
   "source": [
    "# Preparing the data"
   ]
  },
  {
   "cell_type": "code",
   "execution_count": 1,
   "metadata": {},
   "outputs": [],
   "source": [
    "import numpy as np\n",
    "import pandas as pd"
   ]
  },
  {
   "cell_type": "code",
   "execution_count": 2,
   "metadata": {
    "scrolled": true
   },
   "outputs": [],
   "source": [
    "iris = pd.read_csv(\"Iris/iris.data\",header=None,names=[\"f0\",\"f1\",\"f2\",\"f3\",\"class\"])"
   ]
  },
  {
   "cell_type": "code",
   "execution_count": 4,
   "metadata": {},
   "outputs": [],
   "source": [
    "setosa = iris[iris[\"class\"] == \"Iris-setosa\"]\n",
    "# setosa.loc[:,\"class\"] = -1\n",
    "setosa.loc[:,\"color\"] = \"Green\""
   ]
  },
  {
   "cell_type": "code",
   "execution_count": 5,
   "metadata": {
    "scrolled": true
   },
   "outputs": [],
   "source": [
    "versicolor = iris[iris[\"class\"] == \"Iris-versicolor\"]\n",
    "# versicolor.loc[:,\"class\"] = 1\n",
    "versicolor.loc[:,\"color\"] = \"Blue\""
   ]
  },
  {
   "cell_type": "code",
   "execution_count": 6,
   "metadata": {
    "scrolled": true
   },
   "outputs": [],
   "source": [
    "virginica = iris[iris[\"class\"] == \"Iris-virginica\"]\n",
    "# virginica.loc[:,\"class\"] = 1\n",
    "virginica.loc[:,\"color\"] = \"Red\""
   ]
  },
  {
   "cell_type": "code",
   "execution_count": 7,
   "metadata": {},
   "outputs": [],
   "source": [
    "data = pd.concat([setosa,versicolor,virginica])"
   ]
  },
  {
   "cell_type": "code",
   "execution_count": 9,
   "metadata": {},
   "outputs": [
    {
     "data": {
      "text/plain": [
       "<matplotlib.axes._subplots.AxesSubplot at 0x7f63cad3ea90>"
      ]
     },
     "execution_count": 9,
     "metadata": {},
     "output_type": "execute_result"
    },
    {
     "data": {
      "image/png": "[encoded data removed]",
      "text/plain": [
       "<Figure size 432x288 with 1 Axes>"
      ]
     },
     "metadata": {
      "needs_background": "light"
     },
     "output_type": "display_data"
    }
   ],
   "source": [
    "data.plot.scatter(x=\"f0\", y=\"f1\", c=data.color)"
   ]
  },
  {
   "cell_type": "code",
   "execution_count": 10,
   "metadata": {},
   "outputs": [
    {
     "data": {
      "text/html": [
       "<div>\n",
       "<style scoped>\n",
       "    .dataframe tbody tr th:only-of-type {\n",
       "        vertical-align: middle;\n",
       "    }\n",
       "\n",
       "    .dataframe tbody tr th {\n",
       "        vertical-align: top;\n",
       "    }\n",
       "\n",
       "    .dataframe thead th {\n",
       "        text-align: right;\n",
       "    }\n",
       "</style>\n",
       "<table border=\"1\" class=\"dataframe\">\n",
       "  <thead>\n",
       "    <tr style=\"text-align: right;\">\n",
       "      <th></th>\n",
       "      <th>f0</th>\n",
       "      <th>f1</th>\n",
       "      <th>f2</th>\n",
       "      <th>f3</th>\n",
       "    </tr>\n",
       "  </thead>\n",
       "  <tbody>\n",
       "    <tr>\n",
       "      <th>count</th>\n",
       "      <td>150.000000</td>\n",
       "      <td>150.000000</td>\n",
       "      <td>150.000000</td>\n",
       "      <td>150.000000</td>\n",
       "    </tr>\n",
       "    <tr>\n",
       "      <th>mean</th>\n",
       "      <td>5.843333</td>\n",
       "      <td>3.054000</td>\n",
       "      <td>3.758667</td>\n",
       "      <td>1.198667</td>\n",
       "    </tr>\n",
       "    <tr>\n",
       "      <th>std</th>\n",
       "      <td>0.828066</td>\n",
       "      <td>0.433594</td>\n",
       "      <td>1.764420</td>\n",
       "      <td>0.763161</td>\n",
       "    </tr>\n",
       "    <tr>\n",
       "      <th>min</th>\n",
       "      <td>4.300000</td>\n",
       "      <td>2.000000</td>\n",
       "      <td>1.000000</td>\n",
       "      <td>0.100000</td>\n",
       "    </tr>\n",
       "    <tr>\n",
       "      <th>25%</th>\n",
       "      <td>5.100000</td>\n",
       "      <td>2.800000</td>\n",
       "      <td>1.600000</td>\n",
       "      <td>0.300000</td>\n",
       "    </tr>\n",
       "    <tr>\n",
       "      <th>50%</th>\n",
       "      <td>5.800000</td>\n",
       "      <td>3.000000</td>\n",
       "      <td>4.350000</td>\n",
       "      <td>1.300000</td>\n",
       "    </tr>\n",
       "    <tr>\n",
       "      <th>75%</th>\n",
       "      <td>6.400000</td>\n",
       "      <td>3.300000</td>\n",
       "      <td>5.100000</td>\n",
       "      <td>1.800000</td>\n",
       "    </tr>\n",
       "    <tr>\n",
       "      <th>max</th>\n",
       "      <td>7.900000</td>\n",
       "      <td>4.400000</td>\n",
       "      <td>6.900000</td>\n",
       "      <td>2.500000</td>\n",
       "    </tr>\n",
       "  </tbody>\n",
       "</table>\n",
       "</div>"
      ],
      "text/plain": [
       "               f0          f1          f2          f3\n",
       "count  150.000000  150.000000  150.000000  150.000000\n",
       "mean     5.843333    3.054000    3.758667    1.198667\n",
       "std      0.828066    0.433594    1.764420    0.763161\n",
       "min      4.300000    2.000000    1.000000    0.100000\n",
       "25%      5.100000    2.800000    1.600000    0.300000\n",
       "50%      5.800000    3.000000    4.350000    1.300000\n",
       "75%      6.400000    3.300000    5.100000    1.800000\n",
       "max      7.900000    4.400000    6.900000    2.500000"
      ]
     },
     "execution_count": 10,
     "metadata": {},
     "output_type": "execute_result"
    }
   ],
   "source": [
    "data.loc[:,[\"f0\",\"f1\",\"f2\",\"f3\"]].describe()"
   ]
  },
  {
   "cell_type": "code",
   "execution_count": null,
   "metadata": {},
   "outputs": [],
   "source": [
    "# data.mean()\n",
    "# data[\"f0\"] -= data.mean()[0]\n",
    "# data[\"f1\"] -= data.mean()[1]"
   ]
  },
  {
   "cell_type": "code",
   "execution_count": 11,
   "metadata": {},
   "outputs": [],
   "source": [
    "from sklearn.preprocessing import StandardScaler\n",
    "scaler = StandardScaler()\n",
    "data.loc[:,[\"f0\",\"f1\",\"f2\",\"f3\"]] = scaler.fit_transform(data.loc[:,[\"f0\",\"f1\",\"f2\",\"f3\"]])"
   ]
  },
  {
   "cell_type": "code",
   "execution_count": 12,
   "metadata": {},
   "outputs": [
    {
     "data": {
      "text/html": [
       "<div>\n",
       "<style scoped>\n",
       "    .dataframe tbody tr th:only-of-type {\n",
       "        vertical-align: middle;\n",
       "    }\n",
       "\n",
       "    .dataframe tbody tr th {\n",
       "        vertical-align: top;\n",
       "    }\n",
       "\n",
       "    .dataframe thead th {\n",
       "        text-align: right;\n",
       "    }\n",
       "</style>\n",
       "<table border=\"1\" class=\"dataframe\">\n",
       "  <thead>\n",
       "    <tr style=\"text-align: right;\">\n",
       "      <th></th>\n",
       "      <th>f0</th>\n",
       "      <th>f1</th>\n",
       "      <th>f2</th>\n",
       "      <th>f3</th>\n",
       "    </tr>\n",
       "  </thead>\n",
       "  <tbody>\n",
       "    <tr>\n",
       "      <th>count</th>\n",
       "      <td>1.500000e+02</td>\n",
       "      <td>1.500000e+02</td>\n",
       "      <td>1.500000e+02</td>\n",
       "      <td>1.500000e+02</td>\n",
       "    </tr>\n",
       "    <tr>\n",
       "      <th>mean</th>\n",
       "      <td>-2.775558e-16</td>\n",
       "      <td>-5.140333e-16</td>\n",
       "      <td>1.154632e-16</td>\n",
       "      <td>9.251859e-16</td>\n",
       "    </tr>\n",
       "    <tr>\n",
       "      <th>std</th>\n",
       "      <td>1.003350e+00</td>\n",
       "      <td>1.003350e+00</td>\n",
       "      <td>1.003350e+00</td>\n",
       "      <td>1.003350e+00</td>\n",
       "    </tr>\n",
       "    <tr>\n",
       "      <th>min</th>\n",
       "      <td>-1.870024e+00</td>\n",
       "      <td>-2.438987e+00</td>\n",
       "      <td>-1.568735e+00</td>\n",
       "      <td>-1.444450e+00</td>\n",
       "    </tr>\n",
       "    <tr>\n",
       "      <th>25%</th>\n",
       "      <td>-9.006812e-01</td>\n",
       "      <td>-5.877635e-01</td>\n",
       "      <td>-1.227541e+00</td>\n",
       "      <td>-1.181504e+00</td>\n",
       "    </tr>\n",
       "    <tr>\n",
       "      <th>50%</th>\n",
       "      <td>-5.250608e-02</td>\n",
       "      <td>-1.249576e-01</td>\n",
       "      <td>3.362659e-01</td>\n",
       "      <td>1.332259e-01</td>\n",
       "    </tr>\n",
       "    <tr>\n",
       "      <th>75%</th>\n",
       "      <td>6.745011e-01</td>\n",
       "      <td>5.692513e-01</td>\n",
       "      <td>7.627586e-01</td>\n",
       "      <td>7.905908e-01</td>\n",
       "    </tr>\n",
       "    <tr>\n",
       "      <th>max</th>\n",
       "      <td>2.492019e+00</td>\n",
       "      <td>3.114684e+00</td>\n",
       "      <td>1.786341e+00</td>\n",
       "      <td>1.710902e+00</td>\n",
       "    </tr>\n",
       "  </tbody>\n",
       "</table>\n",
       "</div>"
      ],
      "text/plain": [
       "                 f0            f1            f2            f3\n",
       "count  1.500000e+02  1.500000e+02  1.500000e+02  1.500000e+02\n",
       "mean  -2.775558e-16 -5.140333e-16  1.154632e-16  9.251859e-16\n",
       "std    1.003350e+00  1.003350e+00  1.003350e+00  1.003350e+00\n",
       "min   -1.870024e+00 -2.438987e+00 -1.568735e+00 -1.444450e+00\n",
       "25%   -9.006812e-01 -5.877635e-01 -1.227541e+00 -1.181504e+00\n",
       "50%   -5.250608e-02 -1.249576e-01  3.362659e-01  1.332259e-01\n",
       "75%    6.745011e-01  5.692513e-01  7.627586e-01  7.905908e-01\n",
       "max    2.492019e+00  3.114684e+00  1.786341e+00  1.710902e+00"
      ]
     },
     "execution_count": 12,
     "metadata": {},
     "output_type": "execute_result"
    }
   ],
   "source": [
    "data.loc[:,[\"f0\",\"f1\",\"f2\",\"f3\"]].describe()"
   ]
  },
  {
   "cell_type": "code",
   "execution_count": 13,
   "metadata": {},
   "outputs": [
    {
     "data": {
      "text/plain": [
       "<matplotlib.axes._subplots.AxesSubplot at 0x7f63c8ac1208>"
      ]
     },
     "execution_count": 13,
     "metadata": {},
     "output_type": "execute_result"
    },
    {
     "data": {
      "image/png": "[encoded data removed]",
      "text/plain": [
       "<Figure size 432x288 with 1 Axes>"
      ]
     },
     "metadata": {
      "needs_background": "light"
     },
     "output_type": "display_data"
    }
   ],
   "source": [
    "data.plot.scatter(x=\"f0\", y=\"f1\", c=data.color)"
   ]
  },
  {
   "cell_type": "code",
   "execution_count": 14,
   "metadata": {},
   "outputs": [],
   "source": [
    "def normalize(v):\n",
    "    norm = np.linalg.norm(v)\n",
    "    if norm == 0: \n",
    "       return v\n",
    "    return v / norm"
   ]
  },
  {
   "cell_type": "code",
   "execution_count": 15,
   "metadata": {},
   "outputs": [],
   "source": [
    "for i in data.index:\n",
    "    v = [data[\"f0\"][i],data[\"f1\"][i],data[\"f2\"][i],data[\"f3\"][i]]\n",
    "    v = normalize(v)\n",
    "    data.loc[i,\"f0\"], data.loc[i,\"f1\"], data.loc[i,\"f2\"], data.loc[i,\"f3\"] = v[0], v[1], v[2], v[3]"
   ]
  },
  {
   "cell_type": "code",
   "execution_count": 16,
   "metadata": {},
   "outputs": [
    {
     "data": {
      "text/plain": [
       "<matplotlib.axes._subplots.AxesSubplot at 0x7f63c8a81908>"
      ]
     },
     "execution_count": 16,
     "metadata": {},
     "output_type": "execute_result"
    },
    {
     "data": {
      "image/png": "[encoded data removed]",
      "text/plain": [
       "<Figure size 432x288 with 1 Axes>"
      ]
     },
     "metadata": {
      "needs_background": "light"
     },
     "output_type": "display_data"
    }
   ],
   "source": [
    "data.plot.scatter(x=\"f0\", y=\"f1\", c=data.color, xlim=(-1,1), ylim=(-1,1))"
   ]
  },
  {
   "cell_type": "code",
   "execution_count": 18,
   "metadata": {
    "scrolled": true
   },
   "outputs": [],
   "source": [
    "setosa = data[data[\"class\"]==\"Iris-setosa\"]"
   ]
  },
  {
   "cell_type": "code",
   "execution_count": 19,
   "metadata": {
    "scrolled": true
   },
   "outputs": [],
   "source": [
    "versicolor = data[data[\"class\"]==\"Iris-versicolor\"]"
   ]
  },
  {
   "cell_type": "code",
   "execution_count": 20,
   "metadata": {
    "scrolled": true
   },
   "outputs": [],
   "source": [
    "virginica = data[data[\"class\"]==\"Iris-virginica\"]"
   ]
  },
  {
   "cell_type": "code",
   "execution_count": 21,
   "metadata": {},
   "outputs": [
    {
     "data": {
      "text/plain": [
       "<matplotlib.axes._subplots.AxesSubplot at 0x7f63c8a819b0>"
      ]
     },
     "execution_count": 21,
     "metadata": {},
     "output_type": "execute_result"
    },
    {
     "data": {
      "image/png": "[encoded data removed]",
      "text/plain": [
       "<Figure size 432x288 with 1 Axes>"
      ]
     },
     "metadata": {
      "needs_background": "light"
     },
     "output_type": "display_data"
    }
   ],
   "source": [
    "versicolor.iloc[0:4].plot.scatter(x=\"f0\", y=\"f1\", xlim=(-1,1), ylim=(-1,1))\n",
    "# It is a good move to include the fourth point, lower in the plot"
   ]
  },
  {
   "cell_type": "code",
   "execution_count": 22,
   "metadata": {},
   "outputs": [
    {
     "data": {
      "text/plain": [
       "<matplotlib.axes._subplots.AxesSubplot at 0x7f63c897b390>"
      ]
     },
     "execution_count": 22,
     "metadata": {},
     "output_type": "execute_result"
    },
    {
     "data": {
      "image/png": "[encoded data removed]",
      "text/plain": [
       "<Figure size 432x288 with 1 Axes>"
      ]
     },
     "metadata": {
      "needs_background": "light"
     },
     "output_type": "display_data"
    }
   ],
   "source": [
    "virginica.iloc[0:4].plot.scatter(x=\"f0\", y=\"f1\", xlim=(-1,1), ylim=(-1,1))"
   ]
  },
  {
   "cell_type": "code",
   "execution_count": null,
   "metadata": {},
   "outputs": [],
   "source": [
    "# f0 = data.columns.get_loc(\"f0\")\n",
    "# f3 = data.columns.get_loc(\"f3\")"
   ]
  },
  {
   "cell_type": "code",
   "execution_count": 23,
   "metadata": {
    "scrolled": true
   },
   "outputs": [
    {
     "data": {
      "text/html": [
       "<div>\n",
       "<style scoped>\n",
       "    .dataframe tbody tr th:only-of-type {\n",
       "        vertical-align: middle;\n",
       "    }\n",
       "\n",
       "    .dataframe tbody tr th {\n",
       "        vertical-align: top;\n",
       "    }\n",
       "\n",
       "    .dataframe thead th {\n",
       "        text-align: right;\n",
       "    }\n",
       "</style>\n",
       "<table border=\"1\" class=\"dataframe\">\n",
       "  <thead>\n",
       "    <tr style=\"text-align: right;\">\n",
       "      <th></th>\n",
       "      <th>f0</th>\n",
       "      <th>f1</th>\n",
       "      <th>f2</th>\n",
       "      <th>f3</th>\n",
       "    </tr>\n",
       "  </thead>\n",
       "  <tbody>\n",
       "    <tr>\n",
       "      <th>0</th>\n",
       "      <td>-0.398045</td>\n",
       "      <td>0.460232</td>\n",
       "      <td>-0.615332</td>\n",
       "      <td>-0.600497</td>\n",
       "    </tr>\n",
       "    <tr>\n",
       "      <th>1</th>\n",
       "      <td>-0.546013</td>\n",
       "      <td>-0.056800</td>\n",
       "      <td>-0.655245</td>\n",
       "      <td>-0.639131</td>\n",
       "    </tr>\n",
       "  </tbody>\n",
       "</table>\n",
       "</div>"
      ],
      "text/plain": [
       "         f0        f1        f2        f3\n",
       "0 -0.398045  0.460232 -0.615332 -0.600497\n",
       "1 -0.546013 -0.056800 -0.655245 -0.639131"
      ]
     },
     "execution_count": 23,
     "metadata": {},
     "output_type": "execute_result"
    }
   ],
   "source": [
    "T0 = setosa.iloc[0:2].loc[:,\"f0\":\"f3\"].apply(np.arcsin)\n",
    "T0"
   ]
  },
  {
   "cell_type": "code",
   "execution_count": 24,
   "metadata": {
    "scrolled": true
   },
   "outputs": [
    {
     "data": {
      "text/html": [
       "<div>\n",
       "<style scoped>\n",
       "    .dataframe tbody tr th:only-of-type {\n",
       "        vertical-align: middle;\n",
       "    }\n",
       "\n",
       "    .dataframe tbody tr th {\n",
       "        vertical-align: top;\n",
       "    }\n",
       "\n",
       "    .dataframe thead th {\n",
       "        text-align: right;\n",
       "    }\n",
       "</style>\n",
       "<table border=\"1\" class=\"dataframe\">\n",
       "  <thead>\n",
       "    <tr style=\"text-align: right;\">\n",
       "      <th></th>\n",
       "      <th>f0</th>\n",
       "      <th>f1</th>\n",
       "      <th>f2</th>\n",
       "      <th>f3</th>\n",
       "    </tr>\n",
       "  </thead>\n",
       "  <tbody>\n",
       "    <tr>\n",
       "      <th>50</th>\n",
       "      <td>1.115542</td>\n",
       "      <td>0.218237</td>\n",
       "      <td>0.350153</td>\n",
       "      <td>0.170455</td>\n",
       "    </tr>\n",
       "    <tr>\n",
       "      <th>51</th>\n",
       "      <td>0.788796</td>\n",
       "      <td>0.363322</td>\n",
       "      <td>0.459435</td>\n",
       "      <td>0.429847</td>\n",
       "    </tr>\n",
       "    <tr>\n",
       "      <th>53</th>\n",
       "      <td>-0.232717</td>\n",
       "      <td>-1.314159</td>\n",
       "      <td>0.076153</td>\n",
       "      <td>0.073923</td>\n",
       "    </tr>\n",
       "  </tbody>\n",
       "</table>\n",
       "</div>"
      ],
      "text/plain": [
       "          f0        f1        f2        f3\n",
       "50  1.115542  0.218237  0.350153  0.170455\n",
       "51  0.788796  0.363322  0.459435  0.429847\n",
       "53 -0.232717 -1.314159  0.076153  0.073923"
      ]
     },
     "execution_count": 24,
     "metadata": {},
     "output_type": "execute_result"
    }
   ],
   "source": [
    "T1 = versicolor.iloc[0:2].loc[:,\"f0\":\"f3\"].apply(np.arcsin)\n",
    "T1 = T1.append(versicolor.iloc[3:4].loc[:,\"f0\":\"f3\"].apply(np.arcsin))\n",
    "T1"
   ]
  },
  {
   "cell_type": "code",
   "execution_count": 25,
   "metadata": {
    "scrolled": true
   },
   "outputs": [
    {
     "data": {
      "text/html": [
       "<div>\n",
       "<style scoped>\n",
       "    .dataframe tbody tr th:only-of-type {\n",
       "        vertical-align: middle;\n",
       "    }\n",
       "\n",
       "    .dataframe tbody tr th {\n",
       "        vertical-align: top;\n",
       "    }\n",
       "\n",
       "    .dataframe thead th {\n",
       "        text-align: right;\n",
       "    }\n",
       "</style>\n",
       "<table border=\"1\" class=\"dataframe\">\n",
       "  <thead>\n",
       "    <tr style=\"text-align: right;\">\n",
       "      <th></th>\n",
       "      <th>f0</th>\n",
       "      <th>f1</th>\n",
       "      <th>f2</th>\n",
       "      <th>f3</th>\n",
       "    </tr>\n",
       "  </thead>\n",
       "  <tbody>\n",
       "    <tr>\n",
       "      <th>100</th>\n",
       "      <td>0.245536</td>\n",
       "      <td>0.252752</td>\n",
       "      <td>0.594269</td>\n",
       "      <td>0.850469</td>\n",
       "    </tr>\n",
       "    <tr>\n",
       "      <th>101</th>\n",
       "      <td>-0.036191</td>\n",
       "      <td>-0.599828</td>\n",
       "      <td>0.553454</td>\n",
       "      <td>0.688538</td>\n",
       "    </tr>\n",
       "    <tr>\n",
       "      <th>102</th>\n",
       "      <td>0.729347</td>\n",
       "      <td>-0.054714</td>\n",
       "      <td>0.562032</td>\n",
       "      <td>0.545221</td>\n",
       "    </tr>\n",
       "  </tbody>\n",
       "</table>\n",
       "</div>"
      ],
      "text/plain": [
       "           f0        f1        f2        f3\n",
       "100  0.245536  0.252752  0.594269  0.850469\n",
       "101 -0.036191 -0.599828  0.553454  0.688538\n",
       "102  0.729347 -0.054714  0.562032  0.545221"
      ]
     },
     "execution_count": 25,
     "metadata": {},
     "output_type": "execute_result"
    }
   ],
   "source": [
    "T2 = virginica.iloc[0:3].loc[:,\"f0\":\"f3\"].apply(np.arcsin)\n",
    "T2"
   ]
  },
  {
   "cell_type": "code",
   "execution_count": 26,
   "metadata": {
    "scrolled": true
   },
   "outputs": [],
   "source": [
    "Se = setosa.loc[:,\"f0\":\"f3\"].apply(np.arcsin)"
   ]
  },
  {
   "cell_type": "code",
   "execution_count": 27,
   "metadata": {
    "scrolled": true
   },
   "outputs": [],
   "source": [
    "Ve = versicolor.loc[:,\"f0\":\"f3\"].apply(np.arcsin)"
   ]
  },
  {
   "cell_type": "code",
   "execution_count": 28,
   "metadata": {
    "scrolled": true
   },
   "outputs": [],
   "source": [
    "Vi = virginica.loc[:,\"f0\":\"f3\"].apply(np.arcsin)"
   ]
  },
  {
   "cell_type": "markdown",
   "metadata": {},
   "source": [
    "# Building the quantum circuit"
   ]
  },
  {
   "cell_type": "markdown",
   "metadata": {},
   "source": [
    "To store 4 features I need 2 $i$ qubits.  \n",
    "To store 3 classes I need 2 $c$ quibits.  \n",
    "To store 6 training vectors I need 3 $m$ qubits.  \n",
    "I need some ancilla qubits for the QRAM routine.  \n",
    "I need one more bit to store the conditional measurement on the rotation qubit. "
   ]
  },
  {
   "cell_type": "code",
   "execution_count": 29,
   "metadata": {},
   "outputs": [],
   "source": [
    "import qiskit\n",
    "from qiskit import IBMQ\n",
    "from qiskit import (\n",
    "    QuantumCircuit,\n",
    "    QuantumRegister,\n",
    "    ClassicalRegister,\n",
    "    execute,\n",
    "    Aer)\n",
    "from qiskit.visualization import plot_histogram\n",
    "import qiskit.aqua.circuits.gates.controlled_ry_gates"
   ]
  },
  {
   "cell_type": "code",
   "execution_count": 30,
   "metadata": {},
   "outputs": [],
   "source": [
    "def encodeVector(circuit,data,i,controls,rotationQubit,ancillaQubits):\n",
    "    # |00>\n",
    "    circuit.x(i)\n",
    "    circuit.mcry(data[0],controls,rotationQubit,ancillaQubits)\n",
    "    circuit.x(i)\n",
    "    \n",
    "    # |01>\n",
    "    circuit.x(i[1])\n",
    "    circuit.mcry(data[1],controls,rotationQubit,ancillaQubits)\n",
    "    circuit.x(i[1])\n",
    "    \n",
    "    # |10>\n",
    "    circuit.x(i[0])\n",
    "    circuit.mcry(data[2],controls,rotationQubit,ancillaQubits)\n",
    "    circuit.x(i[0])\n",
    "    \n",
    "    # |11>\n",
    "    circuit.mcry(data[3],controls,rotationQubit,ancillaQubits)"
   ]
  },
  {
   "cell_type": "code",
   "execution_count": 31,
   "metadata": {},
   "outputs": [],
   "source": [
    "def encodeClass(circuit,irisClass):\n",
    "    classSwitcher = {\n",
    "        \"Iris-setosa\": 0,\n",
    "        \"Iris-versicolor\": 1,\n",
    "        \"Iris-virginica\": 2\n",
    "    }\n",
    "    # header = footer\n",
    "    if classSwitcher.get(irisClass) == 0:\n",
    "        circuit.x(c)\n",
    "    elif classSwitcher.get(irisClass) == 1:\n",
    "        circuit.x(c[1])\n",
    "    elif classSwitcher.get(irisClass) == 2:\n",
    "        circuit.x(c[0])"
   ]
  },
  {
   "cell_type": "code",
   "execution_count": 32,
   "metadata": {},
   "outputs": [],
   "source": [
    "def encodeIndex3(circuit,index):\n",
    "    \"\"\"\n",
    "    Encode the index of the training vectors with three qubits\n",
    "    \"\"\"\n",
    "    \n",
    "    # header = footer\n",
    "    if index == 0: # |000>\n",
    "        circuit.x(m)\n",
    "    elif index == 1: # |001>\n",
    "        circuit.x(m[1])\n",
    "        circuit.x(m[2])\n",
    "    elif index == 2: # |010>\n",
    "        circuit.x(m[0])\n",
    "        circuit.x(m[2])\n",
    "    elif index == 3: # |011>\n",
    "        circuit.x(m[2])\n",
    "    elif index == 4: # |100>\n",
    "        circuit.x(m[0])\n",
    "        circuit.x(m[1])\n",
    "    elif index == 5: # |101>\n",
    "        circuit.x(m[1])\n",
    "    elif index == 6: # |110>\n",
    "        circuit.x(m[0])\n",
    "    elif index == 7: # |111>\n",
    "        None"
   ]
  },
  {
   "cell_type": "code",
   "execution_count": 33,
   "metadata": {},
   "outputs": [],
   "source": [
    "def encodeTraining(circuit,data,i,controls,rotationQubit,ancillaQubits,c,m):\n",
    "    # Header\n",
    "    encodeClass(circuit,c)\n",
    "    encodeIndex3(circuit,m)\n",
    "    \n",
    "    # Encoder\n",
    "    encodeVector(circuit,data,i,controls,rotationQubit,ancillaQubits)\n",
    "    \n",
    "    # Footer\n",
    "    encodeClass(circuit,c)\n",
    "    encodeIndex3(circuit,m)"
   ]
  },
  {
   "cell_type": "code",
   "execution_count": 34,
   "metadata": {},
   "outputs": [
    {
     "data": {
      "text/plain": [
       "<qiskit.circuit.measure.Measure at 0x7f63b35a4d68>"
      ]
     },
     "execution_count": 34,
     "metadata": {},
     "output_type": "execute_result"
    }
   ],
   "source": [
    "a = QuantumRegister(1,'a') # knn ancilla\n",
    "m = QuantumRegister(3,'m') # training vector index\n",
    "i = QuantumRegister(2,'i') # feature index\n",
    "r = QuantumRegister(1,'r') # rotation qubit\n",
    "q = QuantumRegister(6,'q') # qram ancilla\n",
    "c = QuantumRegister(2,'c') # class\n",
    "b = ClassicalRegister(4, 'bit')\n",
    "circuit = QuantumCircuit(a,m,i,r,q,c,b)\n",
    "\n",
    "circuit.h(a)\n",
    "circuit.h(m)\n",
    "circuit.h(i)\n",
    "circuit.h(c)\n",
    "\n",
    "# circuit.cry(theta, control, target)\n",
    "# circuit.mcry(theta, controls, target, ancillae)\n",
    "\n",
    "# >>> Encode the input vector >>>\n",
    "\n",
    "encodeVector(circuit,Se.iloc[16],i,a[:]+i[:],r[0],q)\n",
    "\n",
    "circuit.x(a)\n",
    "\n",
    "# <<< Encode the input vector <<<\n",
    "\n",
    "# >>> Encode the first training vector >>>\n",
    "\n",
    "# |c> = |00>\n",
    "# |m> = |000>\n",
    "\n",
    "encodeTraining(circuit,T0.iloc[0],i,a[:]+i[:]+m[:]+c[:],r[0],q,data.loc[T0.iloc[0].name,\"class\"],0)\n",
    "\n",
    "# <<< Encode the first training vector <<<\n",
    "\n",
    "# >>> Encode the second training vector >>>\n",
    "\n",
    "# |c> = |00>\n",
    "# |m> = |001>\n",
    "\n",
    "encodeTraining(circuit,T0.iloc[1],i,a[:]+i[:]+m[:]+c[:],r[0],q,data.loc[T0.iloc[1].name,\"class\"],1)\n",
    "\n",
    "# <<< Encode the second training vector <<<\n",
    "\n",
    "# >>> Encode the third training vector >>>\n",
    "\n",
    "# |c> = |01>\n",
    "# |m> = |010>\n",
    "\n",
    "encodeTraining(circuit,T1.iloc[0],i,a[:]+i[:]+m[:]+c[:],r[0],q,data.loc[T1.iloc[0].name,\"class\"],2)\n",
    "\n",
    "# <<< Encode the third training vector <<<\n",
    "\n",
    "# >>> Encode the fourth training vector >>>\n",
    "\n",
    "# |c> = |01>\n",
    "# |m> = |011>\n",
    "\n",
    "encodeTraining(circuit,T1.iloc[1],i,a[:]+i[:]+m[:]+c[:],r[0],q,data.loc[T1.iloc[1].name,\"class\"],3)\n",
    "\n",
    "# <<< Encode the fourth training vector <<<\n",
    "\n",
    "# >>> Encode the fifth training vector >>>\n",
    "\n",
    "# |c> = |10>\n",
    "# |m> = |100>\n",
    "\n",
    "encodeTraining(circuit,T2.iloc[0],i,a[:]+i[:]+m[:]+c[:],r[0],q,data.loc[T2.iloc[0].name,\"class\"],4)\n",
    "\n",
    "# <<< Encode the fifth training vector <<<\n",
    "\n",
    "# >>> Encode the sixth training vector >>>\n",
    "\n",
    "# |c> = |10>\n",
    "# |m> = |101>\n",
    "\n",
    "encodeTraining(circuit,T2.iloc[1],i,a[:]+i[:]+m[:]+c[:],r[0],q,data.loc[T2.iloc[1].name,\"class\"],5)\n",
    "\n",
    "# <<< Encode the sixth training vector <<<\n",
    "\n",
    "# >>> Encode the seventh training vector >>>\n",
    "\n",
    "# |c> = |01>\n",
    "# |m> = |110>\n",
    "\n",
    "encodeTraining(circuit,T1.iloc[2],i,a[:]+i[:]+m[:]+c[:],r[0],q,data.loc[T1.iloc[2].name,\"class\"],6)\n",
    "\n",
    "# <<< Encode the seventh training vector <<<\n",
    "\n",
    "# >>> Encode the eighth training vector >>>\n",
    "\n",
    "# |c> = |10>\n",
    "# |m> = |111>\n",
    "\n",
    "encodeTraining(circuit,T2.iloc[2],i,a[:]+i[:]+m[:]+c[:],r[0],q,data.loc[T2.iloc[2].name,\"class\"],7)\n",
    "\n",
    "# <<< Encode the eighth training vector <<<\n",
    "\n",
    "circuit.measure(r,b[0])\n",
    "\n",
    "circuit.h(a)\n",
    "\n",
    "circuit.measure(a,b[1])\n",
    "circuit.measure(c[0],b[2])\n",
    "circuit.measure(c[1],b[3])\n",
    "\n",
    "# circuit.draw(output='mpl')"
   ]
  },
  {
   "cell_type": "code",
   "execution_count": 35,
   "metadata": {},
   "outputs": [
    {
     "name": "stdout",
     "output_type": "stream",
     "text": [
      "\n",
      "Total counts are: {'0000': 4026, '1101': 60, '0111': 151, '0110': 5, '1001': 61, '1111': 73, '1110': 1, '0001': 128, '1011': 131, '0101': 82, '1000': 3838, '0100': 3886, '0010': 2, '0011': 70, '1100': 3870}\n"
     ]
    },
    {
     "data": {
      "image/png": "[encoded data removed]",
      "text/plain": [
       "<Figure size 504x360 with 1 Axes>"
      ]
     },
     "execution_count": 35,
     "metadata": {},
     "output_type": "execute_result"
    }
   ],
   "source": [
    "simulator = Aer.get_backend('qasm_simulator')\n",
    "job = execute(circuit, simulator, shots=16384)\n",
    "result = job.result()\n",
    "counts = result.get_counts(circuit)\n",
    "print(\"\\nTotal counts are:\",counts)\n",
    "plot_histogram(counts)"
   ]
  },
  {
   "cell_type": "code",
   "execution_count": 36,
   "metadata": {},
   "outputs": [
    {
     "data": {
      "image/png": "[encoded data removed]",
      "text/plain": [
       "<Figure size 504x360 with 1 Axes>"
      ]
     },
     "execution_count": 36,
     "metadata": {},
     "output_type": "execute_result"
    }
   ],
   "source": [
    "goodCounts = {k: counts[k] for k in counts.keys() & {'0001','0101','1001','1101'}}\n",
    "plot_histogram(goodCounts)"
   ]
  },
  {
   "cell_type": "code",
   "execution_count": null,
   "metadata": {},
   "outputs": [],
   "source": []
  },
  {
   "cell_type": "code",
   "execution_count": null,
   "metadata": {},
   "outputs": [],
   "source": []
  },
  {
   "cell_type": "code",
   "execution_count": null,
   "metadata": {},
   "outputs": [],
   "source": []
  },
  {
   "cell_type": "code",
   "execution_count": null,
   "metadata": {},
   "outputs": [],
   "source": []
  },
  {
   "cell_type": "code",
   "execution_count": null,
   "metadata": {},
   "outputs": [],
   "source": []
  },
  {
   "cell_type": "code",
   "execution_count": null,
   "metadata": {},
   "outputs": [],
   "source": []
  },
  {
   "cell_type": "code",
   "execution_count": null,
   "metadata": {},
   "outputs": [],
   "source": []
  },
  {
   "cell_type": "code",
   "execution_count": null,
   "metadata": {},
   "outputs": [],
   "source": []
  },
  {
   "cell_type": "code",
   "execution_count": null,
   "metadata": {},
   "outputs": [],
   "source": []
  },
  {
   "cell_type": "code",
   "execution_count": null,
   "metadata": {},
   "outputs": [],
   "source": []
  }
 ],
 "metadata": {
  "kernelspec": {
   "display_name": "Python 3",
   "language": "python",
   "name": "python3"
  },
  "language_info": {
   "codemirror_mode": {
    "name": "ipython",
    "version": 3
   },
   "file_extension": ".py",
   "mimetype": "text/x-python",
   "name": "python",
   "nbconvert_exporter": "python",
   "pygments_lexer": "ipython3",
   "version": "3.7.3"
  }
 },
 "nbformat": 4,
 "nbformat_minor": 4
}
