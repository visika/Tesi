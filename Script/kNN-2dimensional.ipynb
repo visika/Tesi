{
 "cells": [
  {
   "cell_type": "markdown",
   "metadata": {},
   "source": [
    "# Amplitude-based kNN for 2 dimensional vectors"
   ]
  },
  {
   "cell_type": "markdown",
   "metadata": {},
   "source": [
    "We will start with quantum states composed of 2 qubits, then we will generalise the process for N qubits"
   ]
  },
  {
   "cell_type": "code",
   "execution_count": 899,
   "metadata": {},
   "outputs": [],
   "source": [
    "import qiskit;\n",
    "# qiskit.__qiskit_version__"
   ]
  },
  {
   "cell_type": "code",
   "execution_count": 900,
   "metadata": {
    "scrolled": false
   },
   "outputs": [],
   "source": [
    "from qiskit import IBMQ;"
   ]
  },
  {
   "cell_type": "code",
   "execution_count": 901,
   "metadata": {},
   "outputs": [],
   "source": [
    "import numpy as np\n",
    "from qiskit import (\n",
    "    QuantumCircuit,\n",
    "    QuantumRegister,\n",
    "    ClassicalRegister,\n",
    "    execute,\n",
    "    Aer)\n",
    "from qiskit.visualization import plot_histogram"
   ]
  },
  {
   "cell_type": "code",
   "execution_count": 902,
   "metadata": {},
   "outputs": [],
   "source": [
    "# The multi-controlled RY is not included in the standard gates\n",
    "import qiskit.aqua.circuits.gates.controlled_ry_gates"
   ]
  },
  {
   "cell_type": "markdown",
   "metadata": {},
   "source": [
    "# Initial state preparation"
   ]
  },
  {
   "cell_type": "markdown",
   "metadata": {},
   "source": [
    "The algorithm starts with the assumption that the following initial state can be constructed from $M$ training vectors with $N$ entries: \n",
    "$$|\\psi_0> = \\frac{1}{\\sqrt{2M}} \\sum_{m=1}^M \\big(|0>|\\psi_x> + |1>|\\psi_{t^m}>\\big) |c^m> |m> $$"
   ]
  },
  {
   "cell_type": "markdown",
   "metadata": {},
   "source": [
    "$$|\\chi_0> = |a> |d> |c> |m> = |00>|00>|0>|0>$$"
   ]
  },
  {
   "cell_type": "code",
   "execution_count": 903,
   "metadata": {},
   "outputs": [],
   "source": [
    "# Build the base circuit\n",
    "knna = QuantumRegister(1, 'knna') # Ancilla for kNN\n",
    "qrama = QuantumRegister(3, 'qrama') # Ancilla for QRAM\n",
    "d = QuantumRegister(2, 'd') # vettori del kNN\n",
    "r = QuantumRegister(1, 'r') # Rotation register for QRAM\n",
    "c = QuantumRegister(1, 'class') # classe del kNN\n",
    "m = QuantumRegister(1, 'm') # indice del kNN\n",
    "classical = ClassicalRegister(3, 'classic') # registri classici\n",
    "circuit = QuantumCircuit(knna,qrama,d,r,c,m,classical)"
   ]
  },
  {
   "cell_type": "markdown",
   "metadata": {},
   "source": [
    "The sum over $m$ is introduced by simply acting an H gate on the $m$ qubit\n",
    "$$|\\chi_1> = (\\mathbb{1} \\otimes \\mathbb{1} \\otimes \\mathbb{1} \\otimes H) |0>|0>|0>|0> = \\frac{1}{\\sqrt{2}} \\sum_{m=0}^1 |0>|0>|0>|m>$$"
   ]
  },
  {
   "cell_type": "code",
   "execution_count": 904,
   "metadata": {},
   "outputs": [
    {
     "data": {
      "text/plain": [
       "<qiskit.circuit.instructionset.InstructionSet at 0x7f9ca3a1ec88>"
      ]
     },
     "execution_count": 904,
     "metadata": {},
     "output_type": "execute_result"
    }
   ],
   "source": [
    "circuit.h(m)"
   ]
  },
  {
   "cell_type": "markdown",
   "metadata": {},
   "source": [
    "Using another H gate, the ancilla qubit is put in superposition: \n",
    "$$|\\chi_2> = (H \\otimes \\mathbb{1} \\otimes \\mathbb{1} \\otimes \\mathbb{1}) |\\chi_1> = \\frac{1}{2} \\sum_{m=0}^1 \\big[|0>|0> + |1>|0>\\big]|0>|m>$$"
   ]
  },
  {
   "cell_type": "code",
   "execution_count": 905,
   "metadata": {
    "scrolled": true
   },
   "outputs": [
    {
     "data": {
      "text/plain": [
       "<qiskit.circuit.instructionset.InstructionSet at 0x7f9ca3a1ed68>"
      ]
     },
     "execution_count": 905,
     "metadata": {},
     "output_type": "execute_result"
    }
   ],
   "source": [
    "circuit.h(knna)"
   ]
  },
  {
   "cell_type": "markdown",
   "metadata": {},
   "source": [
    "Next, the input vector $|\\psi_x>$ should be loaded into the quantum state by means of QRAM construction\n",
    "$$|\\chi_3> = QRAM(x) |\\chi_2>$$"
   ]
  },
  {
   "cell_type": "code",
   "execution_count": 906,
   "metadata": {},
   "outputs": [
    {
     "data": {
      "text/plain": [
       "<qiskit.circuit.instructionset.InstructionSet at 0x7f9ca3a1e710>"
      ]
     },
     "execution_count": 906,
     "metadata": {},
     "output_type": "execute_result"
    }
   ],
   "source": [
    "# Put |d> in superposition\n",
    "circuit.h(d)"
   ]
  },
  {
   "cell_type": "code",
   "execution_count": 907,
   "metadata": {},
   "outputs": [],
   "source": [
    "inputVector = [np.pi,0,0,0] # Classical data vector with max at π\n",
    "# I need to normalize to one the input vector\n",
    "# normalized_input_vector = input_vector\n",
    "# normalized_input_vector"
   ]
  },
  {
   "cell_type": "code",
   "execution_count": 908,
   "metadata": {},
   "outputs": [
    {
     "data": {
      "text/plain": [
       "<qiskit.circuit.instructionset.InstructionSet at 0x7f9ca3a1eb00>"
      ]
     },
     "execution_count": 908,
     "metadata": {},
     "output_type": "execute_result"
    }
   ],
   "source": [
    "# Begin QRAM state construction for two qubit data\n",
    "psixCircuit = QuantumCircuit(knna,qrama,d,r,c,m,classical)\n",
    "# I need to entangle the ψx state to the |0> state of the kNN ancilla\n",
    "# Encode state |00>\n",
    "psixCircuit.x(d)\n",
    "# The rotation angle should be converted accordingly: the max should be mapped to π\n",
    "psixCircuit.mcry(inputVector[0], d[0:2] + knna[0:1], r[0], qrama)\n",
    "psixCircuit.x(d)\n",
    "psixCircuit.barrier()\n",
    "# Encode state |01>\n",
    "psixCircuit.x(d[0])\n",
    "psixCircuit.mcry(inputVector[1], d[0:2] + knna[0:1], r[0], qrama)\n",
    "psixCircuit.x(d[0])\n",
    "psixCircuit.barrier()\n",
    "# Encode state |10>\n",
    "psixCircuit.x(d[1])\n",
    "psixCircuit.mcry(inputVector[2], d[0:2] + knna[0:1], r[0], qrama)\n",
    "psixCircuit.x(d[1])\n",
    "psixCircuit.barrier()\n",
    "# Encode state |11>\n",
    "psixCircuit.mcry(inputVector[3], d[0:2] + knna[0:1], r[0], qrama)\n",
    "psixCircuit.barrier()\n",
    "# Switch entanglement with ancilla to |a> = |0>\n",
    "psixCircuit.x(knna)\n",
    "# psixCircuit.draw(output='mpl')"
   ]
  },
  {
   "cell_type": "code",
   "execution_count": 909,
   "metadata": {},
   "outputs": [],
   "source": [
    "circuit += psixCircuit"
   ]
  },
  {
   "cell_type": "markdown",
   "metadata": {},
   "source": [
    "$$|\\chi_3> = \\frac{1}{2} \\sum_{m=0}^1 \\big[ |0>|\\psi_x> + |1>|00> \\big] |0> |m>$$"
   ]
  },
  {
   "cell_type": "markdown",
   "metadata": {},
   "source": [
    "The next step is to entangle the first training vector $|\\psi_{t^0}>$ with the $|1>$ state of the ancilla and the $|0>$ state of the $m$ qubit. Additionally, the second training vector $\\psi_{t^1}$ should be entangled with the $|1>$ states of the ancilla and of the $m$ qubit. "
   ]
  },
  {
   "cell_type": "code",
   "execution_count": 910,
   "metadata": {},
   "outputs": [],
   "source": [
    "trainingVector0 = [np.pi,0,0,0]\n",
    "# Entangled with |c> = |0>"
   ]
  },
  {
   "cell_type": "code",
   "execution_count": 911,
   "metadata": {},
   "outputs": [
    {
     "data": {
      "text/plain": [
       "<qiskit.circuit.instructionset.InstructionSet at 0x7f9ca3a69b00>"
      ]
     },
     "execution_count": 911,
     "metadata": {},
     "output_type": "execute_result"
    }
   ],
   "source": [
    "circuit.h(c)"
   ]
  },
  {
   "cell_type": "code",
   "execution_count": 912,
   "metadata": {
    "scrolled": true
   },
   "outputs": [
    {
     "data": {
      "text/plain": [
       "<qiskit.circuit.instructionset.InstructionSet at 0x7f9ca3a69208>"
      ]
     },
     "execution_count": 912,
     "metadata": {},
     "output_type": "execute_result"
    }
   ],
   "source": [
    "# Begin QRAM state construction for two qubit data\n",
    "psit0Circuit = QuantumCircuit(knna,qrama,d,r,c,m,classical)\n",
    "# I need to entangle the ψt0 state to the |1> state of the kNN ancilla, to the |0> state of m and to the |0> state of c\n",
    "# Do I need to superposition |d> again? I don't think so\n",
    "# I also need to entangle the class of the training vector; that should be encoded in the classical vector\n",
    "# Encode state |00>\n",
    "psit0Circuit.x(d)\n",
    "psit0Circuit.mcry(trainingVector0[0], d[0:2] + knna[0:1] + m[0:1] + c[0:1], r[0], qrama)\n",
    "psit0Circuit.x(d)\n",
    "psit0Circuit.barrier()\n",
    "# Encode state |01>\n",
    "psit0Circuit.x(d[0])\n",
    "psit0Circuit.mcry(trainingVector0[1], d[0:2] + knna[0:1] + m[0:1] + c[0:1], r[0], qrama)\n",
    "psit0Circuit.x(d[0])\n",
    "psit0Circuit.barrier()\n",
    "# Encode state |10>\n",
    "psit0Circuit.x(d[1])\n",
    "psit0Circuit.mcry(trainingVector0[2], d[0:2] + knna[0:1] + m[0:1] + c[0:1], r[0], qrama)\n",
    "psit0Circuit.x(d[1])\n",
    "psit0Circuit.barrier()\n",
    "# Encode state |11>\n",
    "psit0Circuit.mcry(trainingVector0[3], d[0:2] + knna[0:1] + m[0:1] + c[0:1], r[0], qrama)\n",
    "psit0Circuit.barrier()\n",
    "# Switch entanglement with m to |m> = |0>\n",
    "psit0Circuit.x(m)\n",
    "# Switch entanglement with c to |c> = |0>\n",
    "psit0Circuit.x(c)\n",
    "# psit0Circuit.draw(output='mpl')"
   ]
  },
  {
   "cell_type": "code",
   "execution_count": 913,
   "metadata": {},
   "outputs": [],
   "source": [
    "circuit += psit0Circuit"
   ]
  },
  {
   "cell_type": "code",
   "execution_count": 914,
   "metadata": {},
   "outputs": [],
   "source": [
    "trainingVector1 = [0,np.pi,0,0]\n",
    "# Entangled with |c> = |1>"
   ]
  },
  {
   "cell_type": "code",
   "execution_count": 915,
   "metadata": {},
   "outputs": [
    {
     "data": {
      "text/plain": [
       "<qiskit.extensions.standard.barrier.Barrier at 0x7f9cb0d056d8>"
      ]
     },
     "execution_count": 915,
     "metadata": {},
     "output_type": "execute_result"
    }
   ],
   "source": [
    "# Begin QRAM state construction for two qubit data\n",
    "psit1Circuit = QuantumCircuit(knna,qrama,d,r,c,m,classical)\n",
    "# I need to entangle the ψt1 state to the |1> state of the kNN ancilla, to the |1> state of m and to the |1> state of c\n",
    "# Encode state |00>\n",
    "psit1Circuit.x(d)\n",
    "psit1Circuit.mcry(trainingVector1[0], d[0:2] + knna[0:1] + m[0:1] + c[0:1], r[0], qrama)\n",
    "psit1Circuit.x(d)\n",
    "psit1Circuit.barrier()\n",
    "# Encode state |01>\n",
    "psit1Circuit.x(d[0])\n",
    "psit1Circuit.mcry(trainingVector1[1], d[0:2] + knna[0:1] + m[0:1] + c[0:1], r[0], qrama)\n",
    "psit1Circuit.x(d[0])\n",
    "psit1Circuit.barrier()\n",
    "# Encode state |10>\n",
    "psit1Circuit.x(d[1])\n",
    "psit1Circuit.mcry(trainingVector1[2], d[0:2] + knna[0:1] + m[0:1] + c[0:1], r[0], qrama)\n",
    "psit1Circuit.x(d[1])\n",
    "psit1Circuit.barrier()\n",
    "# Encode state |11>\n",
    "psit1Circuit.mcry(trainingVector1[3], d[0:2] + knna[0:1] + m[0:1] + c[0:1], r[0], qrama)\n",
    "psit1Circuit.barrier()\n",
    "# psit1Circuit.draw(output='mpl')"
   ]
  },
  {
   "cell_type": "code",
   "execution_count": 916,
   "metadata": {},
   "outputs": [],
   "source": [
    "circuit += psit1Circuit"
   ]
  },
  {
   "cell_type": "markdown",
   "metadata": {},
   "source": [
    "The desired input and training state is obtained after post-selecting the measurement outcome $|1>_R$ on the register qubit."
   ]
  },
  {
   "cell_type": "code",
   "execution_count": 917,
   "metadata": {},
   "outputs": [
    {
     "data": {
      "text/plain": [
       "<qiskit.circuit.instructionset.InstructionSet at 0x7f9ca3a223c8>"
      ]
     },
     "execution_count": 917,
     "metadata": {},
     "output_type": "execute_result"
    }
   ],
   "source": [
    "circuit.measure(r,classical[0])"
   ]
  },
  {
   "cell_type": "markdown",
   "metadata": {
    "tags": [
     "Fingerhuth"
    ]
   },
   "source": [
    "Having prepared the initial state $|\\psi_0>$ one has to simply apply an H gate to the ancilla qubit. This causes the aplitudes of $|\\psi_x>$ and $|\\psi_{t^m}>$ to interfere. In this case, constructive ($+$) interference happens when the ancilla qubit is $|0>$ and destructive ($-$) interference when the ancilla is $|1>$. "
   ]
  },
  {
   "cell_type": "code",
   "execution_count": 918,
   "metadata": {},
   "outputs": [
    {
     "data": {
      "text/plain": [
       "<qiskit.circuit.instructionset.InstructionSet at 0x7f9ca3a74cf8>"
      ]
     },
     "execution_count": 918,
     "metadata": {},
     "output_type": "execute_result"
    }
   ],
   "source": [
    "circuit.h(knna)\n",
    "circuit.measure(knna,classical[1])"
   ]
  },
  {
   "cell_type": "markdown",
   "metadata": {},
   "source": [
    "After the successful conditional measurement, the state is proportional to:\n",
    "$$|\\psi_2> = \\frac{1}{2\\sqrt{M}} \\sum_{m=0}^1 \\sum_{i=0}^3 (x_i + t_i^m) |0> |i> |c^m> |m>$$"
   ]
  },
  {
   "cell_type": "markdown",
   "metadata": {},
   "source": [
    "The probability of measuring e.g. class $|1>$ (B) is then given by the following expression:\n",
    "$$\\text{Prob}(|c^m> = |1(\\text{B})>) = \\sum_{m|c^m=1(\\text{B})} 1 - \\frac{1}{4M} \\sum_{i=0}^3 |x_i - t_i^m|^2$$"
   ]
  },
  {
   "cell_type": "code",
   "execution_count": 919,
   "metadata": {},
   "outputs": [
    {
     "data": {
      "text/plain": [
       "<qiskit.circuit.instructionset.InstructionSet at 0x7f9ca3ad5d30>"
      ]
     },
     "execution_count": 919,
     "metadata": {},
     "output_type": "execute_result"
    }
   ],
   "source": [
    "circuit.measure(c,classical[2])"
   ]
  },
  {
   "cell_type": "code",
   "execution_count": 942,
   "metadata": {},
   "outputs": [],
   "source": [
    "simulator = Aer.get_backend('qasm_simulator')\n",
    "job = execute(circuit, simulator, shots=2048)\n",
    "result = job.result()\n",
    "counts = result.get_counts(circuit)\n",
    "# print(\"\\nTotal counts are:\",counts)"
   ]
  },
  {
   "cell_type": "code",
   "execution_count": 943,
   "metadata": {},
   "outputs": [],
   "source": [
    "goodCounts = {k: counts[k] for k in counts.keys() & {'001', '101'}}\n",
    "# goodCounts"
   ]
  },
  {
   "cell_type": "code",
   "execution_count": 944,
   "metadata": {},
   "outputs": [
    {
     "data": {
      "image/png": "[encoded data removed]",
      "text/plain": [
       "<Figure size 504x360 with 1 Axes>"
      ]
     },
     "execution_count": 944,
     "metadata": {},
     "output_type": "execute_result"
    }
   ],
   "source": [
    "plot_histogram(goodCounts)"
   ]
  },
  {
   "cell_type": "code",
   "execution_count": null,
   "metadata": {},
   "outputs": [],
   "source": []
  },
  {
   "cell_type": "code",
   "execution_count": null,
   "metadata": {},
   "outputs": [],
   "source": []
  },
  {
   "cell_type": "code",
   "execution_count": null,
   "metadata": {},
   "outputs": [],
   "source": []
  },
  {
   "cell_type": "code",
   "execution_count": null,
   "metadata": {},
   "outputs": [],
   "source": []
  },
  {
   "cell_type": "code",
   "execution_count": null,
   "metadata": {},
   "outputs": [],
   "source": []
  },
  {
   "cell_type": "code",
   "execution_count": null,
   "metadata": {},
   "outputs": [],
   "source": []
  },
  {
   "cell_type": "code",
   "execution_count": null,
   "metadata": {},
   "outputs": [],
   "source": []
  },
  {
   "cell_type": "code",
   "execution_count": null,
   "metadata": {},
   "outputs": [],
   "source": []
  },
  {
   "cell_type": "code",
   "execution_count": 923,
   "metadata": {},
   "outputs": [],
   "source": [
    "# # Testing QRAM\n",
    "# inputVector = [np.pi,np.pi,np.pi,0]\n",
    "# qram = QuantumCircuit(qrama,d,r,classical)\n",
    "# # I need to entangle the ψx state to the |0> state of the kNN ancilla\n",
    "# qram.h(d)\n",
    "# # Encode state |00>\n",
    "# qram.x(d)\n",
    "# # The rotation angle should be converted accordingly\n",
    "# qram.mcry(inputVector[0], d[0:2], r[0], qrama)\n",
    "# qram.x(d)\n",
    "# qram.barrier()\n",
    "# # Encode state |01>\n",
    "# qram.x(d[0])\n",
    "# qram.mcry(inputVector[1], d[0:2], r[0], qrama)\n",
    "# qram.x(d[0])\n",
    "# qram.barrier()\n",
    "# # Encode state |10>\n",
    "# qram.x(d[1])\n",
    "# qram.mcry(inputVector[2], d[0:2], r[0], qrama)\n",
    "# qram.x(d[1])\n",
    "# qram.barrier()\n",
    "# # Encode state |11>\n",
    "# qram.mcry(inputVector[3], d[0:2], r[0], qrama)\n",
    "# qram.barrier()\n",
    "# # qram.draw(output='mpl')\n",
    "# qram.measure(r,classical[0])\n",
    "# simulator = Aer.get_backend('qasm_simulator')\n",
    "# job = execute(qram, simulator, shots=2000)\n",
    "# result = job.result()\n",
    "# counts = result.get_counts(qram)\n",
    "# print(\"\\nTotal counts are:\",counts)"
   ]
  }
 ],
 "metadata": {
  "kernelspec": {
   "display_name": "Python 3",
   "language": "python",
   "name": "python3"
  },
  "language_info": {
   "codemirror_mode": {
    "name": "ipython",
    "version": 3
   },
   "file_extension": ".py",
   "mimetype": "text/x-python",
   "name": "python",
   "nbconvert_exporter": "python",
   "pygments_lexer": "ipython3",
   "version": "3.7.3"
  }
 },
 "nbformat": 4,
 "nbformat_minor": 2
}
