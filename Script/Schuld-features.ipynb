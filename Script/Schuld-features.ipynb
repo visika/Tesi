{
 "cells": [
  {
   "cell_type": "markdown",
   "metadata": {},
   "source": [
    "## From the article"
   ]
  },
  {
   "cell_type": "markdown",
   "metadata": {},
   "source": [
    "# Implementing a distance-based classifier with a quantum interference circuit"
   ]
  },
  {
   "cell_type": "markdown",
   "metadata": {},
   "source": [
    "###  M. Schuld et al 2017 EPL 119 60002"
   ]
  },
  {
   "cell_type": "markdown",
   "metadata": {},
   "source": [
    "## Let's input all the features of the Iris Data Set"
   ]
  },
  {
   "cell_type": "markdown",
   "metadata": {},
   "source": [
    "# Preparing the data"
   ]
  },
  {
   "cell_type": "code",
   "execution_count": 1,
   "metadata": {},
   "outputs": [],
   "source": [
    "import numpy as np\n",
    "import pandas as pd"
   ]
  },
  {
   "cell_type": "code",
   "execution_count": 2,
   "metadata": {
    "scrolled": true
   },
   "outputs": [],
   "source": [
    "iris = pd.read_csv(\"Iris/iris.data\",header=None,names=[\"f0\",\"f1\",\"f2\",\"f3\",\"class\"])"
   ]
  },
  {
   "cell_type": "code",
   "execution_count": 3,
   "metadata": {},
   "outputs": [
    {
     "name": "stderr",
     "output_type": "stream",
     "text": [
      "/home/mariano/anaconda3/lib/python3.7/site-packages/pandas/core/indexing.py:362: SettingWithCopyWarning: \n",
      "A value is trying to be set on a copy of a slice from a DataFrame.\n",
      "Try using .loc[row_indexer,col_indexer] = value instead\n",
      "\n",
      "See the caveats in the documentation: http://pandas.pydata.org/pandas-docs/stable/indexing.html#indexing-view-versus-copy\n",
      "  self.obj[key] = _infer_fill_value(value)\n",
      "/home/mariano/anaconda3/lib/python3.7/site-packages/pandas/core/indexing.py:543: SettingWithCopyWarning: \n",
      "A value is trying to be set on a copy of a slice from a DataFrame.\n",
      "Try using .loc[row_indexer,col_indexer] = value instead\n",
      "\n",
      "See the caveats in the documentation: http://pandas.pydata.org/pandas-docs/stable/indexing.html#indexing-view-versus-copy\n",
      "  self.obj[item] = s\n"
     ]
    }
   ],
   "source": [
    "setosa = iris[iris[\"class\"] == \"Iris-setosa\"]\n",
    "# setosa.loc[:,\"class\"] = -1\n",
    "setosa.loc[:,\"color\"] = \"DarkGreen\""
   ]
  },
  {
   "cell_type": "code",
   "execution_count": 4,
   "metadata": {
    "scrolled": true
   },
   "outputs": [],
   "source": [
    "versicolor = iris[iris[\"class\"] == \"Iris-versicolor\"]\n",
    "# versicolor.loc[:,\"class\"] = 1\n",
    "versicolor.loc[:,\"color\"] = \"DarkBlue\""
   ]
  },
  {
   "cell_type": "code",
   "execution_count": 5,
   "metadata": {
    "scrolled": true
   },
   "outputs": [],
   "source": [
    "virginica = iris[iris[\"class\"] == \"Iris-virginica\"]\n",
    "# virginica.loc[:,\"class\"] = 1\n",
    "virginica.loc[:,\"color\"] = \"DarkRed\""
   ]
  },
  {
   "cell_type": "code",
   "execution_count": null,
   "metadata": {},
   "outputs": [],
   "source": [
    "data = pd.concat([setosa,versicolor])"
   ]
  },
  {
   "cell_type": "code",
   "execution_count": 6,
   "metadata": {},
   "outputs": [],
   "source": [
    "data = pd.concat([versicolor,virginica])"
   ]
  },
  {
   "cell_type": "code",
   "execution_count": 7,
   "metadata": {},
   "outputs": [
    {
     "data": {
      "text/plain": [
       "<matplotlib.axes._subplots.AxesSubplot at 0x7f7b6208cdd8>"
      ]
     },
     "execution_count": 7,
     "metadata": {},
     "output_type": "execute_result"
    }
   ],
   "source": [
    "data.plot.scatter(x=\"f0\", y=\"f1\", c=data.color)"
   ]
  },
  {
   "cell_type": "code",
   "execution_count": 8,
   "metadata": {},
   "outputs": [
    {
     "data": {
      "text/html": [
       "<div>\n",
       "<style scoped>\n",
       "    .dataframe tbody tr th:only-of-type {\n",
       "        vertical-align: middle;\n",
       "    }\n",
       "\n",
       "    .dataframe tbody tr th {\n",
       "        vertical-align: top;\n",
       "    }\n",
       "\n",
       "    .dataframe thead th {\n",
       "        text-align: right;\n",
       "    }\n",
       "</style>\n",
       "<table border=\"1\" class=\"dataframe\">\n",
       "  <thead>\n",
       "    <tr style=\"text-align: right;\">\n",
       "      <th></th>\n",
       "      <th>f0</th>\n",
       "      <th>f1</th>\n",
       "      <th>f2</th>\n",
       "      <th>f3</th>\n",
       "    </tr>\n",
       "  </thead>\n",
       "  <tbody>\n",
       "    <tr>\n",
       "      <th>count</th>\n",
       "      <td>100.000000</td>\n",
       "      <td>100.000000</td>\n",
       "      <td>100.000000</td>\n",
       "      <td>100.000000</td>\n",
       "    </tr>\n",
       "    <tr>\n",
       "      <th>mean</th>\n",
       "      <td>6.262000</td>\n",
       "      <td>2.872000</td>\n",
       "      <td>4.906000</td>\n",
       "      <td>1.676000</td>\n",
       "    </tr>\n",
       "    <tr>\n",
       "      <th>std</th>\n",
       "      <td>0.662834</td>\n",
       "      <td>0.332751</td>\n",
       "      <td>0.825578</td>\n",
       "      <td>0.424769</td>\n",
       "    </tr>\n",
       "    <tr>\n",
       "      <th>min</th>\n",
       "      <td>4.900000</td>\n",
       "      <td>2.000000</td>\n",
       "      <td>3.000000</td>\n",
       "      <td>1.000000</td>\n",
       "    </tr>\n",
       "    <tr>\n",
       "      <th>25%</th>\n",
       "      <td>5.800000</td>\n",
       "      <td>2.700000</td>\n",
       "      <td>4.375000</td>\n",
       "      <td>1.300000</td>\n",
       "    </tr>\n",
       "    <tr>\n",
       "      <th>50%</th>\n",
       "      <td>6.300000</td>\n",
       "      <td>2.900000</td>\n",
       "      <td>4.900000</td>\n",
       "      <td>1.600000</td>\n",
       "    </tr>\n",
       "    <tr>\n",
       "      <th>75%</th>\n",
       "      <td>6.700000</td>\n",
       "      <td>3.025000</td>\n",
       "      <td>5.525000</td>\n",
       "      <td>2.000000</td>\n",
       "    </tr>\n",
       "    <tr>\n",
       "      <th>max</th>\n",
       "      <td>7.900000</td>\n",
       "      <td>3.800000</td>\n",
       "      <td>6.900000</td>\n",
       "      <td>2.500000</td>\n",
       "    </tr>\n",
       "  </tbody>\n",
       "</table>\n",
       "</div>"
      ],
      "text/plain": [
       "               f0          f1          f2          f3\n",
       "count  100.000000  100.000000  100.000000  100.000000\n",
       "mean     6.262000    2.872000    4.906000    1.676000\n",
       "std      0.662834    0.332751    0.825578    0.424769\n",
       "min      4.900000    2.000000    3.000000    1.000000\n",
       "25%      5.800000    2.700000    4.375000    1.300000\n",
       "50%      6.300000    2.900000    4.900000    1.600000\n",
       "75%      6.700000    3.025000    5.525000    2.000000\n",
       "max      7.900000    3.800000    6.900000    2.500000"
      ]
     },
     "execution_count": 8,
     "metadata": {},
     "output_type": "execute_result"
    }
   ],
   "source": [
    "data.loc[:,[\"f0\",\"f1\",\"f2\",\"f3\"]].describe()"
   ]
  },
  {
   "cell_type": "code",
   "execution_count": 9,
   "metadata": {},
   "outputs": [],
   "source": [
    "# data.mean()\n",
    "# data[\"f0\"] -= data.mean()[0]\n",
    "# data[\"f1\"] -= data.mean()[1]"
   ]
  },
  {
   "cell_type": "code",
   "execution_count": 10,
   "metadata": {},
   "outputs": [],
   "source": [
    "from sklearn.preprocessing import StandardScaler\n",
    "scaler = StandardScaler()\n",
    "data.loc[:,[\"f0\",\"f1\",\"f2\",\"f3\"]] = scaler.fit_transform(data.loc[:,[\"f0\",\"f1\",\"f2\",\"f3\"]])"
   ]
  },
  {
   "cell_type": "code",
   "execution_count": 11,
   "metadata": {},
   "outputs": [
    {
     "data": {
      "text/html": [
       "<div>\n",
       "<style scoped>\n",
       "    .dataframe tbody tr th:only-of-type {\n",
       "        vertical-align: middle;\n",
       "    }\n",
       "\n",
       "    .dataframe tbody tr th {\n",
       "        vertical-align: top;\n",
       "    }\n",
       "\n",
       "    .dataframe thead th {\n",
       "        text-align: right;\n",
       "    }\n",
       "</style>\n",
       "<table border=\"1\" class=\"dataframe\">\n",
       "  <thead>\n",
       "    <tr style=\"text-align: right;\">\n",
       "      <th></th>\n",
       "      <th>f0</th>\n",
       "      <th>f1</th>\n",
       "      <th>f2</th>\n",
       "      <th>f3</th>\n",
       "    </tr>\n",
       "  </thead>\n",
       "  <tbody>\n",
       "    <tr>\n",
       "      <th>count</th>\n",
       "      <td>1.000000e+02</td>\n",
       "      <td>1.000000e+02</td>\n",
       "      <td>1.000000e+02</td>\n",
       "      <td>1.000000e+02</td>\n",
       "    </tr>\n",
       "    <tr>\n",
       "      <th>mean</th>\n",
       "      <td>-7.394085e-16</td>\n",
       "      <td>1.686429e-15</td>\n",
       "      <td>2.092770e-16</td>\n",
       "      <td>-1.283973e-15</td>\n",
       "    </tr>\n",
       "    <tr>\n",
       "      <th>std</th>\n",
       "      <td>1.005038e+00</td>\n",
       "      <td>1.005038e+00</td>\n",
       "      <td>1.005038e+00</td>\n",
       "      <td>1.005038e+00</td>\n",
       "    </tr>\n",
       "    <tr>\n",
       "      <th>min</th>\n",
       "      <td>-2.065164e+00</td>\n",
       "      <td>-2.633780e+00</td>\n",
       "      <td>-2.320315e+00</td>\n",
       "      <td>-1.599473e+00</td>\n",
       "    </tr>\n",
       "    <tr>\n",
       "      <th>25%</th>\n",
       "      <td>-7.005180e-01</td>\n",
       "      <td>-5.195071e-01</td>\n",
       "      <td>-6.464256e-01</td>\n",
       "      <td>-8.896475e-01</td>\n",
       "    </tr>\n",
       "    <tr>\n",
       "      <th>50%</th>\n",
       "      <td>5.761837e-02</td>\n",
       "      <td>8.457092e-02</td>\n",
       "      <td>-7.304244e-03</td>\n",
       "      <td>-1.798224e-01</td>\n",
       "    </tr>\n",
       "    <tr>\n",
       "      <th>75%</th>\n",
       "      <td>6.641275e-01</td>\n",
       "      <td>4.621197e-01</td>\n",
       "      <td>7.535546e-01</td>\n",
       "      <td>7.666111e-01</td>\n",
       "    </tr>\n",
       "    <tr>\n",
       "      <th>max</th>\n",
       "      <td>2.483655e+00</td>\n",
       "      <td>2.802922e+00</td>\n",
       "      <td>2.427444e+00</td>\n",
       "      <td>1.949653e+00</td>\n",
       "    </tr>\n",
       "  </tbody>\n",
       "</table>\n",
       "</div>"
      ],
      "text/plain": [
       "                 f0            f1            f2            f3\n",
       "count  1.000000e+02  1.000000e+02  1.000000e+02  1.000000e+02\n",
       "mean  -7.394085e-16  1.686429e-15  2.092770e-16 -1.283973e-15\n",
       "std    1.005038e+00  1.005038e+00  1.005038e+00  1.005038e+00\n",
       "min   -2.065164e+00 -2.633780e+00 -2.320315e+00 -1.599473e+00\n",
       "25%   -7.005180e-01 -5.195071e-01 -6.464256e-01 -8.896475e-01\n",
       "50%    5.761837e-02  8.457092e-02 -7.304244e-03 -1.798224e-01\n",
       "75%    6.641275e-01  4.621197e-01  7.535546e-01  7.666111e-01\n",
       "max    2.483655e+00  2.802922e+00  2.427444e+00  1.949653e+00"
      ]
     },
     "execution_count": 11,
     "metadata": {},
     "output_type": "execute_result"
    }
   ],
   "source": [
    "data.loc[:,[\"f0\",\"f1\",\"f2\",\"f3\"]].describe()"
   ]
  },
  {
   "cell_type": "code",
   "execution_count": 12,
   "metadata": {},
   "outputs": [
    {
     "data": {
      "text/plain": [
       "<matplotlib.axes._subplots.AxesSubplot at 0x7f7b60f36f98>"
      ]
     },
     "execution_count": 12,
     "metadata": {},
     "output_type": "execute_result"
    },
    {
     "data": {
      "image/png": "[encoded data removed]",
      "text/plain": [
       "<Figure size 432x288 with 1 Axes>"
      ]
     },
     "metadata": {
      "needs_background": "light"
     },
     "output_type": "display_data"
    }
   ],
   "source": [
    "data.plot.scatter(x=\"f0\", y=\"f1\", c=data.color)"
   ]
  },
  {
   "cell_type": "code",
   "execution_count": 13,
   "metadata": {},
   "outputs": [],
   "source": [
    "def normalize(v):\n",
    "    norm = np.linalg.norm(v)\n",
    "    if norm == 0: \n",
    "       return v\n",
    "    return v / norm"
   ]
  },
  {
   "cell_type": "code",
   "execution_count": 14,
   "metadata": {},
   "outputs": [],
   "source": [
    "for i in data.index:\n",
    "    v = [data[\"f0\"][i],data[\"f1\"][i],data[\"f2\"][i],data[\"f3\"][i]]\n",
    "    v = normalize(v)\n",
    "    data.loc[i,\"f0\"], data.loc[i,\"f1\"], data.loc[i,\"f2\"], data.loc[i,\"f3\"] = v[0], v[1], v[2], v[3]"
   ]
  },
  {
   "cell_type": "code",
   "execution_count": 15,
   "metadata": {},
   "outputs": [
    {
     "data": {
      "text/plain": [
       "<matplotlib.axes._subplots.AxesSubplot at 0x7f7b60f502e8>"
      ]
     },
     "execution_count": 15,
     "metadata": {},
     "output_type": "execute_result"
    },
    {
     "data": {
      "image/png": "[encoded data removed]",
      "text/plain": [
       "<Figure size 432x288 with 1 Axes>"
      ]
     },
     "metadata": {
      "needs_background": "light"
     },
     "output_type": "display_data"
    }
   ],
   "source": [
    "data.plot.scatter(x=\"f0\", y=\"f1\", c=data.color)"
   ]
  },
  {
   "cell_type": "code",
   "execution_count": null,
   "metadata": {},
   "outputs": [],
   "source": [
    "# For setosa and versicolor\n",
    "vectors = data.loc[[33,85,28,36],[\"f0\",\"f1\",\"f2\",\"f3\",\"class\"]]\n",
    "vectors[\"label\"] = [\"t0\",\"t1\",\"x0\",\"x1\"]\n",
    "vectors"
   ]
  },
  {
   "cell_type": "code",
   "execution_count": 16,
   "metadata": {},
   "outputs": [
    {
     "data": {
      "text/html": [
       "<div>\n",
       "<style scoped>\n",
       "    .dataframe tbody tr th:only-of-type {\n",
       "        vertical-align: middle;\n",
       "    }\n",
       "\n",
       "    .dataframe tbody tr th {\n",
       "        vertical-align: top;\n",
       "    }\n",
       "\n",
       "    .dataframe thead th {\n",
       "        text-align: right;\n",
       "    }\n",
       "</style>\n",
       "<table border=\"1\" class=\"dataframe\">\n",
       "  <thead>\n",
       "    <tr style=\"text-align: right;\">\n",
       "      <th></th>\n",
       "      <th>f0</th>\n",
       "      <th>f1</th>\n",
       "      <th>f2</th>\n",
       "      <th>f3</th>\n",
       "      <th>class</th>\n",
       "      <th>label</th>\n",
       "    </tr>\n",
       "  </thead>\n",
       "  <tbody>\n",
       "    <tr>\n",
       "      <th>50</th>\n",
       "      <td>0.678126</td>\n",
       "      <td>0.600362</td>\n",
       "      <td>-0.151974</td>\n",
       "      <td>-0.395745</td>\n",
       "      <td>Iris-versicolor</td>\n",
       "      <td>t0</td>\n",
       "    </tr>\n",
       "    <tr>\n",
       "      <th>145</th>\n",
       "      <td>0.390090</td>\n",
       "      <td>0.227084</td>\n",
       "      <td>0.210225</td>\n",
       "      <td>0.867218</td>\n",
       "      <td>Iris-virginica</td>\n",
       "      <td>t1</td>\n",
       "    </tr>\n",
       "    <tr>\n",
       "      <th>53</th>\n",
       "      <td>-0.459313</td>\n",
       "      <td>-0.686808</td>\n",
       "      <td>-0.438459</td>\n",
       "      <td>-0.353667</td>\n",
       "      <td>Iris-versicolor</td>\n",
       "      <td>x0</td>\n",
       "    </tr>\n",
       "    <tr>\n",
       "      <th>149</th>\n",
       "      <td>-0.713022</td>\n",
       "      <td>0.502216</td>\n",
       "      <td>0.306791</td>\n",
       "      <td>0.381126</td>\n",
       "      <td>Iris-virginica</td>\n",
       "      <td>x1</td>\n",
       "    </tr>\n",
       "  </tbody>\n",
       "</table>\n",
       "</div>"
      ],
      "text/plain": [
       "           f0        f1        f2        f3            class label\n",
       "50   0.678126  0.600362 -0.151974 -0.395745  Iris-versicolor    t0\n",
       "145  0.390090  0.227084  0.210225  0.867218   Iris-virginica    t1\n",
       "53  -0.459313 -0.686808 -0.438459 -0.353667  Iris-versicolor    x0\n",
       "149 -0.713022  0.502216  0.306791  0.381126   Iris-virginica    x1"
      ]
     },
     "execution_count": 16,
     "metadata": {},
     "output_type": "execute_result"
    }
   ],
   "source": [
    "# For versicolor and virginica\n",
    "vectors = data.loc[[50,145,53,149],[\"f0\",\"f1\",\"f2\",\"f3\",\"class\"]]\n",
    "vectors[\"label\"] = [\"t0\",\"t1\",\"x0\",\"x1\"]\n",
    "vectors"
   ]
  },
  {
   "cell_type": "code",
   "execution_count": 17,
   "metadata": {},
   "outputs": [
    {
     "data": {
      "text/html": [
       "<div>\n",
       "<style scoped>\n",
       "    .dataframe tbody tr th:only-of-type {\n",
       "        vertical-align: middle;\n",
       "    }\n",
       "\n",
       "    .dataframe tbody tr th {\n",
       "        vertical-align: top;\n",
       "    }\n",
       "\n",
       "    .dataframe thead th {\n",
       "        text-align: right;\n",
       "    }\n",
       "</style>\n",
       "<table border=\"1\" class=\"dataframe\">\n",
       "  <thead>\n",
       "    <tr style=\"text-align: right;\">\n",
       "      <th></th>\n",
       "      <th>f0</th>\n",
       "      <th>f1</th>\n",
       "      <th>f2</th>\n",
       "      <th>f3</th>\n",
       "    </tr>\n",
       "  </thead>\n",
       "  <tbody>\n",
       "    <tr>\n",
       "      <th>50</th>\n",
       "      <td>0.745210</td>\n",
       "      <td>0.643954</td>\n",
       "      <td>-0.152565</td>\n",
       "      <td>-0.406879</td>\n",
       "    </tr>\n",
       "    <tr>\n",
       "      <th>145</th>\n",
       "      <td>0.400730</td>\n",
       "      <td>0.229083</td>\n",
       "      <td>0.211805</td>\n",
       "      <td>1.049588</td>\n",
       "    </tr>\n",
       "    <tr>\n",
       "      <th>53</th>\n",
       "      <td>-0.477222</td>\n",
       "      <td>-0.757088</td>\n",
       "      <td>-0.453883</td>\n",
       "      <td>-0.361488</td>\n",
       "    </tr>\n",
       "    <tr>\n",
       "      <th>149</th>\n",
       "      <td>-0.793800</td>\n",
       "      <td>0.526159</td>\n",
       "      <td>0.311820</td>\n",
       "      <td>0.391014</td>\n",
       "    </tr>\n",
       "  </tbody>\n",
       "</table>\n",
       "</div>"
      ],
      "text/plain": [
       "           f0        f1        f2        f3\n",
       "50   0.745210  0.643954 -0.152565 -0.406879\n",
       "145  0.400730  0.229083  0.211805  1.049588\n",
       "53  -0.477222 -0.757088 -0.453883 -0.361488\n",
       "149 -0.793800  0.526159  0.311820  0.391014"
      ]
     },
     "execution_count": 17,
     "metadata": {},
     "output_type": "execute_result"
    }
   ],
   "source": [
    "vectors.iloc[:,0:4].apply(np.arcsin)"
   ]
  },
  {
   "cell_type": "code",
   "execution_count": 18,
   "metadata": {},
   "outputs": [],
   "source": [
    "t0 = vectors.iloc[0:1,0:4].apply(np.arcsin).to_numpy()[0]"
   ]
  },
  {
   "cell_type": "code",
   "execution_count": 19,
   "metadata": {},
   "outputs": [],
   "source": [
    "t1 = vectors.iloc[1:2,0:4].apply(np.arcsin).to_numpy()[0]"
   ]
  },
  {
   "cell_type": "code",
   "execution_count": 20,
   "metadata": {},
   "outputs": [],
   "source": [
    "x0 = vectors.iloc[2:3,0:4].apply(np.arcsin).to_numpy()[0]"
   ]
  },
  {
   "cell_type": "code",
   "execution_count": 21,
   "metadata": {},
   "outputs": [],
   "source": [
    "x1 = vectors.iloc[3:4,0:4].apply(np.arcsin).to_numpy()[0]"
   ]
  },
  {
   "cell_type": "markdown",
   "metadata": {},
   "source": [
    "# Building the quantum circuit"
   ]
  },
  {
   "cell_type": "markdown",
   "metadata": {},
   "source": [
    "To store 4 features I need 2 $i$ qubits.  \n",
    "I need some ancilla qubits for the QRAM routine.  \n",
    "I need one more bit to store the conditional measurement on the rotation qubit. "
   ]
  },
  {
   "cell_type": "code",
   "execution_count": 22,
   "metadata": {},
   "outputs": [],
   "source": [
    "import qiskit\n",
    "from qiskit import IBMQ\n",
    "from qiskit import (\n",
    "    QuantumCircuit,\n",
    "    QuantumRegister,\n",
    "    ClassicalRegister,\n",
    "    execute,\n",
    "    Aer)\n",
    "from qiskit.visualization import plot_histogram\n",
    "import qiskit.aqua.circuits.gates.controlled_ry_gates"
   ]
  },
  {
   "cell_type": "code",
   "execution_count": 23,
   "metadata": {},
   "outputs": [
    {
     "data": {
      "text/plain": [
       "<qiskit.circuit.instructionset.InstructionSet at 0x7f7b491f16d8>"
      ]
     },
     "execution_count": 23,
     "metadata": {},
     "output_type": "execute_result"
    }
   ],
   "source": [
    "a = QuantumRegister(1,'a')\n",
    "m = QuantumRegister(1,'m')\n",
    "i = QuantumRegister(2,'i')\n",
    "r = QuantumRegister(1,'r')\n",
    "q = QuantumRegister(3,'q')\n",
    "c = QuantumRegister(1,'c')\n",
    "b = ClassicalRegister(3, 'bit')\n",
    "circuit = QuantumCircuit(a,m,i,r,q,c,b)\n",
    "\n",
    "circuit.h(a)\n",
    "circuit.h(m)\n",
    "circuit.h(i)\n",
    "circuit.h(c)\n",
    "\n",
    "circuit.barrier()\n",
    "\n",
    "# circuit.cry(theta, control, target)\n",
    "# circuit.mcry(theta, controls, target, ancillae)\n",
    "\n",
    "# >>> Encode the input vector >>>\n",
    "\n",
    "# |00>\n",
    "circuit.x(i)\n",
    "circuit.mcry(x0[0],a[:]+i[:],r[0],q)\n",
    "circuit.x(i)\n",
    "\n",
    "# |01>\n",
    "circuit.x(i[1])\n",
    "circuit.mcry(x0[1],a[:]+i[:],r[0],q)\n",
    "circuit.x(i[1])\n",
    "\n",
    "# |10>\n",
    "circuit.x(i[0])\n",
    "circuit.mcry(x0[2],a[:]+i[:],r[0],q)\n",
    "circuit.x(i[0])\n",
    "\n",
    "# |11>\n",
    "circuit.mcry(x0[3],a[:]+i[:],r[0],q)\n",
    "\n",
    "circuit.x(a)\n",
    "\n",
    "# <<< Encode the input vector <<<\n",
    "\n",
    "circuit.barrier()\n",
    "\n",
    "# >>> Encode the first training vector >>>\n",
    "\n",
    "circuit.x(c)\n",
    "circuit.x(m)\n",
    "\n",
    "# |00>\n",
    "circuit.x(i)\n",
    "circuit.mcry(t0[0],a[:]+i[:]+m[:]+c[:],r[0],q)\n",
    "circuit.x(i)\n",
    "\n",
    "# |01>\n",
    "circuit.x(i[1])\n",
    "circuit.mcry(t0[1],a[:]+i[:]+m[:]+c[:],r[0],q)\n",
    "circuit.x(i[1])\n",
    "\n",
    "# |10>\n",
    "circuit.x(i[0])\n",
    "circuit.mcry(t0[2],a[:]+i[:]+m[:]+c[:],r[0],q)\n",
    "circuit.x(i[0])\n",
    "\n",
    "# |11>\n",
    "circuit.mcry(t0[3],a[:]+i[:]+m[:]+c[:],r[0],q)\n",
    "\n",
    "circuit.x(c)\n",
    "circuit.x(m)\n",
    "\n",
    "# <<< Encode the first training vector <<<\n",
    "\n",
    "circuit.barrier()\n",
    "\n",
    "# >>> Encode the second training vector >>>\n",
    "\n",
    "# |00>\n",
    "circuit.x(i)\n",
    "circuit.mcry(t1[0],a[:]+i[:]+m[:]+c[:],r[0],q)\n",
    "circuit.x(i)\n",
    "\n",
    "# |01>\n",
    "circuit.x(i[1])\n",
    "circuit.mcry(t1[1],a[:]+i[:]+m[:]+c[:],r[0],q)\n",
    "circuit.x(i[1])\n",
    "\n",
    "# |10>\n",
    "circuit.x(i[0])\n",
    "circuit.mcry(t1[2],a[:]+i[:]+m[:]+c[:],r[0],q)\n",
    "circuit.x(i[0])\n",
    "\n",
    "# |11>\n",
    "circuit.mcry(t1[3],a[:]+i[:]+m[:]+c[:],r[0],q)\n",
    "\n",
    "# <<< Encode the second training vector <<<\n",
    "\n",
    "circuit.barrier()\n",
    "\n",
    "# circuit.ccx(a,m,i)\n",
    "# circuit.x(m)\n",
    "\n",
    "# circuit.barrier()\n",
    "\n",
    "# circuit.mcry(t1,a[:]+m[:],i[0],None)\n",
    "\n",
    "# circuit.barrier()\n",
    "\n",
    "# circuit.cx(m,c) Questo potrebbe essere una cosa che ho dimenticato\n",
    "\n",
    "# circuit.barrier()\n",
    "\n",
    "circuit.measure(r,b[0])\n",
    "\n",
    "circuit.h(a)\n",
    "\n",
    "circuit.measure(a,b[1])\n",
    "circuit.measure(c,b[2])\n",
    "\n",
    "# circuit.draw(output='mpl')"
   ]
  },
  {
   "cell_type": "code",
   "execution_count": 62,
   "metadata": {},
   "outputs": [
    {
     "name": "stdout",
     "output_type": "stream",
     "text": [
      "\n",
      "Total counts are: {'100': 3906, '110': 3, '001': 59, '111': 180, '101': 52, '011': 143, '010': 3, '000': 3846}\n"
     ]
    },
    {
     "data": {
      "image/png": "[encoded data removed]",
      "text/plain": [
       "<Figure size 504x360 with 1 Axes>"
      ]
     },
     "execution_count": 62,
     "metadata": {},
     "output_type": "execute_result"
    }
   ],
   "source": [
    "simulator = Aer.get_backend('qasm_simulator')\n",
    "job = execute(circuit, simulator, shots=8192)\n",
    "result = job.result()\n",
    "counts = result.get_counts(circuit)\n",
    "print(\"\\nTotal counts are:\",counts)\n",
    "plot_histogram(counts)"
   ]
  },
  {
   "cell_type": "code",
   "execution_count": 63,
   "metadata": {},
   "outputs": [
    {
     "data": {
      "image/png": "[encoded data removed]",
      "text/plain": [
       "<Figure size 504x360 with 1 Axes>"
      ]
     },
     "execution_count": 63,
     "metadata": {},
     "output_type": "execute_result"
    }
   ],
   "source": [
    "goodCounts = {k: counts[k] for k in counts.keys() & {'001', '101'}}\n",
    "plot_histogram(goodCounts)"
   ]
  },
  {
   "cell_type": "code",
   "execution_count": null,
   "metadata": {},
   "outputs": [],
   "source": []
  },
  {
   "cell_type": "code",
   "execution_count": null,
   "metadata": {},
   "outputs": [],
   "source": []
  },
  {
   "cell_type": "code",
   "execution_count": null,
   "metadata": {},
   "outputs": [],
   "source": []
  },
  {
   "cell_type": "code",
   "execution_count": null,
   "metadata": {},
   "outputs": [],
   "source": []
  },
  {
   "cell_type": "code",
   "execution_count": null,
   "metadata": {},
   "outputs": [],
   "source": []
  },
  {
   "cell_type": "code",
   "execution_count": null,
   "metadata": {},
   "outputs": [],
   "source": []
  },
  {
   "cell_type": "code",
   "execution_count": null,
   "metadata": {},
   "outputs": [],
   "source": []
  },
  {
   "cell_type": "code",
   "execution_count": null,
   "metadata": {},
   "outputs": [],
   "source": []
  },
  {
   "cell_type": "code",
   "execution_count": null,
   "metadata": {},
   "outputs": [],
   "source": []
  },
  {
   "cell_type": "code",
   "execution_count": null,
   "metadata": {},
   "outputs": [],
   "source": []
  }
 ],
 "metadata": {
  "kernelspec": {
   "display_name": "Python 3",
   "language": "python",
   "name": "python3"
  },
  "language_info": {
   "codemirror_mode": {
    "name": "ipython",
    "version": 3
   },
   "file_extension": ".py",
   "mimetype": "text/x-python",
   "name": "python",
   "nbconvert_exporter": "python",
   "pygments_lexer": "ipython3",
   "version": "3.7.3"
  }
 },
 "nbformat": 4,
 "nbformat_minor": 4
}
